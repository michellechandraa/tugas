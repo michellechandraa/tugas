{
  "nbformat": 4,
  "nbformat_minor": 0,
  "metadata": {
    "colab": {
      "provenance": [],
      "collapsed_sections": []
    },
    "kernelspec": {
      "name": "python3",
      "display_name": "Python 3"
    },
    "language_info": {
      "name": "python"
    }
  },
  "cells": [
    {
      "cell_type": "markdown",
      "metadata": {
        "id": "W2efh8eL23qK"
      },
      "source": [
        "# Exercise Week 8:Clustering\n",
        "-------------------------------------------\n",
        "\n",
        "dataset:\n",
        "https://raw.githubusercontent.com/michellechandraa/tugas/main/Property%20Dataset%20-%20Clustering%20-%20Data%20Rumah.csv"
      ]
    },
    {
      "cell_type": "markdown",
      "metadata": {
        "id": "Q93i8D5M3orJ"
      },
      "source": [
        "Import library yang dibutuhkan"
      ]
    },
    {
      "cell_type": "code",
      "metadata": {
        "id": "InthM3ox1VA1",
        "colab": {
          "base_uri": "https://localhost:8080/"
        },
        "outputId": "7f57e95e-e26f-4760-dbed-579ccbd95d89"
      },
      "source": [
        "import numpy as np\n",
        "import pandas as pd\n",
        "from matplotlib import pyplot as plt\n",
        "import seaborn as sns\n",
        "!pip install kneed"
      ],
      "execution_count": 279,
      "outputs": [
        {
          "output_type": "stream",
          "name": "stdout",
          "text": [
            "Looking in indexes: https://pypi.org/simple, https://us-python.pkg.dev/colab-wheels/public/simple/\n",
            "Requirement already satisfied: kneed in /usr/local/lib/python3.7/dist-packages (0.8.1)\n",
            "Requirement already satisfied: scipy>=1.0.0 in /usr/local/lib/python3.7/dist-packages (from kneed) (1.7.3)\n",
            "Requirement already satisfied: numpy>=1.14.2 in /usr/local/lib/python3.7/dist-packages (from kneed) (1.21.6)\n"
          ]
        }
      ]
    },
    {
      "cell_type": "markdown",
      "metadata": {
        "id": "5kQApGMa30nv"
      },
      "source": [
        "Load dataset"
      ]
    },
    {
      "cell_type": "code",
      "metadata": {
        "id": "RSXKxZMJ32tQ",
        "colab": {
          "base_uri": "https://localhost:8080/",
          "height": 406
        },
        "outputId": "89229dbb-fa2d-435e-ea77-ef0865594998"
      },
      "source": [
        "url = \"https://raw.githubusercontent.com/michellechandraa/tugas/main/Property%20Dataset%20-%20Clustering%20-%20Data%20Rumah.csv\"\n",
        "df = pd.read_csv(url)\n",
        "df.head(5)"
      ],
      "execution_count": 280,
      "outputs": [
        {
          "output_type": "execute_result",
          "data": {
            "text/plain": [
              "    Area Category       Nama Daerah  Luas Tanah (m2)  Luas Bangunan (m2)  \\\n",
              "0             NaN               NaN              NaN                 NaN   \n",
              "1  Below Standard  Setro Baru Utara             30.0                60.0   \n",
              "2        Standard          Kenjeran            170.0               170.0   \n",
              "3  Sangat Premium          Kenjeran            187.0               250.0   \n",
              "4         Premium          Kenjeran            350.0               600.0   \n",
              "\n",
              "   Jumlah Kamar  Jumlah Kamar Mandi  Tingkat/Lantai   \\\n",
              "0           NaN                 NaN              NaN   \n",
              "1           2.0                 1.0              2.0   \n",
              "2           5.0                 4.0              2.0   \n",
              "3           5.0                 5.0              2.0   \n",
              "4           5.0                 5.0              2.0   \n",
              "\n",
              "  Harga Penawaran (dari Owner) Terjual/Belum Arah Hadap Rumah  \\\n",
              "0                          NaN           NaN              NaN   \n",
              "1                    287799000         Belum              NaN   \n",
              "2                   2699999999         Belum          Selatan   \n",
              "3                   3100000000         Belum            Utara   \n",
              "4                   5000000000         Belum            Barat   \n",
              "\n",
              "                  Posisi Rumah Lebar Jalan Depan Rumah (ROW)  \n",
              "0                          NaN                           NaN  \n",
              "1                     Standard                     < 1 Mobil  \n",
              "2  Cul De Sac/Ujung Gang Buntu                     1-2 Mobil  \n",
              "3                     Standard                     1-2 Mobil  \n",
              "4                     Standard                     1-2 Mobil  "
            ],
            "text/html": [
              "\n",
              "  <div id=\"df-13177cb5-156d-456a-9247-2842bbee7f70\">\n",
              "    <div class=\"colab-df-container\">\n",
              "      <div>\n",
              "<style scoped>\n",
              "    .dataframe tbody tr th:only-of-type {\n",
              "        vertical-align: middle;\n",
              "    }\n",
              "\n",
              "    .dataframe tbody tr th {\n",
              "        vertical-align: top;\n",
              "    }\n",
              "\n",
              "    .dataframe thead th {\n",
              "        text-align: right;\n",
              "    }\n",
              "</style>\n",
              "<table border=\"1\" class=\"dataframe\">\n",
              "  <thead>\n",
              "    <tr style=\"text-align: right;\">\n",
              "      <th></th>\n",
              "      <th>Area Category</th>\n",
              "      <th>Nama Daerah</th>\n",
              "      <th>Luas Tanah (m2)</th>\n",
              "      <th>Luas Bangunan (m2)</th>\n",
              "      <th>Jumlah Kamar</th>\n",
              "      <th>Jumlah Kamar Mandi</th>\n",
              "      <th>Tingkat/Lantai</th>\n",
              "      <th>Harga Penawaran (dari Owner)</th>\n",
              "      <th>Terjual/Belum</th>\n",
              "      <th>Arah Hadap Rumah</th>\n",
              "      <th>Posisi Rumah</th>\n",
              "      <th>Lebar Jalan Depan Rumah (ROW)</th>\n",
              "    </tr>\n",
              "  </thead>\n",
              "  <tbody>\n",
              "    <tr>\n",
              "      <th>0</th>\n",
              "      <td>NaN</td>\n",
              "      <td>NaN</td>\n",
              "      <td>NaN</td>\n",
              "      <td>NaN</td>\n",
              "      <td>NaN</td>\n",
              "      <td>NaN</td>\n",
              "      <td>NaN</td>\n",
              "      <td>NaN</td>\n",
              "      <td>NaN</td>\n",
              "      <td>NaN</td>\n",
              "      <td>NaN</td>\n",
              "      <td>NaN</td>\n",
              "    </tr>\n",
              "    <tr>\n",
              "      <th>1</th>\n",
              "      <td>Below Standard</td>\n",
              "      <td>Setro Baru Utara</td>\n",
              "      <td>30.0</td>\n",
              "      <td>60.0</td>\n",
              "      <td>2.0</td>\n",
              "      <td>1.0</td>\n",
              "      <td>2.0</td>\n",
              "      <td>287799000</td>\n",
              "      <td>Belum</td>\n",
              "      <td>NaN</td>\n",
              "      <td>Standard</td>\n",
              "      <td>&lt; 1 Mobil</td>\n",
              "    </tr>\n",
              "    <tr>\n",
              "      <th>2</th>\n",
              "      <td>Standard</td>\n",
              "      <td>Kenjeran</td>\n",
              "      <td>170.0</td>\n",
              "      <td>170.0</td>\n",
              "      <td>5.0</td>\n",
              "      <td>4.0</td>\n",
              "      <td>2.0</td>\n",
              "      <td>2699999999</td>\n",
              "      <td>Belum</td>\n",
              "      <td>Selatan</td>\n",
              "      <td>Cul De Sac/Ujung Gang Buntu</td>\n",
              "      <td>1-2 Mobil</td>\n",
              "    </tr>\n",
              "    <tr>\n",
              "      <th>3</th>\n",
              "      <td>Sangat Premium</td>\n",
              "      <td>Kenjeran</td>\n",
              "      <td>187.0</td>\n",
              "      <td>250.0</td>\n",
              "      <td>5.0</td>\n",
              "      <td>5.0</td>\n",
              "      <td>2.0</td>\n",
              "      <td>3100000000</td>\n",
              "      <td>Belum</td>\n",
              "      <td>Utara</td>\n",
              "      <td>Standard</td>\n",
              "      <td>1-2 Mobil</td>\n",
              "    </tr>\n",
              "    <tr>\n",
              "      <th>4</th>\n",
              "      <td>Premium</td>\n",
              "      <td>Kenjeran</td>\n",
              "      <td>350.0</td>\n",
              "      <td>600.0</td>\n",
              "      <td>5.0</td>\n",
              "      <td>5.0</td>\n",
              "      <td>2.0</td>\n",
              "      <td>5000000000</td>\n",
              "      <td>Belum</td>\n",
              "      <td>Barat</td>\n",
              "      <td>Standard</td>\n",
              "      <td>1-2 Mobil</td>\n",
              "    </tr>\n",
              "  </tbody>\n",
              "</table>\n",
              "</div>\n",
              "      <button class=\"colab-df-convert\" onclick=\"convertToInteractive('df-13177cb5-156d-456a-9247-2842bbee7f70')\"\n",
              "              title=\"Convert this dataframe to an interactive table.\"\n",
              "              style=\"display:none;\">\n",
              "        \n",
              "  <svg xmlns=\"http://www.w3.org/2000/svg\" height=\"24px\"viewBox=\"0 0 24 24\"\n",
              "       width=\"24px\">\n",
              "    <path d=\"M0 0h24v24H0V0z\" fill=\"none\"/>\n",
              "    <path d=\"M18.56 5.44l.94 2.06.94-2.06 2.06-.94-2.06-.94-.94-2.06-.94 2.06-2.06.94zm-11 1L8.5 8.5l.94-2.06 2.06-.94-2.06-.94L8.5 2.5l-.94 2.06-2.06.94zm10 10l.94 2.06.94-2.06 2.06-.94-2.06-.94-.94-2.06-.94 2.06-2.06.94z\"/><path d=\"M17.41 7.96l-1.37-1.37c-.4-.4-.92-.59-1.43-.59-.52 0-1.04.2-1.43.59L10.3 9.45l-7.72 7.72c-.78.78-.78 2.05 0 2.83L4 21.41c.39.39.9.59 1.41.59.51 0 1.02-.2 1.41-.59l7.78-7.78 2.81-2.81c.8-.78.8-2.07 0-2.86zM5.41 20L4 18.59l7.72-7.72 1.47 1.35L5.41 20z\"/>\n",
              "  </svg>\n",
              "      </button>\n",
              "      \n",
              "  <style>\n",
              "    .colab-df-container {\n",
              "      display:flex;\n",
              "      flex-wrap:wrap;\n",
              "      gap: 12px;\n",
              "    }\n",
              "\n",
              "    .colab-df-convert {\n",
              "      background-color: #E8F0FE;\n",
              "      border: none;\n",
              "      border-radius: 50%;\n",
              "      cursor: pointer;\n",
              "      display: none;\n",
              "      fill: #1967D2;\n",
              "      height: 32px;\n",
              "      padding: 0 0 0 0;\n",
              "      width: 32px;\n",
              "    }\n",
              "\n",
              "    .colab-df-convert:hover {\n",
              "      background-color: #E2EBFA;\n",
              "      box-shadow: 0px 1px 2px rgba(60, 64, 67, 0.3), 0px 1px 3px 1px rgba(60, 64, 67, 0.15);\n",
              "      fill: #174EA6;\n",
              "    }\n",
              "\n",
              "    [theme=dark] .colab-df-convert {\n",
              "      background-color: #3B4455;\n",
              "      fill: #D2E3FC;\n",
              "    }\n",
              "\n",
              "    [theme=dark] .colab-df-convert:hover {\n",
              "      background-color: #434B5C;\n",
              "      box-shadow: 0px 1px 3px 1px rgba(0, 0, 0, 0.15);\n",
              "      filter: drop-shadow(0px 1px 2px rgba(0, 0, 0, 0.3));\n",
              "      fill: #FFFFFF;\n",
              "    }\n",
              "  </style>\n",
              "\n",
              "      <script>\n",
              "        const buttonEl =\n",
              "          document.querySelector('#df-13177cb5-156d-456a-9247-2842bbee7f70 button.colab-df-convert');\n",
              "        buttonEl.style.display =\n",
              "          google.colab.kernel.accessAllowed ? 'block' : 'none';\n",
              "\n",
              "        async function convertToInteractive(key) {\n",
              "          const element = document.querySelector('#df-13177cb5-156d-456a-9247-2842bbee7f70');\n",
              "          const dataTable =\n",
              "            await google.colab.kernel.invokeFunction('convertToInteractive',\n",
              "                                                     [key], {});\n",
              "          if (!dataTable) return;\n",
              "\n",
              "          const docLinkHtml = 'Like what you see? Visit the ' +\n",
              "            '<a target=\"_blank\" href=https://colab.research.google.com/notebooks/data_table.ipynb>data table notebook</a>'\n",
              "            + ' to learn more about interactive tables.';\n",
              "          element.innerHTML = '';\n",
              "          dataTable['output_type'] = 'display_data';\n",
              "          await google.colab.output.renderOutput(dataTable, element);\n",
              "          const docLink = document.createElement('div');\n",
              "          docLink.innerHTML = docLinkHtml;\n",
              "          element.appendChild(docLink);\n",
              "        }\n",
              "      </script>\n",
              "    </div>\n",
              "  </div>\n",
              "  "
            ]
          },
          "metadata": {},
          "execution_count": 280
        }
      ]
    },
    {
      "cell_type": "code",
      "source": [
        "df.describe()"
      ],
      "metadata": {
        "id": "REIB_55O6dWa",
        "outputId": "9ab96519-3b7f-49bd-99ef-f491ade5f97f",
        "colab": {
          "base_uri": "https://localhost:8080/",
          "height": 300
        }
      },
      "execution_count": 281,
      "outputs": [
        {
          "output_type": "execute_result",
          "data": {
            "text/plain": [
              "       Luas Tanah (m2)  Luas Bangunan (m2)  Jumlah Kamar  Jumlah Kamar Mandi  \\\n",
              "count       307.000000          307.000000    307.000000          306.000000   \n",
              "mean        226.908795          266.579805      4.276873            3.339869   \n",
              "std         202.149571          213.501196      1.646412            1.632311   \n",
              "min          14.000000           14.000000      1.000000            1.000000   \n",
              "25%          96.000000          120.000000      3.000000            2.000000   \n",
              "50%         162.000000          200.000000      4.000000            3.000000   \n",
              "75%         286.000000          332.500000      5.000000            4.000000   \n",
              "max        1561.000000         1200.000000     13.000000           13.000000   \n",
              "\n",
              "       Tingkat/Lantai   \n",
              "count       306.000000  \n",
              "mean          1.856209  \n",
              "std           0.512702  \n",
              "min           1.000000  \n",
              "25%           2.000000  \n",
              "50%           2.000000  \n",
              "75%           2.000000  \n",
              "max           4.000000  "
            ],
            "text/html": [
              "\n",
              "  <div id=\"df-0a491f79-f955-43cb-8172-cedd49a39bdf\">\n",
              "    <div class=\"colab-df-container\">\n",
              "      <div>\n",
              "<style scoped>\n",
              "    .dataframe tbody tr th:only-of-type {\n",
              "        vertical-align: middle;\n",
              "    }\n",
              "\n",
              "    .dataframe tbody tr th {\n",
              "        vertical-align: top;\n",
              "    }\n",
              "\n",
              "    .dataframe thead th {\n",
              "        text-align: right;\n",
              "    }\n",
              "</style>\n",
              "<table border=\"1\" class=\"dataframe\">\n",
              "  <thead>\n",
              "    <tr style=\"text-align: right;\">\n",
              "      <th></th>\n",
              "      <th>Luas Tanah (m2)</th>\n",
              "      <th>Luas Bangunan (m2)</th>\n",
              "      <th>Jumlah Kamar</th>\n",
              "      <th>Jumlah Kamar Mandi</th>\n",
              "      <th>Tingkat/Lantai</th>\n",
              "    </tr>\n",
              "  </thead>\n",
              "  <tbody>\n",
              "    <tr>\n",
              "      <th>count</th>\n",
              "      <td>307.000000</td>\n",
              "      <td>307.000000</td>\n",
              "      <td>307.000000</td>\n",
              "      <td>306.000000</td>\n",
              "      <td>306.000000</td>\n",
              "    </tr>\n",
              "    <tr>\n",
              "      <th>mean</th>\n",
              "      <td>226.908795</td>\n",
              "      <td>266.579805</td>\n",
              "      <td>4.276873</td>\n",
              "      <td>3.339869</td>\n",
              "      <td>1.856209</td>\n",
              "    </tr>\n",
              "    <tr>\n",
              "      <th>std</th>\n",
              "      <td>202.149571</td>\n",
              "      <td>213.501196</td>\n",
              "      <td>1.646412</td>\n",
              "      <td>1.632311</td>\n",
              "      <td>0.512702</td>\n",
              "    </tr>\n",
              "    <tr>\n",
              "      <th>min</th>\n",
              "      <td>14.000000</td>\n",
              "      <td>14.000000</td>\n",
              "      <td>1.000000</td>\n",
              "      <td>1.000000</td>\n",
              "      <td>1.000000</td>\n",
              "    </tr>\n",
              "    <tr>\n",
              "      <th>25%</th>\n",
              "      <td>96.000000</td>\n",
              "      <td>120.000000</td>\n",
              "      <td>3.000000</td>\n",
              "      <td>2.000000</td>\n",
              "      <td>2.000000</td>\n",
              "    </tr>\n",
              "    <tr>\n",
              "      <th>50%</th>\n",
              "      <td>162.000000</td>\n",
              "      <td>200.000000</td>\n",
              "      <td>4.000000</td>\n",
              "      <td>3.000000</td>\n",
              "      <td>2.000000</td>\n",
              "    </tr>\n",
              "    <tr>\n",
              "      <th>75%</th>\n",
              "      <td>286.000000</td>\n",
              "      <td>332.500000</td>\n",
              "      <td>5.000000</td>\n",
              "      <td>4.000000</td>\n",
              "      <td>2.000000</td>\n",
              "    </tr>\n",
              "    <tr>\n",
              "      <th>max</th>\n",
              "      <td>1561.000000</td>\n",
              "      <td>1200.000000</td>\n",
              "      <td>13.000000</td>\n",
              "      <td>13.000000</td>\n",
              "      <td>4.000000</td>\n",
              "    </tr>\n",
              "  </tbody>\n",
              "</table>\n",
              "</div>\n",
              "      <button class=\"colab-df-convert\" onclick=\"convertToInteractive('df-0a491f79-f955-43cb-8172-cedd49a39bdf')\"\n",
              "              title=\"Convert this dataframe to an interactive table.\"\n",
              "              style=\"display:none;\">\n",
              "        \n",
              "  <svg xmlns=\"http://www.w3.org/2000/svg\" height=\"24px\"viewBox=\"0 0 24 24\"\n",
              "       width=\"24px\">\n",
              "    <path d=\"M0 0h24v24H0V0z\" fill=\"none\"/>\n",
              "    <path d=\"M18.56 5.44l.94 2.06.94-2.06 2.06-.94-2.06-.94-.94-2.06-.94 2.06-2.06.94zm-11 1L8.5 8.5l.94-2.06 2.06-.94-2.06-.94L8.5 2.5l-.94 2.06-2.06.94zm10 10l.94 2.06.94-2.06 2.06-.94-2.06-.94-.94-2.06-.94 2.06-2.06.94z\"/><path d=\"M17.41 7.96l-1.37-1.37c-.4-.4-.92-.59-1.43-.59-.52 0-1.04.2-1.43.59L10.3 9.45l-7.72 7.72c-.78.78-.78 2.05 0 2.83L4 21.41c.39.39.9.59 1.41.59.51 0 1.02-.2 1.41-.59l7.78-7.78 2.81-2.81c.8-.78.8-2.07 0-2.86zM5.41 20L4 18.59l7.72-7.72 1.47 1.35L5.41 20z\"/>\n",
              "  </svg>\n",
              "      </button>\n",
              "      \n",
              "  <style>\n",
              "    .colab-df-container {\n",
              "      display:flex;\n",
              "      flex-wrap:wrap;\n",
              "      gap: 12px;\n",
              "    }\n",
              "\n",
              "    .colab-df-convert {\n",
              "      background-color: #E8F0FE;\n",
              "      border: none;\n",
              "      border-radius: 50%;\n",
              "      cursor: pointer;\n",
              "      display: none;\n",
              "      fill: #1967D2;\n",
              "      height: 32px;\n",
              "      padding: 0 0 0 0;\n",
              "      width: 32px;\n",
              "    }\n",
              "\n",
              "    .colab-df-convert:hover {\n",
              "      background-color: #E2EBFA;\n",
              "      box-shadow: 0px 1px 2px rgba(60, 64, 67, 0.3), 0px 1px 3px 1px rgba(60, 64, 67, 0.15);\n",
              "      fill: #174EA6;\n",
              "    }\n",
              "\n",
              "    [theme=dark] .colab-df-convert {\n",
              "      background-color: #3B4455;\n",
              "      fill: #D2E3FC;\n",
              "    }\n",
              "\n",
              "    [theme=dark] .colab-df-convert:hover {\n",
              "      background-color: #434B5C;\n",
              "      box-shadow: 0px 1px 3px 1px rgba(0, 0, 0, 0.15);\n",
              "      filter: drop-shadow(0px 1px 2px rgba(0, 0, 0, 0.3));\n",
              "      fill: #FFFFFF;\n",
              "    }\n",
              "  </style>\n",
              "\n",
              "      <script>\n",
              "        const buttonEl =\n",
              "          document.querySelector('#df-0a491f79-f955-43cb-8172-cedd49a39bdf button.colab-df-convert');\n",
              "        buttonEl.style.display =\n",
              "          google.colab.kernel.accessAllowed ? 'block' : 'none';\n",
              "\n",
              "        async function convertToInteractive(key) {\n",
              "          const element = document.querySelector('#df-0a491f79-f955-43cb-8172-cedd49a39bdf');\n",
              "          const dataTable =\n",
              "            await google.colab.kernel.invokeFunction('convertToInteractive',\n",
              "                                                     [key], {});\n",
              "          if (!dataTable) return;\n",
              "\n",
              "          const docLinkHtml = 'Like what you see? Visit the ' +\n",
              "            '<a target=\"_blank\" href=https://colab.research.google.com/notebooks/data_table.ipynb>data table notebook</a>'\n",
              "            + ' to learn more about interactive tables.';\n",
              "          element.innerHTML = '';\n",
              "          dataTable['output_type'] = 'display_data';\n",
              "          await google.colab.output.renderOutput(dataTable, element);\n",
              "          const docLink = document.createElement('div');\n",
              "          docLink.innerHTML = docLinkHtml;\n",
              "          element.appendChild(docLink);\n",
              "        }\n",
              "      </script>\n",
              "    </div>\n",
              "  </div>\n",
              "  "
            ]
          },
          "metadata": {},
          "execution_count": 281
        }
      ]
    },
    {
      "cell_type": "code",
      "source": [
        "df.info()"
      ],
      "metadata": {
        "colab": {
          "base_uri": "https://localhost:8080/"
        },
        "id": "4qGn83IJAK1V",
        "outputId": "ec9a889f-5f28-4663-b6f6-02599c1d2167"
      },
      "execution_count": 282,
      "outputs": [
        {
          "output_type": "stream",
          "name": "stdout",
          "text": [
            "<class 'pandas.core.frame.DataFrame'>\n",
            "RangeIndex: 308 entries, 0 to 307\n",
            "Data columns (total 12 columns):\n",
            " #   Column                         Non-Null Count  Dtype  \n",
            "---  ------                         --------------  -----  \n",
            " 0   Area Category                  307 non-null    object \n",
            " 1   Nama Daerah                    307 non-null    object \n",
            " 2   Luas Tanah (m2)                307 non-null    float64\n",
            " 3   Luas Bangunan (m2)             307 non-null    float64\n",
            " 4   Jumlah Kamar                   307 non-null    float64\n",
            " 5   Jumlah Kamar Mandi             306 non-null    float64\n",
            " 6   Tingkat/Lantai                 306 non-null    float64\n",
            " 7   Harga Penawaran (dari Owner)   307 non-null    object \n",
            " 8   Terjual/Belum                  307 non-null    object \n",
            " 9   Arah Hadap Rumah               225 non-null    object \n",
            " 10  Posisi Rumah                   192 non-null    object \n",
            " 11  Lebar Jalan Depan Rumah (ROW)  266 non-null    object \n",
            "dtypes: float64(5), object(7)\n",
            "memory usage: 29.0+ KB\n"
          ]
        }
      ]
    },
    {
      "cell_type": "markdown",
      "metadata": {
        "id": "wLpmamec9jig"
      },
      "source": [
        "Data Preparation\n",
        "\n",
        "1. cek apakah masih ada missing value pada data\n",
        "2. lakukan label encoder\n",
        "3. lakukan feature scaling pada data"
      ]
    },
    {
      "cell_type": "code",
      "metadata": {
        "id": "fAfk6XsgLeVl",
        "colab": {
          "base_uri": "https://localhost:8080/"
        },
        "outputId": "9bd3463e-032a-4af3-dd72-78f2ec61192d"
      },
      "source": [
        "df.isnull().sum()"
      ],
      "execution_count": 283,
      "outputs": [
        {
          "output_type": "execute_result",
          "data": {
            "text/plain": [
              "Area Category                      1\n",
              "Nama Daerah                        1\n",
              "Luas Tanah (m2)                    1\n",
              "Luas Bangunan (m2)                 1\n",
              "Jumlah Kamar                       1\n",
              "Jumlah Kamar Mandi                 2\n",
              "Tingkat/Lantai                     2\n",
              "Harga Penawaran (dari Owner)       1\n",
              "Terjual/Belum                      1\n",
              "Arah Hadap Rumah                  83\n",
              "Posisi Rumah                     116\n",
              "Lebar Jalan Depan Rumah (ROW)     42\n",
              "dtype: int64"
            ]
          },
          "metadata": {},
          "execution_count": 283
        }
      ]
    },
    {
      "cell_type": "code",
      "source": [
        "null_percent = 100 * df.isnull().sum() / len(df)\n",
        "null_percent"
      ],
      "metadata": {
        "colab": {
          "base_uri": "https://localhost:8080/"
        },
        "id": "dwaFwtz5BFZW",
        "outputId": "1f0e71d5-c32d-4c5a-dcb7-a6576f9130f8"
      },
      "execution_count": 284,
      "outputs": [
        {
          "output_type": "execute_result",
          "data": {
            "text/plain": [
              "Area Category                     0.324675\n",
              "Nama Daerah                       0.324675\n",
              "Luas Tanah (m2)                   0.324675\n",
              "Luas Bangunan (m2)                0.324675\n",
              "Jumlah Kamar                      0.324675\n",
              "Jumlah Kamar Mandi                0.649351\n",
              "Tingkat/Lantai                    0.649351\n",
              "Harga Penawaran (dari Owner)      0.324675\n",
              "Terjual/Belum                     0.324675\n",
              "Arah Hadap Rumah                 26.948052\n",
              "Posisi Rumah                     37.662338\n",
              "Lebar Jalan Depan Rumah (ROW)    13.636364\n",
              "dtype: float64"
            ]
          },
          "metadata": {},
          "execution_count": 284
        }
      ]
    },
    {
      "cell_type": "markdown",
      "source": [
        "[michan] Karena terlalu banyak null nya tetapi tidak sampai 50%, jadi lebih baik diisi saja menggunakan SimpleImputer"
      ],
      "metadata": {
        "id": "-KzjgP9fAzBk"
      }
    },
    {
      "cell_type": "code",
      "source": [
        "from sklearn.impute import SimpleImputer\n",
        "\n",
        "# strategy menggunakan mean\n",
        "imputer = SimpleImputer(strategy='most_frequent')\n",
        "df.iloc[:,:] = imputer.fit_transform(df)\n",
        "df.head(5)"
      ],
      "metadata": {
        "id": "pG9CYi3C7Iq9",
        "colab": {
          "base_uri": "https://localhost:8080/",
          "height": 406
        },
        "outputId": "8ca31923-b8da-4a68-e81b-8c60d3030830"
      },
      "execution_count": 285,
      "outputs": [
        {
          "output_type": "execute_result",
          "data": {
            "text/plain": [
              "    Area Category       Nama Daerah  Luas Tanah (m2)  Luas Bangunan (m2)  \\\n",
              "0        Standard         Citraland            240.0               300.0   \n",
              "1  Below Standard  Setro Baru Utara             30.0                60.0   \n",
              "2        Standard          Kenjeran            170.0               170.0   \n",
              "3  Sangat Premium          Kenjeran            187.0               250.0   \n",
              "4         Premium          Kenjeran            350.0               600.0   \n",
              "\n",
              "   Jumlah Kamar  Jumlah Kamar Mandi  Tingkat/Lantai   \\\n",
              "0           4.0                 3.0              2.0   \n",
              "1           2.0                 1.0              2.0   \n",
              "2           5.0                 4.0              2.0   \n",
              "3           5.0                 5.0              2.0   \n",
              "4           5.0                 5.0              2.0   \n",
              "\n",
              "  Harga Penawaran (dari Owner) Terjual/Belum Arah Hadap Rumah  \\\n",
              "0                   3500000000         Belum            Utara   \n",
              "1                    287799000         Belum            Utara   \n",
              "2                   2699999999         Belum          Selatan   \n",
              "3                   3100000000         Belum            Utara   \n",
              "4                   5000000000         Belum            Barat   \n",
              "\n",
              "                  Posisi Rumah Lebar Jalan Depan Rumah (ROW)  \n",
              "0                     Standard                     1-2 Mobil  \n",
              "1                     Standard                     < 1 Mobil  \n",
              "2  Cul De Sac/Ujung Gang Buntu                     1-2 Mobil  \n",
              "3                     Standard                     1-2 Mobil  \n",
              "4                     Standard                     1-2 Mobil  "
            ],
            "text/html": [
              "\n",
              "  <div id=\"df-250a2001-8b18-41ae-843e-1f580d3056d0\">\n",
              "    <div class=\"colab-df-container\">\n",
              "      <div>\n",
              "<style scoped>\n",
              "    .dataframe tbody tr th:only-of-type {\n",
              "        vertical-align: middle;\n",
              "    }\n",
              "\n",
              "    .dataframe tbody tr th {\n",
              "        vertical-align: top;\n",
              "    }\n",
              "\n",
              "    .dataframe thead th {\n",
              "        text-align: right;\n",
              "    }\n",
              "</style>\n",
              "<table border=\"1\" class=\"dataframe\">\n",
              "  <thead>\n",
              "    <tr style=\"text-align: right;\">\n",
              "      <th></th>\n",
              "      <th>Area Category</th>\n",
              "      <th>Nama Daerah</th>\n",
              "      <th>Luas Tanah (m2)</th>\n",
              "      <th>Luas Bangunan (m2)</th>\n",
              "      <th>Jumlah Kamar</th>\n",
              "      <th>Jumlah Kamar Mandi</th>\n",
              "      <th>Tingkat/Lantai</th>\n",
              "      <th>Harga Penawaran (dari Owner)</th>\n",
              "      <th>Terjual/Belum</th>\n",
              "      <th>Arah Hadap Rumah</th>\n",
              "      <th>Posisi Rumah</th>\n",
              "      <th>Lebar Jalan Depan Rumah (ROW)</th>\n",
              "    </tr>\n",
              "  </thead>\n",
              "  <tbody>\n",
              "    <tr>\n",
              "      <th>0</th>\n",
              "      <td>Standard</td>\n",
              "      <td>Citraland</td>\n",
              "      <td>240.0</td>\n",
              "      <td>300.0</td>\n",
              "      <td>4.0</td>\n",
              "      <td>3.0</td>\n",
              "      <td>2.0</td>\n",
              "      <td>3500000000</td>\n",
              "      <td>Belum</td>\n",
              "      <td>Utara</td>\n",
              "      <td>Standard</td>\n",
              "      <td>1-2 Mobil</td>\n",
              "    </tr>\n",
              "    <tr>\n",
              "      <th>1</th>\n",
              "      <td>Below Standard</td>\n",
              "      <td>Setro Baru Utara</td>\n",
              "      <td>30.0</td>\n",
              "      <td>60.0</td>\n",
              "      <td>2.0</td>\n",
              "      <td>1.0</td>\n",
              "      <td>2.0</td>\n",
              "      <td>287799000</td>\n",
              "      <td>Belum</td>\n",
              "      <td>Utara</td>\n",
              "      <td>Standard</td>\n",
              "      <td>&lt; 1 Mobil</td>\n",
              "    </tr>\n",
              "    <tr>\n",
              "      <th>2</th>\n",
              "      <td>Standard</td>\n",
              "      <td>Kenjeran</td>\n",
              "      <td>170.0</td>\n",
              "      <td>170.0</td>\n",
              "      <td>5.0</td>\n",
              "      <td>4.0</td>\n",
              "      <td>2.0</td>\n",
              "      <td>2699999999</td>\n",
              "      <td>Belum</td>\n",
              "      <td>Selatan</td>\n",
              "      <td>Cul De Sac/Ujung Gang Buntu</td>\n",
              "      <td>1-2 Mobil</td>\n",
              "    </tr>\n",
              "    <tr>\n",
              "      <th>3</th>\n",
              "      <td>Sangat Premium</td>\n",
              "      <td>Kenjeran</td>\n",
              "      <td>187.0</td>\n",
              "      <td>250.0</td>\n",
              "      <td>5.0</td>\n",
              "      <td>5.0</td>\n",
              "      <td>2.0</td>\n",
              "      <td>3100000000</td>\n",
              "      <td>Belum</td>\n",
              "      <td>Utara</td>\n",
              "      <td>Standard</td>\n",
              "      <td>1-2 Mobil</td>\n",
              "    </tr>\n",
              "    <tr>\n",
              "      <th>4</th>\n",
              "      <td>Premium</td>\n",
              "      <td>Kenjeran</td>\n",
              "      <td>350.0</td>\n",
              "      <td>600.0</td>\n",
              "      <td>5.0</td>\n",
              "      <td>5.0</td>\n",
              "      <td>2.0</td>\n",
              "      <td>5000000000</td>\n",
              "      <td>Belum</td>\n",
              "      <td>Barat</td>\n",
              "      <td>Standard</td>\n",
              "      <td>1-2 Mobil</td>\n",
              "    </tr>\n",
              "  </tbody>\n",
              "</table>\n",
              "</div>\n",
              "      <button class=\"colab-df-convert\" onclick=\"convertToInteractive('df-250a2001-8b18-41ae-843e-1f580d3056d0')\"\n",
              "              title=\"Convert this dataframe to an interactive table.\"\n",
              "              style=\"display:none;\">\n",
              "        \n",
              "  <svg xmlns=\"http://www.w3.org/2000/svg\" height=\"24px\"viewBox=\"0 0 24 24\"\n",
              "       width=\"24px\">\n",
              "    <path d=\"M0 0h24v24H0V0z\" fill=\"none\"/>\n",
              "    <path d=\"M18.56 5.44l.94 2.06.94-2.06 2.06-.94-2.06-.94-.94-2.06-.94 2.06-2.06.94zm-11 1L8.5 8.5l.94-2.06 2.06-.94-2.06-.94L8.5 2.5l-.94 2.06-2.06.94zm10 10l.94 2.06.94-2.06 2.06-.94-2.06-.94-.94-2.06-.94 2.06-2.06.94z\"/><path d=\"M17.41 7.96l-1.37-1.37c-.4-.4-.92-.59-1.43-.59-.52 0-1.04.2-1.43.59L10.3 9.45l-7.72 7.72c-.78.78-.78 2.05 0 2.83L4 21.41c.39.39.9.59 1.41.59.51 0 1.02-.2 1.41-.59l7.78-7.78 2.81-2.81c.8-.78.8-2.07 0-2.86zM5.41 20L4 18.59l7.72-7.72 1.47 1.35L5.41 20z\"/>\n",
              "  </svg>\n",
              "      </button>\n",
              "      \n",
              "  <style>\n",
              "    .colab-df-container {\n",
              "      display:flex;\n",
              "      flex-wrap:wrap;\n",
              "      gap: 12px;\n",
              "    }\n",
              "\n",
              "    .colab-df-convert {\n",
              "      background-color: #E8F0FE;\n",
              "      border: none;\n",
              "      border-radius: 50%;\n",
              "      cursor: pointer;\n",
              "      display: none;\n",
              "      fill: #1967D2;\n",
              "      height: 32px;\n",
              "      padding: 0 0 0 0;\n",
              "      width: 32px;\n",
              "    }\n",
              "\n",
              "    .colab-df-convert:hover {\n",
              "      background-color: #E2EBFA;\n",
              "      box-shadow: 0px 1px 2px rgba(60, 64, 67, 0.3), 0px 1px 3px 1px rgba(60, 64, 67, 0.15);\n",
              "      fill: #174EA6;\n",
              "    }\n",
              "\n",
              "    [theme=dark] .colab-df-convert {\n",
              "      background-color: #3B4455;\n",
              "      fill: #D2E3FC;\n",
              "    }\n",
              "\n",
              "    [theme=dark] .colab-df-convert:hover {\n",
              "      background-color: #434B5C;\n",
              "      box-shadow: 0px 1px 3px 1px rgba(0, 0, 0, 0.15);\n",
              "      filter: drop-shadow(0px 1px 2px rgba(0, 0, 0, 0.3));\n",
              "      fill: #FFFFFF;\n",
              "    }\n",
              "  </style>\n",
              "\n",
              "      <script>\n",
              "        const buttonEl =\n",
              "          document.querySelector('#df-250a2001-8b18-41ae-843e-1f580d3056d0 button.colab-df-convert');\n",
              "        buttonEl.style.display =\n",
              "          google.colab.kernel.accessAllowed ? 'block' : 'none';\n",
              "\n",
              "        async function convertToInteractive(key) {\n",
              "          const element = document.querySelector('#df-250a2001-8b18-41ae-843e-1f580d3056d0');\n",
              "          const dataTable =\n",
              "            await google.colab.kernel.invokeFunction('convertToInteractive',\n",
              "                                                     [key], {});\n",
              "          if (!dataTable) return;\n",
              "\n",
              "          const docLinkHtml = 'Like what you see? Visit the ' +\n",
              "            '<a target=\"_blank\" href=https://colab.research.google.com/notebooks/data_table.ipynb>data table notebook</a>'\n",
              "            + ' to learn more about interactive tables.';\n",
              "          element.innerHTML = '';\n",
              "          dataTable['output_type'] = 'display_data';\n",
              "          await google.colab.output.renderOutput(dataTable, element);\n",
              "          const docLink = document.createElement('div');\n",
              "          docLink.innerHTML = docLinkHtml;\n",
              "          element.appendChild(docLink);\n",
              "        }\n",
              "      </script>\n",
              "    </div>\n",
              "  </div>\n",
              "  "
            ]
          },
          "metadata": {},
          "execution_count": 285
        }
      ]
    },
    {
      "cell_type": "code",
      "source": [
        "df.isnull().sum()"
      ],
      "metadata": {
        "colab": {
          "base_uri": "https://localhost:8080/"
        },
        "id": "P39tcuz77l4m",
        "outputId": "a3c98929-ad18-407b-f733-2bd02af6dbf2"
      },
      "execution_count": 286,
      "outputs": [
        {
          "output_type": "execute_result",
          "data": {
            "text/plain": [
              "Area Category                    0\n",
              "Nama Daerah                      0\n",
              "Luas Tanah (m2)                  0\n",
              "Luas Bangunan (m2)               0\n",
              "Jumlah Kamar                     0\n",
              "Jumlah Kamar Mandi               0\n",
              "Tingkat/Lantai                   0\n",
              "Harga Penawaran (dari Owner)     0\n",
              "Terjual/Belum                    0\n",
              "Arah Hadap Rumah                 0\n",
              "Posisi Rumah                     0\n",
              "Lebar Jalan Depan Rumah (ROW)    0\n",
              "dtype: int64"
            ]
          },
          "metadata": {},
          "execution_count": 286
        }
      ]
    },
    {
      "cell_type": "markdown",
      "source": [
        "[michan] drop column 'Nama Daerah' karena berbeda-beda semua"
      ],
      "metadata": {
        "id": "bX3c5v9bCx67"
      }
    },
    {
      "cell_type": "code",
      "source": [
        "df.drop(columns=['Nama Daerah'], inplace=True)\n",
        "df.head(5)"
      ],
      "metadata": {
        "colab": {
          "base_uri": "https://localhost:8080/",
          "height": 354
        },
        "id": "XBrU-DGYCkND",
        "outputId": "3881fe3d-aa42-4432-b73f-7198060a6aa1"
      },
      "execution_count": 287,
      "outputs": [
        {
          "output_type": "execute_result",
          "data": {
            "text/plain": [
              "    Area Category  Luas Tanah (m2)  Luas Bangunan (m2)  Jumlah Kamar  \\\n",
              "0        Standard            240.0               300.0           4.0   \n",
              "1  Below Standard             30.0                60.0           2.0   \n",
              "2        Standard            170.0               170.0           5.0   \n",
              "3  Sangat Premium            187.0               250.0           5.0   \n",
              "4         Premium            350.0               600.0           5.0   \n",
              "\n",
              "   Jumlah Kamar Mandi  Tingkat/Lantai  Harga Penawaran (dari Owner)  \\\n",
              "0                 3.0              2.0                   3500000000   \n",
              "1                 1.0              2.0                    287799000   \n",
              "2                 4.0              2.0                   2699999999   \n",
              "3                 5.0              2.0                   3100000000   \n",
              "4                 5.0              2.0                   5000000000   \n",
              "\n",
              "  Terjual/Belum Arah Hadap Rumah                 Posisi Rumah  \\\n",
              "0         Belum            Utara                     Standard   \n",
              "1         Belum            Utara                     Standard   \n",
              "2         Belum          Selatan  Cul De Sac/Ujung Gang Buntu   \n",
              "3         Belum            Utara                     Standard   \n",
              "4         Belum            Barat                     Standard   \n",
              "\n",
              "  Lebar Jalan Depan Rumah (ROW)  \n",
              "0                     1-2 Mobil  \n",
              "1                     < 1 Mobil  \n",
              "2                     1-2 Mobil  \n",
              "3                     1-2 Mobil  \n",
              "4                     1-2 Mobil  "
            ],
            "text/html": [
              "\n",
              "  <div id=\"df-d70bf8c9-3f7e-49e4-bfd8-d3e96fb75006\">\n",
              "    <div class=\"colab-df-container\">\n",
              "      <div>\n",
              "<style scoped>\n",
              "    .dataframe tbody tr th:only-of-type {\n",
              "        vertical-align: middle;\n",
              "    }\n",
              "\n",
              "    .dataframe tbody tr th {\n",
              "        vertical-align: top;\n",
              "    }\n",
              "\n",
              "    .dataframe thead th {\n",
              "        text-align: right;\n",
              "    }\n",
              "</style>\n",
              "<table border=\"1\" class=\"dataframe\">\n",
              "  <thead>\n",
              "    <tr style=\"text-align: right;\">\n",
              "      <th></th>\n",
              "      <th>Area Category</th>\n",
              "      <th>Luas Tanah (m2)</th>\n",
              "      <th>Luas Bangunan (m2)</th>\n",
              "      <th>Jumlah Kamar</th>\n",
              "      <th>Jumlah Kamar Mandi</th>\n",
              "      <th>Tingkat/Lantai</th>\n",
              "      <th>Harga Penawaran (dari Owner)</th>\n",
              "      <th>Terjual/Belum</th>\n",
              "      <th>Arah Hadap Rumah</th>\n",
              "      <th>Posisi Rumah</th>\n",
              "      <th>Lebar Jalan Depan Rumah (ROW)</th>\n",
              "    </tr>\n",
              "  </thead>\n",
              "  <tbody>\n",
              "    <tr>\n",
              "      <th>0</th>\n",
              "      <td>Standard</td>\n",
              "      <td>240.0</td>\n",
              "      <td>300.0</td>\n",
              "      <td>4.0</td>\n",
              "      <td>3.0</td>\n",
              "      <td>2.0</td>\n",
              "      <td>3500000000</td>\n",
              "      <td>Belum</td>\n",
              "      <td>Utara</td>\n",
              "      <td>Standard</td>\n",
              "      <td>1-2 Mobil</td>\n",
              "    </tr>\n",
              "    <tr>\n",
              "      <th>1</th>\n",
              "      <td>Below Standard</td>\n",
              "      <td>30.0</td>\n",
              "      <td>60.0</td>\n",
              "      <td>2.0</td>\n",
              "      <td>1.0</td>\n",
              "      <td>2.0</td>\n",
              "      <td>287799000</td>\n",
              "      <td>Belum</td>\n",
              "      <td>Utara</td>\n",
              "      <td>Standard</td>\n",
              "      <td>&lt; 1 Mobil</td>\n",
              "    </tr>\n",
              "    <tr>\n",
              "      <th>2</th>\n",
              "      <td>Standard</td>\n",
              "      <td>170.0</td>\n",
              "      <td>170.0</td>\n",
              "      <td>5.0</td>\n",
              "      <td>4.0</td>\n",
              "      <td>2.0</td>\n",
              "      <td>2699999999</td>\n",
              "      <td>Belum</td>\n",
              "      <td>Selatan</td>\n",
              "      <td>Cul De Sac/Ujung Gang Buntu</td>\n",
              "      <td>1-2 Mobil</td>\n",
              "    </tr>\n",
              "    <tr>\n",
              "      <th>3</th>\n",
              "      <td>Sangat Premium</td>\n",
              "      <td>187.0</td>\n",
              "      <td>250.0</td>\n",
              "      <td>5.0</td>\n",
              "      <td>5.0</td>\n",
              "      <td>2.0</td>\n",
              "      <td>3100000000</td>\n",
              "      <td>Belum</td>\n",
              "      <td>Utara</td>\n",
              "      <td>Standard</td>\n",
              "      <td>1-2 Mobil</td>\n",
              "    </tr>\n",
              "    <tr>\n",
              "      <th>4</th>\n",
              "      <td>Premium</td>\n",
              "      <td>350.0</td>\n",
              "      <td>600.0</td>\n",
              "      <td>5.0</td>\n",
              "      <td>5.0</td>\n",
              "      <td>2.0</td>\n",
              "      <td>5000000000</td>\n",
              "      <td>Belum</td>\n",
              "      <td>Barat</td>\n",
              "      <td>Standard</td>\n",
              "      <td>1-2 Mobil</td>\n",
              "    </tr>\n",
              "  </tbody>\n",
              "</table>\n",
              "</div>\n",
              "      <button class=\"colab-df-convert\" onclick=\"convertToInteractive('df-d70bf8c9-3f7e-49e4-bfd8-d3e96fb75006')\"\n",
              "              title=\"Convert this dataframe to an interactive table.\"\n",
              "              style=\"display:none;\">\n",
              "        \n",
              "  <svg xmlns=\"http://www.w3.org/2000/svg\" height=\"24px\"viewBox=\"0 0 24 24\"\n",
              "       width=\"24px\">\n",
              "    <path d=\"M0 0h24v24H0V0z\" fill=\"none\"/>\n",
              "    <path d=\"M18.56 5.44l.94 2.06.94-2.06 2.06-.94-2.06-.94-.94-2.06-.94 2.06-2.06.94zm-11 1L8.5 8.5l.94-2.06 2.06-.94-2.06-.94L8.5 2.5l-.94 2.06-2.06.94zm10 10l.94 2.06.94-2.06 2.06-.94-2.06-.94-.94-2.06-.94 2.06-2.06.94z\"/><path d=\"M17.41 7.96l-1.37-1.37c-.4-.4-.92-.59-1.43-.59-.52 0-1.04.2-1.43.59L10.3 9.45l-7.72 7.72c-.78.78-.78 2.05 0 2.83L4 21.41c.39.39.9.59 1.41.59.51 0 1.02-.2 1.41-.59l7.78-7.78 2.81-2.81c.8-.78.8-2.07 0-2.86zM5.41 20L4 18.59l7.72-7.72 1.47 1.35L5.41 20z\"/>\n",
              "  </svg>\n",
              "      </button>\n",
              "      \n",
              "  <style>\n",
              "    .colab-df-container {\n",
              "      display:flex;\n",
              "      flex-wrap:wrap;\n",
              "      gap: 12px;\n",
              "    }\n",
              "\n",
              "    .colab-df-convert {\n",
              "      background-color: #E8F0FE;\n",
              "      border: none;\n",
              "      border-radius: 50%;\n",
              "      cursor: pointer;\n",
              "      display: none;\n",
              "      fill: #1967D2;\n",
              "      height: 32px;\n",
              "      padding: 0 0 0 0;\n",
              "      width: 32px;\n",
              "    }\n",
              "\n",
              "    .colab-df-convert:hover {\n",
              "      background-color: #E2EBFA;\n",
              "      box-shadow: 0px 1px 2px rgba(60, 64, 67, 0.3), 0px 1px 3px 1px rgba(60, 64, 67, 0.15);\n",
              "      fill: #174EA6;\n",
              "    }\n",
              "\n",
              "    [theme=dark] .colab-df-convert {\n",
              "      background-color: #3B4455;\n",
              "      fill: #D2E3FC;\n",
              "    }\n",
              "\n",
              "    [theme=dark] .colab-df-convert:hover {\n",
              "      background-color: #434B5C;\n",
              "      box-shadow: 0px 1px 3px 1px rgba(0, 0, 0, 0.15);\n",
              "      filter: drop-shadow(0px 1px 2px rgba(0, 0, 0, 0.3));\n",
              "      fill: #FFFFFF;\n",
              "    }\n",
              "  </style>\n",
              "\n",
              "      <script>\n",
              "        const buttonEl =\n",
              "          document.querySelector('#df-d70bf8c9-3f7e-49e4-bfd8-d3e96fb75006 button.colab-df-convert');\n",
              "        buttonEl.style.display =\n",
              "          google.colab.kernel.accessAllowed ? 'block' : 'none';\n",
              "\n",
              "        async function convertToInteractive(key) {\n",
              "          const element = document.querySelector('#df-d70bf8c9-3f7e-49e4-bfd8-d3e96fb75006');\n",
              "          const dataTable =\n",
              "            await google.colab.kernel.invokeFunction('convertToInteractive',\n",
              "                                                     [key], {});\n",
              "          if (!dataTable) return;\n",
              "\n",
              "          const docLinkHtml = 'Like what you see? Visit the ' +\n",
              "            '<a target=\"_blank\" href=https://colab.research.google.com/notebooks/data_table.ipynb>data table notebook</a>'\n",
              "            + ' to learn more about interactive tables.';\n",
              "          element.innerHTML = '';\n",
              "          dataTable['output_type'] = 'display_data';\n",
              "          await google.colab.output.renderOutput(dataTable, element);\n",
              "          const docLink = document.createElement('div');\n",
              "          docLink.innerHTML = docLinkHtml;\n",
              "          element.appendChild(docLink);\n",
              "        }\n",
              "      </script>\n",
              "    </div>\n",
              "  </div>\n",
              "  "
            ]
          },
          "metadata": {},
          "execution_count": 287
        }
      ]
    },
    {
      "cell_type": "code",
      "source": [
        "from sklearn.preprocessing import LabelEncoder\n",
        "\n",
        "#Label Encoder\n",
        "le = LabelEncoder()\n",
        "df[\"Arah Hadap Rumah\"] = le.fit_transform(df[\"Arah Hadap Rumah\"])\n",
        "df[\"Posisi Rumah\"] = le.fit_transform(df[\"Posisi Rumah\"])\n",
        "\n",
        "#Map\n",
        "area_category_map = {'Below Standard': 4, 'Standard': 3, 'Premium': 2, 'Sangat Premium': 1}\n",
        "df['Area Category'] = df['Area Category'].map(area_category_map)\n",
        "\n",
        "terjual_belum_map = {'Terjual': 0, 'Belum': 1}\n",
        "df['Terjual/Belum'] = df['Terjual/Belum'].map(terjual_belum_map)\n",
        "\n",
        "lebar_jalan_map = {'< 1 Mobil':1, '1-2 Mobil':2, '> 2 Mobil':3}\n",
        "df['Lebar Jalan Depan Rumah (ROW)'] = df['Lebar Jalan Depan Rumah (ROW)'].map(lebar_jalan_map)\n",
        "\n",
        "df.head(5)"
      ],
      "metadata": {
        "id": "Nmk3tKEP7qXn",
        "colab": {
          "base_uri": "https://localhost:8080/",
          "height": 285
        },
        "outputId": "09bb73b0-7d9a-4ed8-a72b-b973a3ccd4be"
      },
      "execution_count": 288,
      "outputs": [
        {
          "output_type": "execute_result",
          "data": {
            "text/plain": [
              "   Area Category  Luas Tanah (m2)  Luas Bangunan (m2)  Jumlah Kamar  \\\n",
              "0              3            240.0               300.0           4.0   \n",
              "1              4             30.0                60.0           2.0   \n",
              "2              3            170.0               170.0           5.0   \n",
              "3              1            187.0               250.0           5.0   \n",
              "4              2            350.0               600.0           5.0   \n",
              "\n",
              "   Jumlah Kamar Mandi  Tingkat/Lantai  Harga Penawaran (dari Owner)  \\\n",
              "0                 3.0              2.0                   3500000000   \n",
              "1                 1.0              2.0                    287799000   \n",
              "2                 4.0              2.0                   2699999999   \n",
              "3                 5.0              2.0                   3100000000   \n",
              "4                 5.0              2.0                   5000000000   \n",
              "\n",
              "   Terjual/Belum  Arah Hadap Rumah  Posisi Rumah  \\\n",
              "0              1                 3             2   \n",
              "1              1                 3             2   \n",
              "2              1                 1             0   \n",
              "3              1                 3             2   \n",
              "4              1                 0             2   \n",
              "\n",
              "   Lebar Jalan Depan Rumah (ROW)  \n",
              "0                              2  \n",
              "1                              1  \n",
              "2                              2  \n",
              "3                              2  \n",
              "4                              2  "
            ],
            "text/html": [
              "\n",
              "  <div id=\"df-d6694dbb-9c17-44a8-a334-804fa44cf1fb\">\n",
              "    <div class=\"colab-df-container\">\n",
              "      <div>\n",
              "<style scoped>\n",
              "    .dataframe tbody tr th:only-of-type {\n",
              "        vertical-align: middle;\n",
              "    }\n",
              "\n",
              "    .dataframe tbody tr th {\n",
              "        vertical-align: top;\n",
              "    }\n",
              "\n",
              "    .dataframe thead th {\n",
              "        text-align: right;\n",
              "    }\n",
              "</style>\n",
              "<table border=\"1\" class=\"dataframe\">\n",
              "  <thead>\n",
              "    <tr style=\"text-align: right;\">\n",
              "      <th></th>\n",
              "      <th>Area Category</th>\n",
              "      <th>Luas Tanah (m2)</th>\n",
              "      <th>Luas Bangunan (m2)</th>\n",
              "      <th>Jumlah Kamar</th>\n",
              "      <th>Jumlah Kamar Mandi</th>\n",
              "      <th>Tingkat/Lantai</th>\n",
              "      <th>Harga Penawaran (dari Owner)</th>\n",
              "      <th>Terjual/Belum</th>\n",
              "      <th>Arah Hadap Rumah</th>\n",
              "      <th>Posisi Rumah</th>\n",
              "      <th>Lebar Jalan Depan Rumah (ROW)</th>\n",
              "    </tr>\n",
              "  </thead>\n",
              "  <tbody>\n",
              "    <tr>\n",
              "      <th>0</th>\n",
              "      <td>3</td>\n",
              "      <td>240.0</td>\n",
              "      <td>300.0</td>\n",
              "      <td>4.0</td>\n",
              "      <td>3.0</td>\n",
              "      <td>2.0</td>\n",
              "      <td>3500000000</td>\n",
              "      <td>1</td>\n",
              "      <td>3</td>\n",
              "      <td>2</td>\n",
              "      <td>2</td>\n",
              "    </tr>\n",
              "    <tr>\n",
              "      <th>1</th>\n",
              "      <td>4</td>\n",
              "      <td>30.0</td>\n",
              "      <td>60.0</td>\n",
              "      <td>2.0</td>\n",
              "      <td>1.0</td>\n",
              "      <td>2.0</td>\n",
              "      <td>287799000</td>\n",
              "      <td>1</td>\n",
              "      <td>3</td>\n",
              "      <td>2</td>\n",
              "      <td>1</td>\n",
              "    </tr>\n",
              "    <tr>\n",
              "      <th>2</th>\n",
              "      <td>3</td>\n",
              "      <td>170.0</td>\n",
              "      <td>170.0</td>\n",
              "      <td>5.0</td>\n",
              "      <td>4.0</td>\n",
              "      <td>2.0</td>\n",
              "      <td>2699999999</td>\n",
              "      <td>1</td>\n",
              "      <td>1</td>\n",
              "      <td>0</td>\n",
              "      <td>2</td>\n",
              "    </tr>\n",
              "    <tr>\n",
              "      <th>3</th>\n",
              "      <td>1</td>\n",
              "      <td>187.0</td>\n",
              "      <td>250.0</td>\n",
              "      <td>5.0</td>\n",
              "      <td>5.0</td>\n",
              "      <td>2.0</td>\n",
              "      <td>3100000000</td>\n",
              "      <td>1</td>\n",
              "      <td>3</td>\n",
              "      <td>2</td>\n",
              "      <td>2</td>\n",
              "    </tr>\n",
              "    <tr>\n",
              "      <th>4</th>\n",
              "      <td>2</td>\n",
              "      <td>350.0</td>\n",
              "      <td>600.0</td>\n",
              "      <td>5.0</td>\n",
              "      <td>5.0</td>\n",
              "      <td>2.0</td>\n",
              "      <td>5000000000</td>\n",
              "      <td>1</td>\n",
              "      <td>0</td>\n",
              "      <td>2</td>\n",
              "      <td>2</td>\n",
              "    </tr>\n",
              "  </tbody>\n",
              "</table>\n",
              "</div>\n",
              "      <button class=\"colab-df-convert\" onclick=\"convertToInteractive('df-d6694dbb-9c17-44a8-a334-804fa44cf1fb')\"\n",
              "              title=\"Convert this dataframe to an interactive table.\"\n",
              "              style=\"display:none;\">\n",
              "        \n",
              "  <svg xmlns=\"http://www.w3.org/2000/svg\" height=\"24px\"viewBox=\"0 0 24 24\"\n",
              "       width=\"24px\">\n",
              "    <path d=\"M0 0h24v24H0V0z\" fill=\"none\"/>\n",
              "    <path d=\"M18.56 5.44l.94 2.06.94-2.06 2.06-.94-2.06-.94-.94-2.06-.94 2.06-2.06.94zm-11 1L8.5 8.5l.94-2.06 2.06-.94-2.06-.94L8.5 2.5l-.94 2.06-2.06.94zm10 10l.94 2.06.94-2.06 2.06-.94-2.06-.94-.94-2.06-.94 2.06-2.06.94z\"/><path d=\"M17.41 7.96l-1.37-1.37c-.4-.4-.92-.59-1.43-.59-.52 0-1.04.2-1.43.59L10.3 9.45l-7.72 7.72c-.78.78-.78 2.05 0 2.83L4 21.41c.39.39.9.59 1.41.59.51 0 1.02-.2 1.41-.59l7.78-7.78 2.81-2.81c.8-.78.8-2.07 0-2.86zM5.41 20L4 18.59l7.72-7.72 1.47 1.35L5.41 20z\"/>\n",
              "  </svg>\n",
              "      </button>\n",
              "      \n",
              "  <style>\n",
              "    .colab-df-container {\n",
              "      display:flex;\n",
              "      flex-wrap:wrap;\n",
              "      gap: 12px;\n",
              "    }\n",
              "\n",
              "    .colab-df-convert {\n",
              "      background-color: #E8F0FE;\n",
              "      border: none;\n",
              "      border-radius: 50%;\n",
              "      cursor: pointer;\n",
              "      display: none;\n",
              "      fill: #1967D2;\n",
              "      height: 32px;\n",
              "      padding: 0 0 0 0;\n",
              "      width: 32px;\n",
              "    }\n",
              "\n",
              "    .colab-df-convert:hover {\n",
              "      background-color: #E2EBFA;\n",
              "      box-shadow: 0px 1px 2px rgba(60, 64, 67, 0.3), 0px 1px 3px 1px rgba(60, 64, 67, 0.15);\n",
              "      fill: #174EA6;\n",
              "    }\n",
              "\n",
              "    [theme=dark] .colab-df-convert {\n",
              "      background-color: #3B4455;\n",
              "      fill: #D2E3FC;\n",
              "    }\n",
              "\n",
              "    [theme=dark] .colab-df-convert:hover {\n",
              "      background-color: #434B5C;\n",
              "      box-shadow: 0px 1px 3px 1px rgba(0, 0, 0, 0.15);\n",
              "      filter: drop-shadow(0px 1px 2px rgba(0, 0, 0, 0.3));\n",
              "      fill: #FFFFFF;\n",
              "    }\n",
              "  </style>\n",
              "\n",
              "      <script>\n",
              "        const buttonEl =\n",
              "          document.querySelector('#df-d6694dbb-9c17-44a8-a334-804fa44cf1fb button.colab-df-convert');\n",
              "        buttonEl.style.display =\n",
              "          google.colab.kernel.accessAllowed ? 'block' : 'none';\n",
              "\n",
              "        async function convertToInteractive(key) {\n",
              "          const element = document.querySelector('#df-d6694dbb-9c17-44a8-a334-804fa44cf1fb');\n",
              "          const dataTable =\n",
              "            await google.colab.kernel.invokeFunction('convertToInteractive',\n",
              "                                                     [key], {});\n",
              "          if (!dataTable) return;\n",
              "\n",
              "          const docLinkHtml = 'Like what you see? Visit the ' +\n",
              "            '<a target=\"_blank\" href=https://colab.research.google.com/notebooks/data_table.ipynb>data table notebook</a>'\n",
              "            + ' to learn more about interactive tables.';\n",
              "          element.innerHTML = '';\n",
              "          dataTable['output_type'] = 'display_data';\n",
              "          await google.colab.output.renderOutput(dataTable, element);\n",
              "          const docLink = document.createElement('div');\n",
              "          docLink.innerHTML = docLinkHtml;\n",
              "          element.appendChild(docLink);\n",
              "        }\n",
              "      </script>\n",
              "    </div>\n",
              "  </div>\n",
              "  "
            ]
          },
          "metadata": {},
          "execution_count": 288
        }
      ]
    },
    {
      "cell_type": "markdown",
      "source": [
        "[Michan] cek data type"
      ],
      "metadata": {
        "id": "ZYcSwNYQrfF3"
      }
    },
    {
      "cell_type": "code",
      "source": [
        "df.info()"
      ],
      "metadata": {
        "colab": {
          "base_uri": "https://localhost:8080/"
        },
        "id": "tenlxUxBLdWR",
        "outputId": "f90bf211-10ea-4802-f5f4-6219539f97eb"
      },
      "execution_count": 289,
      "outputs": [
        {
          "output_type": "stream",
          "name": "stdout",
          "text": [
            "<class 'pandas.core.frame.DataFrame'>\n",
            "RangeIndex: 308 entries, 0 to 307\n",
            "Data columns (total 11 columns):\n",
            " #   Column                         Non-Null Count  Dtype  \n",
            "---  ------                         --------------  -----  \n",
            " 0   Area Category                  308 non-null    int64  \n",
            " 1   Luas Tanah (m2)                308 non-null    float64\n",
            " 2   Luas Bangunan (m2)             308 non-null    float64\n",
            " 3   Jumlah Kamar                   308 non-null    float64\n",
            " 4   Jumlah Kamar Mandi             308 non-null    float64\n",
            " 5   Tingkat/Lantai                 308 non-null    float64\n",
            " 6   Harga Penawaran (dari Owner)   308 non-null    object \n",
            " 7   Terjual/Belum                  308 non-null    int64  \n",
            " 8   Arah Hadap Rumah               308 non-null    int64  \n",
            " 9   Posisi Rumah                   308 non-null    int64  \n",
            " 10  Lebar Jalan Depan Rumah (ROW)  308 non-null    int64  \n",
            "dtypes: float64(5), int64(5), object(1)\n",
            "memory usage: 26.6+ KB\n"
          ]
        }
      ]
    },
    {
      "cell_type": "markdown",
      "source": [
        "[Michan] Replace data yang tidak benar atau yang masih salah"
      ],
      "metadata": {
        "id": "NnwN15T_rk-x"
      }
    },
    {
      "cell_type": "code",
      "source": [
        "# df[\"Luas Bangunan (m2)\"] = df[\"Luas Bangunan (m2)\"].str.replace(\".\", \",\" )"
      ],
      "metadata": {
        "id": "VWFAhq1FUGOO"
      },
      "execution_count": 290,
      "outputs": []
    },
    {
      "cell_type": "code",
      "source": [
        "df[\"Harga Penawaran (dari Owner)\"] = df[\"Harga Penawaran (dari Owner)\"].str.replace(\" \", \"10500000000\" )\n",
        "df[\"Harga Penawaran (dari Owner)\"] = df[\"Harga Penawaran (dari Owner)\"].str.replace(\"10.500.000.000,00\", \"10500000000\" )"
      ],
      "metadata": {
        "colab": {
          "base_uri": "https://localhost:8080/"
        },
        "id": "Zie7cOwvbkIm",
        "outputId": "f11cdb52-6cbf-40c6-8354-75997e73bf0d"
      },
      "execution_count": 293,
      "outputs": [
        {
          "output_type": "stream",
          "name": "stderr",
          "text": [
            "/usr/local/lib/python3.7/dist-packages/ipykernel_launcher.py:2: FutureWarning: The default value of regex will change from True to False in a future version.\n",
            "  \n"
          ]
        }
      ]
    },
    {
      "cell_type": "markdown",
      "source": [
        "[michan] ubah float to int dan object to int"
      ],
      "metadata": {
        "id": "t6lZHF2PLXGo"
      }
    },
    {
      "cell_type": "code",
      "source": [
        "df['Luas Tanah (m2)'] = df['Luas Tanah (m2)'].astype(int)\n",
        "df['Luas Bangunan (m2)'] = df['Luas Bangunan (m2)'].astype(int)\n",
        "df['Jumlah Kamar'] = df['Jumlah Kamar'].astype(int)\n",
        "df['Jumlah Kamar Mandi'] = df['Jumlah Kamar Mandi'].astype(int)\n",
        "df['Tingkat/Lantai '] = df['Tingkat/Lantai '].astype(int)\n",
        "df['Harga Penawaran (dari Owner)'] = df['Harga Penawaran (dari Owner)'].astype(int)"
      ],
      "metadata": {
        "id": "tePlKVUaLE8k"
      },
      "execution_count": 294,
      "outputs": []
    },
    {
      "cell_type": "code",
      "source": [
        "df.info()"
      ],
      "metadata": {
        "colab": {
          "base_uri": "https://localhost:8080/"
        },
        "id": "PdRtvMT3bEnJ",
        "outputId": "a4494e70-c988-4b4f-fed0-518582538122"
      },
      "execution_count": 295,
      "outputs": [
        {
          "output_type": "stream",
          "name": "stdout",
          "text": [
            "<class 'pandas.core.frame.DataFrame'>\n",
            "RangeIndex: 308 entries, 0 to 307\n",
            "Data columns (total 11 columns):\n",
            " #   Column                         Non-Null Count  Dtype\n",
            "---  ------                         --------------  -----\n",
            " 0   Area Category                  308 non-null    int64\n",
            " 1   Luas Tanah (m2)                308 non-null    int64\n",
            " 2   Luas Bangunan (m2)             308 non-null    int64\n",
            " 3   Jumlah Kamar                   308 non-null    int64\n",
            " 4   Jumlah Kamar Mandi             308 non-null    int64\n",
            " 5   Tingkat/Lantai                 308 non-null    int64\n",
            " 6   Harga Penawaran (dari Owner)   308 non-null    int64\n",
            " 7   Terjual/Belum                  308 non-null    int64\n",
            " 8   Arah Hadap Rumah               308 non-null    int64\n",
            " 9   Posisi Rumah                   308 non-null    int64\n",
            " 10  Lebar Jalan Depan Rumah (ROW)  308 non-null    int64\n",
            "dtypes: int64(11)\n",
            "memory usage: 26.6 KB\n"
          ]
        }
      ]
    },
    {
      "cell_type": "code",
      "source": [
        "from sklearn.preprocessing import StandardScaler\n",
        "\n",
        "sc = StandardScaler()\n",
        "df2 = pd.DataFrame(sc.fit_transform(df), columns=[\"Area Category\", \"Luas Tanah (m2)\", \"Luas Bangunan (m2)\", \n",
        "                                                  \"Jumlah Kamar\", \"Jumlah Kamar Mandi\", \"Tingkat/Lantai \", \"Harga Penawaran (dari Owner)\", \n",
        "                                                  \"Terjual/Belum\", \"Arah Hadap Rumah\", \"Posisi Rumah\", \"Lebar Jalan Depan Rumah (ROW)\"])\n",
        "df2.head()"
      ],
      "metadata": {
        "colab": {
          "base_uri": "https://localhost:8080/",
          "height": 285
        },
        "id": "_EOGmQfi8XKS",
        "outputId": "d8c66881-815b-4e16-ae45-a7d2806eabc1"
      },
      "execution_count": 296,
      "outputs": [
        {
          "output_type": "execute_result",
          "data": {
            "text/plain": [
              "   Area Category  Luas Tanah (m2)  Luas Bangunan (m2)  Jumlah Kamar  \\\n",
              "0       0.494434         0.064760            0.156529     -0.168161   \n",
              "1       1.742677        -0.977457           -0.971209     -1.386831   \n",
              "2       0.494434        -0.282646           -0.454330      0.441174   \n",
              "3      -2.002052        -0.198276           -0.078417      0.441174   \n",
              "4      -0.753809         0.610683            1.566201      0.441174   \n",
              "\n",
              "   Jumlah Kamar Mandi  Tingkat/Lantai   Harga Penawaran (dari Owner)  \\\n",
              "0           -0.207847         0.313723                     -0.182491   \n",
              "1           -1.438941         0.313723                     -0.569600   \n",
              "2            0.407700         0.313723                     -0.278901   \n",
              "3            1.023247         0.313723                     -0.230696   \n",
              "4            1.023247         0.313723                     -0.001723   \n",
              "\n",
              "   Terjual/Belum  Arah Hadap Rumah  Posisi Rumah  \\\n",
              "0            0.0          0.839497     -0.188069   \n",
              "1            0.0          0.839497     -0.188069   \n",
              "2            0.0         -1.141845     -5.453988   \n",
              "3            0.0          0.839497     -0.188069   \n",
              "4            0.0         -2.132516     -0.188069   \n",
              "\n",
              "   Lebar Jalan Depan Rumah (ROW)  \n",
              "0                      -0.598758  \n",
              "1                      -2.406773  \n",
              "2                      -0.598758  \n",
              "3                      -0.598758  \n",
              "4                      -0.598758  "
            ],
            "text/html": [
              "\n",
              "  <div id=\"df-5a09870f-db6b-4213-859f-be491d519afe\">\n",
              "    <div class=\"colab-df-container\">\n",
              "      <div>\n",
              "<style scoped>\n",
              "    .dataframe tbody tr th:only-of-type {\n",
              "        vertical-align: middle;\n",
              "    }\n",
              "\n",
              "    .dataframe tbody tr th {\n",
              "        vertical-align: top;\n",
              "    }\n",
              "\n",
              "    .dataframe thead th {\n",
              "        text-align: right;\n",
              "    }\n",
              "</style>\n",
              "<table border=\"1\" class=\"dataframe\">\n",
              "  <thead>\n",
              "    <tr style=\"text-align: right;\">\n",
              "      <th></th>\n",
              "      <th>Area Category</th>\n",
              "      <th>Luas Tanah (m2)</th>\n",
              "      <th>Luas Bangunan (m2)</th>\n",
              "      <th>Jumlah Kamar</th>\n",
              "      <th>Jumlah Kamar Mandi</th>\n",
              "      <th>Tingkat/Lantai</th>\n",
              "      <th>Harga Penawaran (dari Owner)</th>\n",
              "      <th>Terjual/Belum</th>\n",
              "      <th>Arah Hadap Rumah</th>\n",
              "      <th>Posisi Rumah</th>\n",
              "      <th>Lebar Jalan Depan Rumah (ROW)</th>\n",
              "    </tr>\n",
              "  </thead>\n",
              "  <tbody>\n",
              "    <tr>\n",
              "      <th>0</th>\n",
              "      <td>0.494434</td>\n",
              "      <td>0.064760</td>\n",
              "      <td>0.156529</td>\n",
              "      <td>-0.168161</td>\n",
              "      <td>-0.207847</td>\n",
              "      <td>0.313723</td>\n",
              "      <td>-0.182491</td>\n",
              "      <td>0.0</td>\n",
              "      <td>0.839497</td>\n",
              "      <td>-0.188069</td>\n",
              "      <td>-0.598758</td>\n",
              "    </tr>\n",
              "    <tr>\n",
              "      <th>1</th>\n",
              "      <td>1.742677</td>\n",
              "      <td>-0.977457</td>\n",
              "      <td>-0.971209</td>\n",
              "      <td>-1.386831</td>\n",
              "      <td>-1.438941</td>\n",
              "      <td>0.313723</td>\n",
              "      <td>-0.569600</td>\n",
              "      <td>0.0</td>\n",
              "      <td>0.839497</td>\n",
              "      <td>-0.188069</td>\n",
              "      <td>-2.406773</td>\n",
              "    </tr>\n",
              "    <tr>\n",
              "      <th>2</th>\n",
              "      <td>0.494434</td>\n",
              "      <td>-0.282646</td>\n",
              "      <td>-0.454330</td>\n",
              "      <td>0.441174</td>\n",
              "      <td>0.407700</td>\n",
              "      <td>0.313723</td>\n",
              "      <td>-0.278901</td>\n",
              "      <td>0.0</td>\n",
              "      <td>-1.141845</td>\n",
              "      <td>-5.453988</td>\n",
              "      <td>-0.598758</td>\n",
              "    </tr>\n",
              "    <tr>\n",
              "      <th>3</th>\n",
              "      <td>-2.002052</td>\n",
              "      <td>-0.198276</td>\n",
              "      <td>-0.078417</td>\n",
              "      <td>0.441174</td>\n",
              "      <td>1.023247</td>\n",
              "      <td>0.313723</td>\n",
              "      <td>-0.230696</td>\n",
              "      <td>0.0</td>\n",
              "      <td>0.839497</td>\n",
              "      <td>-0.188069</td>\n",
              "      <td>-0.598758</td>\n",
              "    </tr>\n",
              "    <tr>\n",
              "      <th>4</th>\n",
              "      <td>-0.753809</td>\n",
              "      <td>0.610683</td>\n",
              "      <td>1.566201</td>\n",
              "      <td>0.441174</td>\n",
              "      <td>1.023247</td>\n",
              "      <td>0.313723</td>\n",
              "      <td>-0.001723</td>\n",
              "      <td>0.0</td>\n",
              "      <td>-2.132516</td>\n",
              "      <td>-0.188069</td>\n",
              "      <td>-0.598758</td>\n",
              "    </tr>\n",
              "  </tbody>\n",
              "</table>\n",
              "</div>\n",
              "      <button class=\"colab-df-convert\" onclick=\"convertToInteractive('df-5a09870f-db6b-4213-859f-be491d519afe')\"\n",
              "              title=\"Convert this dataframe to an interactive table.\"\n",
              "              style=\"display:none;\">\n",
              "        \n",
              "  <svg xmlns=\"http://www.w3.org/2000/svg\" height=\"24px\"viewBox=\"0 0 24 24\"\n",
              "       width=\"24px\">\n",
              "    <path d=\"M0 0h24v24H0V0z\" fill=\"none\"/>\n",
              "    <path d=\"M18.56 5.44l.94 2.06.94-2.06 2.06-.94-2.06-.94-.94-2.06-.94 2.06-2.06.94zm-11 1L8.5 8.5l.94-2.06 2.06-.94-2.06-.94L8.5 2.5l-.94 2.06-2.06.94zm10 10l.94 2.06.94-2.06 2.06-.94-2.06-.94-.94-2.06-.94 2.06-2.06.94z\"/><path d=\"M17.41 7.96l-1.37-1.37c-.4-.4-.92-.59-1.43-.59-.52 0-1.04.2-1.43.59L10.3 9.45l-7.72 7.72c-.78.78-.78 2.05 0 2.83L4 21.41c.39.39.9.59 1.41.59.51 0 1.02-.2 1.41-.59l7.78-7.78 2.81-2.81c.8-.78.8-2.07 0-2.86zM5.41 20L4 18.59l7.72-7.72 1.47 1.35L5.41 20z\"/>\n",
              "  </svg>\n",
              "      </button>\n",
              "      \n",
              "  <style>\n",
              "    .colab-df-container {\n",
              "      display:flex;\n",
              "      flex-wrap:wrap;\n",
              "      gap: 12px;\n",
              "    }\n",
              "\n",
              "    .colab-df-convert {\n",
              "      background-color: #E8F0FE;\n",
              "      border: none;\n",
              "      border-radius: 50%;\n",
              "      cursor: pointer;\n",
              "      display: none;\n",
              "      fill: #1967D2;\n",
              "      height: 32px;\n",
              "      padding: 0 0 0 0;\n",
              "      width: 32px;\n",
              "    }\n",
              "\n",
              "    .colab-df-convert:hover {\n",
              "      background-color: #E2EBFA;\n",
              "      box-shadow: 0px 1px 2px rgba(60, 64, 67, 0.3), 0px 1px 3px 1px rgba(60, 64, 67, 0.15);\n",
              "      fill: #174EA6;\n",
              "    }\n",
              "\n",
              "    [theme=dark] .colab-df-convert {\n",
              "      background-color: #3B4455;\n",
              "      fill: #D2E3FC;\n",
              "    }\n",
              "\n",
              "    [theme=dark] .colab-df-convert:hover {\n",
              "      background-color: #434B5C;\n",
              "      box-shadow: 0px 1px 3px 1px rgba(0, 0, 0, 0.15);\n",
              "      filter: drop-shadow(0px 1px 2px rgba(0, 0, 0, 0.3));\n",
              "      fill: #FFFFFF;\n",
              "    }\n",
              "  </style>\n",
              "\n",
              "      <script>\n",
              "        const buttonEl =\n",
              "          document.querySelector('#df-5a09870f-db6b-4213-859f-be491d519afe button.colab-df-convert');\n",
              "        buttonEl.style.display =\n",
              "          google.colab.kernel.accessAllowed ? 'block' : 'none';\n",
              "\n",
              "        async function convertToInteractive(key) {\n",
              "          const element = document.querySelector('#df-5a09870f-db6b-4213-859f-be491d519afe');\n",
              "          const dataTable =\n",
              "            await google.colab.kernel.invokeFunction('convertToInteractive',\n",
              "                                                     [key], {});\n",
              "          if (!dataTable) return;\n",
              "\n",
              "          const docLinkHtml = 'Like what you see? Visit the ' +\n",
              "            '<a target=\"_blank\" href=https://colab.research.google.com/notebooks/data_table.ipynb>data table notebook</a>'\n",
              "            + ' to learn more about interactive tables.';\n",
              "          element.innerHTML = '';\n",
              "          dataTable['output_type'] = 'display_data';\n",
              "          await google.colab.output.renderOutput(dataTable, element);\n",
              "          const docLink = document.createElement('div');\n",
              "          docLink.innerHTML = docLinkHtml;\n",
              "          element.appendChild(docLink);\n",
              "        }\n",
              "      </script>\n",
              "    </div>\n",
              "  </div>\n",
              "  "
            ]
          },
          "metadata": {},
          "execution_count": 296
        }
      ]
    },
    {
      "cell_type": "markdown",
      "metadata": {
        "id": "ZPx1qmFr3ouX"
      },
      "source": [
        "## K-Means Clustering"
      ]
    },
    {
      "cell_type": "markdown",
      "metadata": {
        "id": "BAHb1xo_A3m5"
      },
      "source": [
        "Dengan elbow method, tentukan jumlah cluster yang ingin dibentuk\n",
        "\n",
        "Gunakan range elbow range(1, 11)"
      ]
    },
    {
      "cell_type": "code",
      "source": [
        "from sklearn.cluster import KMeans\n",
        "\n",
        "# set the parameter for evaluating K\n",
        "X = df2[[\"Area Category\", \"Luas Tanah (m2)\", \"Luas Bangunan (m2)\", \n",
        "         \"Jumlah Kamar\", \"Jumlah Kamar Mandi\", \"Tingkat/Lantai \", \"Harga Penawaran (dari Owner)\", \n",
        "         \"Terjual/Belum\", \"Arah Hadap Rumah\", \"Posisi Rumah\", \"Lebar Jalan Depan Rumah (ROW)\"]]\n",
        "wcss=[]\n",
        "# check the inertia for each K\n",
        "for i in range(1, 11): \n",
        "    kmeans = KMeans(n_clusters = i, init = \"random\", random_state = 42)\n",
        "    kmeans.fit(X) \n",
        "    wcss.append(kmeans.inertia_)"
      ],
      "metadata": {
        "id": "d1PAPly31946"
      },
      "execution_count": 297,
      "outputs": []
    },
    {
      "cell_type": "code",
      "source": [
        "plt.plot(range(1, 11), wcss)\n",
        "plt.xlabel('Number of clusters')\n",
        "plt.ylabel('SSE') \n",
        "plt.show()"
      ],
      "metadata": {
        "colab": {
          "base_uri": "https://localhost:8080/",
          "height": 279
        },
        "id": "HFLEIVEI-J8n",
        "outputId": "43c06b77-5a32-47c6-bd68-6ad2483962eb"
      },
      "execution_count": 298,
      "outputs": [
        {
          "output_type": "display_data",
          "data": {
            "text/plain": [
              "<Figure size 432x288 with 1 Axes>"
            ],
            "image/png": "[encoded data removed]"
          },
          "metadata": {
            "needs_background": "light"
          }
        }
      ]
    },
    {
      "cell_type": "code",
      "source": [
        "# using kneelocator to find the elbow/knee\n",
        "from kneed import KneeLocator\n",
        "kneedle = KneeLocator(range(1,11), wcss, curve=\"convex\", direction=\"decreasing\")\n",
        "print(\"The best k for you model is\", kneedle.elbow)"
      ],
      "metadata": {
        "colab": {
          "base_uri": "https://localhost:8080/"
        },
        "id": "r4777AaK-Mlw",
        "outputId": "40f9f23e-0b03-4995-f3b1-c0b6e83b3179"
      },
      "execution_count": 299,
      "outputs": [
        {
          "output_type": "stream",
          "name": "stdout",
          "text": [
            "The best k for you model is 3\n"
          ]
        }
      ]
    },
    {
      "cell_type": "markdown",
      "metadata": {
        "id": "riWXo9djBIkj"
      },
      "source": [
        "Training model K-Means pada dataset dengan jumlah cluster yang Anda tentukan"
      ]
    },
    {
      "cell_type": "code",
      "metadata": {
        "id": "mvT6Yql2BNMl"
      },
      "source": [
        "from sklearn.cluster import KMeans\n",
        "kmeans = KMeans(init=\"random\", n_clusters=4, max_iter=300, random_state=42)\n",
        "model = kmeans.fit_predict(df2)\n",
        "\n",
        "df[\"KMeans\"] = model"
      ],
      "execution_count": 300,
      "outputs": []
    },
    {
      "cell_type": "markdown",
      "metadata": {
        "id": "DySLxlWqBNyH"
      },
      "source": [
        "Tampilkan dalam bentuk dataframe kesimpulan dari cluster:\n",
        "\n",
        "1. kolom bertipe categorical: modus (gunakan pd.Series.mode untuk mencari modus, untuk menggunakan attribute ini tidak perlu pakai \" \")\n",
        "2. kolom bertipe continous : mean\n",
        "3. Hasil cluster: count"
      ]
    },
    {
      "cell_type": "code",
      "metadata": {
        "id": "r5jr3tOVBR0o",
        "colab": {
          "base_uri": "https://localhost:8080/",
          "height": 261
        },
        "outputId": "47d5896e-7627-46ee-9d92-649fcad1b692"
      },
      "source": [
        "df.groupby(\"KMeans\")[\"Area Category\", \"Terjual/Belum\", \"Arah Hadap Rumah\", \"Posisi Rumah\", \"Lebar Jalan Depan Rumah (ROW)\"].agg(pd.Series.mode)"
      ],
      "execution_count": 301,
      "outputs": [
        {
          "output_type": "stream",
          "name": "stderr",
          "text": [
            "/usr/local/lib/python3.7/dist-packages/ipykernel_launcher.py:1: FutureWarning: Indexing with multiple keys (implicitly converted to a tuple of keys) will be deprecated, use a list instead.\n",
            "  \"\"\"Entry point for launching an IPython kernel.\n"
          ]
        },
        {
          "output_type": "execute_result",
          "data": {
            "text/plain": [
              "        Area Category  Terjual/Belum  Arah Hadap Rumah  Posisi Rumah  \\\n",
              "KMeans                                                                 \n",
              "0                   2              1                 3             2   \n",
              "1                   2              1                 3             2   \n",
              "2                   3              1                 3             2   \n",
              "3                   1              1                 3             2   \n",
              "\n",
              "        Lebar Jalan Depan Rumah (ROW)  \n",
              "KMeans                                 \n",
              "0                                   2  \n",
              "1                                   3  \n",
              "2                                   2  \n",
              "3                                   3  "
            ],
            "text/html": [
              "\n",
              "  <div id=\"df-265019f7-3376-407e-8d38-b46996affebf\">\n",
              "    <div class=\"colab-df-container\">\n",
              "      <div>\n",
              "<style scoped>\n",
              "    .dataframe tbody tr th:only-of-type {\n",
              "        vertical-align: middle;\n",
              "    }\n",
              "\n",
              "    .dataframe tbody tr th {\n",
              "        vertical-align: top;\n",
              "    }\n",
              "\n",
              "    .dataframe thead th {\n",
              "        text-align: right;\n",
              "    }\n",
              "</style>\n",
              "<table border=\"1\" class=\"dataframe\">\n",
              "  <thead>\n",
              "    <tr style=\"text-align: right;\">\n",
              "      <th></th>\n",
              "      <th>Area Category</th>\n",
              "      <th>Terjual/Belum</th>\n",
              "      <th>Arah Hadap Rumah</th>\n",
              "      <th>Posisi Rumah</th>\n",
              "      <th>Lebar Jalan Depan Rumah (ROW)</th>\n",
              "    </tr>\n",
              "    <tr>\n",
              "      <th>KMeans</th>\n",
              "      <th></th>\n",
              "      <th></th>\n",
              "      <th></th>\n",
              "      <th></th>\n",
              "      <th></th>\n",
              "    </tr>\n",
              "  </thead>\n",
              "  <tbody>\n",
              "    <tr>\n",
              "      <th>0</th>\n",
              "      <td>2</td>\n",
              "      <td>1</td>\n",
              "      <td>3</td>\n",
              "      <td>2</td>\n",
              "      <td>2</td>\n",
              "    </tr>\n",
              "    <tr>\n",
              "      <th>1</th>\n",
              "      <td>2</td>\n",
              "      <td>1</td>\n",
              "      <td>3</td>\n",
              "      <td>2</td>\n",
              "      <td>3</td>\n",
              "    </tr>\n",
              "    <tr>\n",
              "      <th>2</th>\n",
              "      <td>3</td>\n",
              "      <td>1</td>\n",
              "      <td>3</td>\n",
              "      <td>2</td>\n",
              "      <td>2</td>\n",
              "    </tr>\n",
              "    <tr>\n",
              "      <th>3</th>\n",
              "      <td>1</td>\n",
              "      <td>1</td>\n",
              "      <td>3</td>\n",
              "      <td>2</td>\n",
              "      <td>3</td>\n",
              "    </tr>\n",
              "  </tbody>\n",
              "</table>\n",
              "</div>\n",
              "      <button class=\"colab-df-convert\" onclick=\"convertToInteractive('df-265019f7-3376-407e-8d38-b46996affebf')\"\n",
              "              title=\"Convert this dataframe to an interactive table.\"\n",
              "              style=\"display:none;\">\n",
              "        \n",
              "  <svg xmlns=\"http://www.w3.org/2000/svg\" height=\"24px\"viewBox=\"0 0 24 24\"\n",
              "       width=\"24px\">\n",
              "    <path d=\"M0 0h24v24H0V0z\" fill=\"none\"/>\n",
              "    <path d=\"M18.56 5.44l.94 2.06.94-2.06 2.06-.94-2.06-.94-.94-2.06-.94 2.06-2.06.94zm-11 1L8.5 8.5l.94-2.06 2.06-.94-2.06-.94L8.5 2.5l-.94 2.06-2.06.94zm10 10l.94 2.06.94-2.06 2.06-.94-2.06-.94-.94-2.06-.94 2.06-2.06.94z\"/><path d=\"M17.41 7.96l-1.37-1.37c-.4-.4-.92-.59-1.43-.59-.52 0-1.04.2-1.43.59L10.3 9.45l-7.72 7.72c-.78.78-.78 2.05 0 2.83L4 21.41c.39.39.9.59 1.41.59.51 0 1.02-.2 1.41-.59l7.78-7.78 2.81-2.81c.8-.78.8-2.07 0-2.86zM5.41 20L4 18.59l7.72-7.72 1.47 1.35L5.41 20z\"/>\n",
              "  </svg>\n",
              "      </button>\n",
              "      \n",
              "  <style>\n",
              "    .colab-df-container {\n",
              "      display:flex;\n",
              "      flex-wrap:wrap;\n",
              "      gap: 12px;\n",
              "    }\n",
              "\n",
              "    .colab-df-convert {\n",
              "      background-color: #E8F0FE;\n",
              "      border: none;\n",
              "      border-radius: 50%;\n",
              "      cursor: pointer;\n",
              "      display: none;\n",
              "      fill: #1967D2;\n",
              "      height: 32px;\n",
              "      padding: 0 0 0 0;\n",
              "      width: 32px;\n",
              "    }\n",
              "\n",
              "    .colab-df-convert:hover {\n",
              "      background-color: #E2EBFA;\n",
              "      box-shadow: 0px 1px 2px rgba(60, 64, 67, 0.3), 0px 1px 3px 1px rgba(60, 64, 67, 0.15);\n",
              "      fill: #174EA6;\n",
              "    }\n",
              "\n",
              "    [theme=dark] .colab-df-convert {\n",
              "      background-color: #3B4455;\n",
              "      fill: #D2E3FC;\n",
              "    }\n",
              "\n",
              "    [theme=dark] .colab-df-convert:hover {\n",
              "      background-color: #434B5C;\n",
              "      box-shadow: 0px 1px 3px 1px rgba(0, 0, 0, 0.15);\n",
              "      filter: drop-shadow(0px 1px 2px rgba(0, 0, 0, 0.3));\n",
              "      fill: #FFFFFF;\n",
              "    }\n",
              "  </style>\n",
              "\n",
              "      <script>\n",
              "        const buttonEl =\n",
              "          document.querySelector('#df-265019f7-3376-407e-8d38-b46996affebf button.colab-df-convert');\n",
              "        buttonEl.style.display =\n",
              "          google.colab.kernel.accessAllowed ? 'block' : 'none';\n",
              "\n",
              "        async function convertToInteractive(key) {\n",
              "          const element = document.querySelector('#df-265019f7-3376-407e-8d38-b46996affebf');\n",
              "          const dataTable =\n",
              "            await google.colab.kernel.invokeFunction('convertToInteractive',\n",
              "                                                     [key], {});\n",
              "          if (!dataTable) return;\n",
              "\n",
              "          const docLinkHtml = 'Like what you see? Visit the ' +\n",
              "            '<a target=\"_blank\" href=https://colab.research.google.com/notebooks/data_table.ipynb>data table notebook</a>'\n",
              "            + ' to learn more about interactive tables.';\n",
              "          element.innerHTML = '';\n",
              "          dataTable['output_type'] = 'display_data';\n",
              "          await google.colab.output.renderOutput(dataTable, element);\n",
              "          const docLink = document.createElement('div');\n",
              "          docLink.innerHTML = docLinkHtml;\n",
              "          element.appendChild(docLink);\n",
              "        }\n",
              "      </script>\n",
              "    </div>\n",
              "  </div>\n",
              "  "
            ]
          },
          "metadata": {},
          "execution_count": 301
        }
      ]
    },
    {
      "cell_type": "code",
      "source": [
        "df.groupby(\"KMeans\")[\"Luas Tanah (m2)\", \"Luas Bangunan (m2)\", \"Jumlah Kamar\", \"Jumlah Kamar Mandi\", \"Tingkat/Lantai \", \n",
        "                     \"Harga Penawaran (dari Owner)\"].agg(pd.Series.mean)"
      ],
      "metadata": {
        "colab": {
          "base_uri": "https://localhost:8080/",
          "height": 261
        },
        "id": "KR07vrg3BvL0",
        "outputId": "21a8b3c8-4bc8-4d05-a47d-c2f6e908161b"
      },
      "execution_count": 302,
      "outputs": [
        {
          "output_type": "stream",
          "name": "stderr",
          "text": [
            "/usr/local/lib/python3.7/dist-packages/ipykernel_launcher.py:1: FutureWarning: Indexing with multiple keys (implicitly converted to a tuple of keys) will be deprecated, use a list instead.\n",
            "  \"\"\"Entry point for launching an IPython kernel.\n"
          ]
        },
        {
          "output_type": "execute_result",
          "data": {
            "text/plain": [
              "        Luas Tanah (m2)  Luas Bangunan (m2)  Jumlah Kamar  Jumlah Kamar Mandi  \\\n",
              "KMeans                                                                          \n",
              "0            192.304348          257.663043      4.771739            3.793478   \n",
              "1            182.737500          218.787500      4.325000            3.362500   \n",
              "2            106.850575          106.275862      2.586207            1.735632   \n",
              "3            577.428571          646.653061      6.265306            5.285714   \n",
              "\n",
              "        Tingkat/Lantai   Harga Penawaran (dari Owner)  \n",
              "KMeans                                                 \n",
              "0              2.032609                  3.493336e+09  \n",
              "1              1.912500                  3.501800e+09  \n",
              "2              1.494253                  1.277689e+09  \n",
              "3              1.979592                  1.697378e+10  "
            ],
            "text/html": [
              "\n",
              "  <div id=\"df-b709f95e-c5ea-45a8-adff-d75f890e64fd\">\n",
              "    <div class=\"colab-df-container\">\n",
              "      <div>\n",
              "<style scoped>\n",
              "    .dataframe tbody tr th:only-of-type {\n",
              "        vertical-align: middle;\n",
              "    }\n",
              "\n",
              "    .dataframe tbody tr th {\n",
              "        vertical-align: top;\n",
              "    }\n",
              "\n",
              "    .dataframe thead th {\n",
              "        text-align: right;\n",
              "    }\n",
              "</style>\n",
              "<table border=\"1\" class=\"dataframe\">\n",
              "  <thead>\n",
              "    <tr style=\"text-align: right;\">\n",
              "      <th></th>\n",
              "      <th>Luas Tanah (m2)</th>\n",
              "      <th>Luas Bangunan (m2)</th>\n",
              "      <th>Jumlah Kamar</th>\n",
              "      <th>Jumlah Kamar Mandi</th>\n",
              "      <th>Tingkat/Lantai</th>\n",
              "      <th>Harga Penawaran (dari Owner)</th>\n",
              "    </tr>\n",
              "    <tr>\n",
              "      <th>KMeans</th>\n",
              "      <th></th>\n",
              "      <th></th>\n",
              "      <th></th>\n",
              "      <th></th>\n",
              "      <th></th>\n",
              "      <th></th>\n",
              "    </tr>\n",
              "  </thead>\n",
              "  <tbody>\n",
              "    <tr>\n",
              "      <th>0</th>\n",
              "      <td>192.304348</td>\n",
              "      <td>257.663043</td>\n",
              "      <td>4.771739</td>\n",
              "      <td>3.793478</td>\n",
              "      <td>2.032609</td>\n",
              "      <td>3.493336e+09</td>\n",
              "    </tr>\n",
              "    <tr>\n",
              "      <th>1</th>\n",
              "      <td>182.737500</td>\n",
              "      <td>218.787500</td>\n",
              "      <td>4.325000</td>\n",
              "      <td>3.362500</td>\n",
              "      <td>1.912500</td>\n",
              "      <td>3.501800e+09</td>\n",
              "    </tr>\n",
              "    <tr>\n",
              "      <th>2</th>\n",
              "      <td>106.850575</td>\n",
              "      <td>106.275862</td>\n",
              "      <td>2.586207</td>\n",
              "      <td>1.735632</td>\n",
              "      <td>1.494253</td>\n",
              "      <td>1.277689e+09</td>\n",
              "    </tr>\n",
              "    <tr>\n",
              "      <th>3</th>\n",
              "      <td>577.428571</td>\n",
              "      <td>646.653061</td>\n",
              "      <td>6.265306</td>\n",
              "      <td>5.285714</td>\n",
              "      <td>1.979592</td>\n",
              "      <td>1.697378e+10</td>\n",
              "    </tr>\n",
              "  </tbody>\n",
              "</table>\n",
              "</div>\n",
              "      <button class=\"colab-df-convert\" onclick=\"convertToInteractive('df-b709f95e-c5ea-45a8-adff-d75f890e64fd')\"\n",
              "              title=\"Convert this dataframe to an interactive table.\"\n",
              "              style=\"display:none;\">\n",
              "        \n",
              "  <svg xmlns=\"http://www.w3.org/2000/svg\" height=\"24px\"viewBox=\"0 0 24 24\"\n",
              "       width=\"24px\">\n",
              "    <path d=\"M0 0h24v24H0V0z\" fill=\"none\"/>\n",
              "    <path d=\"M18.56 5.44l.94 2.06.94-2.06 2.06-.94-2.06-.94-.94-2.06-.94 2.06-2.06.94zm-11 1L8.5 8.5l.94-2.06 2.06-.94-2.06-.94L8.5 2.5l-.94 2.06-2.06.94zm10 10l.94 2.06.94-2.06 2.06-.94-2.06-.94-.94-2.06-.94 2.06-2.06.94z\"/><path d=\"M17.41 7.96l-1.37-1.37c-.4-.4-.92-.59-1.43-.59-.52 0-1.04.2-1.43.59L10.3 9.45l-7.72 7.72c-.78.78-.78 2.05 0 2.83L4 21.41c.39.39.9.59 1.41.59.51 0 1.02-.2 1.41-.59l7.78-7.78 2.81-2.81c.8-.78.8-2.07 0-2.86zM5.41 20L4 18.59l7.72-7.72 1.47 1.35L5.41 20z\"/>\n",
              "  </svg>\n",
              "      </button>\n",
              "      \n",
              "  <style>\n",
              "    .colab-df-container {\n",
              "      display:flex;\n",
              "      flex-wrap:wrap;\n",
              "      gap: 12px;\n",
              "    }\n",
              "\n",
              "    .colab-df-convert {\n",
              "      background-color: #E8F0FE;\n",
              "      border: none;\n",
              "      border-radius: 50%;\n",
              "      cursor: pointer;\n",
              "      display: none;\n",
              "      fill: #1967D2;\n",
              "      height: 32px;\n",
              "      padding: 0 0 0 0;\n",
              "      width: 32px;\n",
              "    }\n",
              "\n",
              "    .colab-df-convert:hover {\n",
              "      background-color: #E2EBFA;\n",
              "      box-shadow: 0px 1px 2px rgba(60, 64, 67, 0.3), 0px 1px 3px 1px rgba(60, 64, 67, 0.15);\n",
              "      fill: #174EA6;\n",
              "    }\n",
              "\n",
              "    [theme=dark] .colab-df-convert {\n",
              "      background-color: #3B4455;\n",
              "      fill: #D2E3FC;\n",
              "    }\n",
              "\n",
              "    [theme=dark] .colab-df-convert:hover {\n",
              "      background-color: #434B5C;\n",
              "      box-shadow: 0px 1px 3px 1px rgba(0, 0, 0, 0.15);\n",
              "      filter: drop-shadow(0px 1px 2px rgba(0, 0, 0, 0.3));\n",
              "      fill: #FFFFFF;\n",
              "    }\n",
              "  </style>\n",
              "\n",
              "      <script>\n",
              "        const buttonEl =\n",
              "          document.querySelector('#df-b709f95e-c5ea-45a8-adff-d75f890e64fd button.colab-df-convert');\n",
              "        buttonEl.style.display =\n",
              "          google.colab.kernel.accessAllowed ? 'block' : 'none';\n",
              "\n",
              "        async function convertToInteractive(key) {\n",
              "          const element = document.querySelector('#df-b709f95e-c5ea-45a8-adff-d75f890e64fd');\n",
              "          const dataTable =\n",
              "            await google.colab.kernel.invokeFunction('convertToInteractive',\n",
              "                                                     [key], {});\n",
              "          if (!dataTable) return;\n",
              "\n",
              "          const docLinkHtml = 'Like what you see? Visit the ' +\n",
              "            '<a target=\"_blank\" href=https://colab.research.google.com/notebooks/data_table.ipynb>data table notebook</a>'\n",
              "            + ' to learn more about interactive tables.';\n",
              "          element.innerHTML = '';\n",
              "          dataTable['output_type'] = 'display_data';\n",
              "          await google.colab.output.renderOutput(dataTable, element);\n",
              "          const docLink = document.createElement('div');\n",
              "          docLink.innerHTML = docLinkHtml;\n",
              "          element.appendChild(docLink);\n",
              "        }\n",
              "      </script>\n",
              "    </div>\n",
              "  </div>\n",
              "  "
            ]
          },
          "metadata": {},
          "execution_count": 302
        }
      ]
    },
    {
      "cell_type": "code",
      "source": [
        "df.groupby(\"KMeans\")[\"KMeans\"].agg(pd.Series.count)"
      ],
      "metadata": {
        "colab": {
          "base_uri": "https://localhost:8080/"
        },
        "id": "zkHim7jnHmqC",
        "outputId": "bd3d42a5-662d-4b1f-d3ba-2ac3c9ac356a"
      },
      "execution_count": 303,
      "outputs": [
        {
          "output_type": "execute_result",
          "data": {
            "text/plain": [
              "KMeans\n",
              "0    92\n",
              "1    80\n",
              "2    87\n",
              "3    49\n",
              "Name: KMeans, dtype: int64"
            ]
          },
          "metadata": {},
          "execution_count": 303
        }
      ]
    },
    {
      "cell_type": "markdown",
      "metadata": {
        "id": "OZruhWh5BSt7"
      },
      "source": [
        "## Hierarchical Clustering\n",
        "Hierarchical clustering ini menggunakan metode agglomerative."
      ]
    },
    {
      "cell_type": "markdown",
      "metadata": {
        "id": "ie67vRUmJGiy"
      },
      "source": [
        "Plot Dendrogram untuk membantu menentukan jumlah cluster, gunakan max method."
      ]
    },
    {
      "cell_type": "code",
      "metadata": {
        "id": "YYVplrU1JRLF",
        "colab": {
          "base_uri": "https://localhost:8080/",
          "height": 298
        },
        "outputId": "cf518371-1971-45f5-c7e4-2b8c039aaf19"
      },
      "source": [
        "import numpy as np\n",
        "import scipy.cluster.hierarchy as sch\n",
        "import matplotlib.pyplot as plt\n",
        "dist_matrix = sch.linkage(df2, method='complete')\n",
        "dn = sch.dendrogram(dist_matrix)\n",
        "plt.title('Dendogram')\n",
        "plt.show"
      ],
      "execution_count": 304,
      "outputs": [
        {
          "output_type": "execute_result",
          "data": {
            "text/plain": [
              "<function matplotlib.pyplot.show(*args, **kw)>"
            ]
          },
          "metadata": {},
          "execution_count": 304
        },
        {
          "output_type": "display_data",
          "data": {
            "text/plain": [
              "<Figure size 432x288 with 1 Axes>"
            ],
            "image/png": "[encoded data removed]"
          },
          "metadata": {
            "needs_background": "light"
          }
        }
      ]
    },
    {
      "cell_type": "markdown",
      "metadata": {
        "id": "JPMw9jAiJRsE"
      },
      "source": [
        "Lakukan hierarchical clustering dengan metric Euclidean dan jumlah cluster sama dengan cluster Kmeans"
      ]
    },
    {
      "cell_type": "code",
      "metadata": {
        "id": "-3Ep2nP0JYIw"
      },
      "source": [
        "from sklearn.cluster import AgglomerativeClustering\n",
        "\n",
        "agglo = AgglomerativeClustering(n_clusters=4, affinity=\"euclidean\", linkage=\"ward\")\n",
        "model2 = agglo.fit_predict(df2)\n",
        "\n",
        "df[\"agglo\"] = model2"
      ],
      "execution_count": 305,
      "outputs": []
    },
    {
      "cell_type": "markdown",
      "metadata": {
        "id": "lzXuHhs1JY72"
      },
      "source": [
        "Tampilkan dalam bentuk dataframe kesimpulan dari cluster dengan kriteria sama dengan kesimpulan di atas"
      ]
    },
    {
      "cell_type": "code",
      "metadata": {
        "id": "v0SRlqauJ0_W",
        "colab": {
          "base_uri": "https://localhost:8080/",
          "height": 261
        },
        "outputId": "48537813-1cfe-4083-ddb4-8d0aaae76176"
      },
      "source": [
        "df.groupby(\"agglo\")[\"Area Category\", \"Terjual/Belum\", \"Arah Hadap Rumah\", \"Posisi Rumah\", \"Lebar Jalan Depan Rumah (ROW)\"].agg(pd.Series.mode)"
      ],
      "execution_count": 306,
      "outputs": [
        {
          "output_type": "stream",
          "name": "stderr",
          "text": [
            "/usr/local/lib/python3.7/dist-packages/ipykernel_launcher.py:1: FutureWarning: Indexing with multiple keys (implicitly converted to a tuple of keys) will be deprecated, use a list instead.\n",
            "  \"\"\"Entry point for launching an IPython kernel.\n"
          ]
        },
        {
          "output_type": "execute_result",
          "data": {
            "text/plain": [
              "       Area Category  Terjual/Belum  Arah Hadap Rumah  Posisi Rumah  \\\n",
              "agglo                                                                 \n",
              "0                  2              1                 3             2   \n",
              "1                  2              1                 3             2   \n",
              "2                  3              1                 3             2   \n",
              "3                  1              1                 3             2   \n",
              "\n",
              "       Lebar Jalan Depan Rumah (ROW)  \n",
              "agglo                                 \n",
              "0                                  2  \n",
              "1                                  2  \n",
              "2                                  2  \n",
              "3                                  3  "
            ],
            "text/html": [
              "\n",
              "  <div id=\"df-0090d2ec-95b4-4c1b-8ea2-1406fff46a58\">\n",
              "    <div class=\"colab-df-container\">\n",
              "      <div>\n",
              "<style scoped>\n",
              "    .dataframe tbody tr th:only-of-type {\n",
              "        vertical-align: middle;\n",
              "    }\n",
              "\n",
              "    .dataframe tbody tr th {\n",
              "        vertical-align: top;\n",
              "    }\n",
              "\n",
              "    .dataframe thead th {\n",
              "        text-align: right;\n",
              "    }\n",
              "</style>\n",
              "<table border=\"1\" class=\"dataframe\">\n",
              "  <thead>\n",
              "    <tr style=\"text-align: right;\">\n",
              "      <th></th>\n",
              "      <th>Area Category</th>\n",
              "      <th>Terjual/Belum</th>\n",
              "      <th>Arah Hadap Rumah</th>\n",
              "      <th>Posisi Rumah</th>\n",
              "      <th>Lebar Jalan Depan Rumah (ROW)</th>\n",
              "    </tr>\n",
              "    <tr>\n",
              "      <th>agglo</th>\n",
              "      <th></th>\n",
              "      <th></th>\n",
              "      <th></th>\n",
              "      <th></th>\n",
              "      <th></th>\n",
              "    </tr>\n",
              "  </thead>\n",
              "  <tbody>\n",
              "    <tr>\n",
              "      <th>0</th>\n",
              "      <td>2</td>\n",
              "      <td>1</td>\n",
              "      <td>3</td>\n",
              "      <td>2</td>\n",
              "      <td>2</td>\n",
              "    </tr>\n",
              "    <tr>\n",
              "      <th>1</th>\n",
              "      <td>2</td>\n",
              "      <td>1</td>\n",
              "      <td>3</td>\n",
              "      <td>2</td>\n",
              "      <td>2</td>\n",
              "    </tr>\n",
              "    <tr>\n",
              "      <th>2</th>\n",
              "      <td>3</td>\n",
              "      <td>1</td>\n",
              "      <td>3</td>\n",
              "      <td>2</td>\n",
              "      <td>2</td>\n",
              "    </tr>\n",
              "    <tr>\n",
              "      <th>3</th>\n",
              "      <td>1</td>\n",
              "      <td>1</td>\n",
              "      <td>3</td>\n",
              "      <td>2</td>\n",
              "      <td>3</td>\n",
              "    </tr>\n",
              "  </tbody>\n",
              "</table>\n",
              "</div>\n",
              "      <button class=\"colab-df-convert\" onclick=\"convertToInteractive('df-0090d2ec-95b4-4c1b-8ea2-1406fff46a58')\"\n",
              "              title=\"Convert this dataframe to an interactive table.\"\n",
              "              style=\"display:none;\">\n",
              "        \n",
              "  <svg xmlns=\"http://www.w3.org/2000/svg\" height=\"24px\"viewBox=\"0 0 24 24\"\n",
              "       width=\"24px\">\n",
              "    <path d=\"M0 0h24v24H0V0z\" fill=\"none\"/>\n",
              "    <path d=\"M18.56 5.44l.94 2.06.94-2.06 2.06-.94-2.06-.94-.94-2.06-.94 2.06-2.06.94zm-11 1L8.5 8.5l.94-2.06 2.06-.94-2.06-.94L8.5 2.5l-.94 2.06-2.06.94zm10 10l.94 2.06.94-2.06 2.06-.94-2.06-.94-.94-2.06-.94 2.06-2.06.94z\"/><path d=\"M17.41 7.96l-1.37-1.37c-.4-.4-.92-.59-1.43-.59-.52 0-1.04.2-1.43.59L10.3 9.45l-7.72 7.72c-.78.78-.78 2.05 0 2.83L4 21.41c.39.39.9.59 1.41.59.51 0 1.02-.2 1.41-.59l7.78-7.78 2.81-2.81c.8-.78.8-2.07 0-2.86zM5.41 20L4 18.59l7.72-7.72 1.47 1.35L5.41 20z\"/>\n",
              "  </svg>\n",
              "      </button>\n",
              "      \n",
              "  <style>\n",
              "    .colab-df-container {\n",
              "      display:flex;\n",
              "      flex-wrap:wrap;\n",
              "      gap: 12px;\n",
              "    }\n",
              "\n",
              "    .colab-df-convert {\n",
              "      background-color: #E8F0FE;\n",
              "      border: none;\n",
              "      border-radius: 50%;\n",
              "      cursor: pointer;\n",
              "      display: none;\n",
              "      fill: #1967D2;\n",
              "      height: 32px;\n",
              "      padding: 0 0 0 0;\n",
              "      width: 32px;\n",
              "    }\n",
              "\n",
              "    .colab-df-convert:hover {\n",
              "      background-color: #E2EBFA;\n",
              "      box-shadow: 0px 1px 2px rgba(60, 64, 67, 0.3), 0px 1px 3px 1px rgba(60, 64, 67, 0.15);\n",
              "      fill: #174EA6;\n",
              "    }\n",
              "\n",
              "    [theme=dark] .colab-df-convert {\n",
              "      background-color: #3B4455;\n",
              "      fill: #D2E3FC;\n",
              "    }\n",
              "\n",
              "    [theme=dark] .colab-df-convert:hover {\n",
              "      background-color: #434B5C;\n",
              "      box-shadow: 0px 1px 3px 1px rgba(0, 0, 0, 0.15);\n",
              "      filter: drop-shadow(0px 1px 2px rgba(0, 0, 0, 0.3));\n",
              "      fill: #FFFFFF;\n",
              "    }\n",
              "  </style>\n",
              "\n",
              "      <script>\n",
              "        const buttonEl =\n",
              "          document.querySelector('#df-0090d2ec-95b4-4c1b-8ea2-1406fff46a58 button.colab-df-convert');\n",
              "        buttonEl.style.display =\n",
              "          google.colab.kernel.accessAllowed ? 'block' : 'none';\n",
              "\n",
              "        async function convertToInteractive(key) {\n",
              "          const element = document.querySelector('#df-0090d2ec-95b4-4c1b-8ea2-1406fff46a58');\n",
              "          const dataTable =\n",
              "            await google.colab.kernel.invokeFunction('convertToInteractive',\n",
              "                                                     [key], {});\n",
              "          if (!dataTable) return;\n",
              "\n",
              "          const docLinkHtml = 'Like what you see? Visit the ' +\n",
              "            '<a target=\"_blank\" href=https://colab.research.google.com/notebooks/data_table.ipynb>data table notebook</a>'\n",
              "            + ' to learn more about interactive tables.';\n",
              "          element.innerHTML = '';\n",
              "          dataTable['output_type'] = 'display_data';\n",
              "          await google.colab.output.renderOutput(dataTable, element);\n",
              "          const docLink = document.createElement('div');\n",
              "          docLink.innerHTML = docLinkHtml;\n",
              "          element.appendChild(docLink);\n",
              "        }\n",
              "      </script>\n",
              "    </div>\n",
              "  </div>\n",
              "  "
            ]
          },
          "metadata": {},
          "execution_count": 306
        }
      ]
    },
    {
      "cell_type": "code",
      "source": [
        "df.groupby(\"agglo\")[\"Luas Tanah (m2)\", \"Luas Bangunan (m2)\", \"Jumlah Kamar\", \"Jumlah Kamar Mandi\", \"Tingkat/Lantai \", \n",
        "                     \"Harga Penawaran (dari Owner)\"].agg(pd.Series.mean)"
      ],
      "metadata": {
        "colab": {
          "base_uri": "https://localhost:8080/",
          "height": 261
        },
        "id": "toPHW3fTIHYj",
        "outputId": "88d18bde-b9ee-41c6-9548-1d43059ded20"
      },
      "execution_count": 307,
      "outputs": [
        {
          "output_type": "stream",
          "name": "stderr",
          "text": [
            "/usr/local/lib/python3.7/dist-packages/ipykernel_launcher.py:1: FutureWarning: Indexing with multiple keys (implicitly converted to a tuple of keys) will be deprecated, use a list instead.\n",
            "  \"\"\"Entry point for launching an IPython kernel.\n"
          ]
        },
        {
          "output_type": "execute_result",
          "data": {
            "text/plain": [
              "       Luas Tanah (m2)  Luas Bangunan (m2)  Jumlah Kamar  Jumlah Kamar Mandi  \\\n",
              "agglo                                                                          \n",
              "0           163.090361          218.156627      4.301205            3.451807   \n",
              "1           450.482759          539.034483      5.965517            4.913793   \n",
              "2           119.026316          107.131579      2.697368            1.723684   \n",
              "3           956.750000          815.000000      6.500000            4.875000   \n",
              "\n",
              "       Tingkat/Lantai   Harga Penawaran (dari Owner)  \n",
              "agglo                                                 \n",
              "0             2.048193                  3.094804e+09  \n",
              "1             2.017241                  1.014621e+10  \n",
              "2             1.289474                  1.548517e+09  \n",
              "3             1.500000                  4.056250e+10  "
            ],
            "text/html": [
              "\n",
              "  <div id=\"df-3913b7a3-a563-4f4b-914c-84fbcbdf8ed4\">\n",
              "    <div class=\"colab-df-container\">\n",
              "      <div>\n",
              "<style scoped>\n",
              "    .dataframe tbody tr th:only-of-type {\n",
              "        vertical-align: middle;\n",
              "    }\n",
              "\n",
              "    .dataframe tbody tr th {\n",
              "        vertical-align: top;\n",
              "    }\n",
              "\n",
              "    .dataframe thead th {\n",
              "        text-align: right;\n",
              "    }\n",
              "</style>\n",
              "<table border=\"1\" class=\"dataframe\">\n",
              "  <thead>\n",
              "    <tr style=\"text-align: right;\">\n",
              "      <th></th>\n",
              "      <th>Luas Tanah (m2)</th>\n",
              "      <th>Luas Bangunan (m2)</th>\n",
              "      <th>Jumlah Kamar</th>\n",
              "      <th>Jumlah Kamar Mandi</th>\n",
              "      <th>Tingkat/Lantai</th>\n",
              "      <th>Harga Penawaran (dari Owner)</th>\n",
              "    </tr>\n",
              "    <tr>\n",
              "      <th>agglo</th>\n",
              "      <th></th>\n",
              "      <th></th>\n",
              "      <th></th>\n",
              "      <th></th>\n",
              "      <th></th>\n",
              "      <th></th>\n",
              "    </tr>\n",
              "  </thead>\n",
              "  <tbody>\n",
              "    <tr>\n",
              "      <th>0</th>\n",
              "      <td>163.090361</td>\n",
              "      <td>218.156627</td>\n",
              "      <td>4.301205</td>\n",
              "      <td>3.451807</td>\n",
              "      <td>2.048193</td>\n",
              "      <td>3.094804e+09</td>\n",
              "    </tr>\n",
              "    <tr>\n",
              "      <th>1</th>\n",
              "      <td>450.482759</td>\n",
              "      <td>539.034483</td>\n",
              "      <td>5.965517</td>\n",
              "      <td>4.913793</td>\n",
              "      <td>2.017241</td>\n",
              "      <td>1.014621e+10</td>\n",
              "    </tr>\n",
              "    <tr>\n",
              "      <th>2</th>\n",
              "      <td>119.026316</td>\n",
              "      <td>107.131579</td>\n",
              "      <td>2.697368</td>\n",
              "      <td>1.723684</td>\n",
              "      <td>1.289474</td>\n",
              "      <td>1.548517e+09</td>\n",
              "    </tr>\n",
              "    <tr>\n",
              "      <th>3</th>\n",
              "      <td>956.750000</td>\n",
              "      <td>815.000000</td>\n",
              "      <td>6.500000</td>\n",
              "      <td>4.875000</td>\n",
              "      <td>1.500000</td>\n",
              "      <td>4.056250e+10</td>\n",
              "    </tr>\n",
              "  </tbody>\n",
              "</table>\n",
              "</div>\n",
              "      <button class=\"colab-df-convert\" onclick=\"convertToInteractive('df-3913b7a3-a563-4f4b-914c-84fbcbdf8ed4')\"\n",
              "              title=\"Convert this dataframe to an interactive table.\"\n",
              "              style=\"display:none;\">\n",
              "        \n",
              "  <svg xmlns=\"http://www.w3.org/2000/svg\" height=\"24px\"viewBox=\"0 0 24 24\"\n",
              "       width=\"24px\">\n",
              "    <path d=\"M0 0h24v24H0V0z\" fill=\"none\"/>\n",
              "    <path d=\"M18.56 5.44l.94 2.06.94-2.06 2.06-.94-2.06-.94-.94-2.06-.94 2.06-2.06.94zm-11 1L8.5 8.5l.94-2.06 2.06-.94-2.06-.94L8.5 2.5l-.94 2.06-2.06.94zm10 10l.94 2.06.94-2.06 2.06-.94-2.06-.94-.94-2.06-.94 2.06-2.06.94z\"/><path d=\"M17.41 7.96l-1.37-1.37c-.4-.4-.92-.59-1.43-.59-.52 0-1.04.2-1.43.59L10.3 9.45l-7.72 7.72c-.78.78-.78 2.05 0 2.83L4 21.41c.39.39.9.59 1.41.59.51 0 1.02-.2 1.41-.59l7.78-7.78 2.81-2.81c.8-.78.8-2.07 0-2.86zM5.41 20L4 18.59l7.72-7.72 1.47 1.35L5.41 20z\"/>\n",
              "  </svg>\n",
              "      </button>\n",
              "      \n",
              "  <style>\n",
              "    .colab-df-container {\n",
              "      display:flex;\n",
              "      flex-wrap:wrap;\n",
              "      gap: 12px;\n",
              "    }\n",
              "\n",
              "    .colab-df-convert {\n",
              "      background-color: #E8F0FE;\n",
              "      border: none;\n",
              "      border-radius: 50%;\n",
              "      cursor: pointer;\n",
              "      display: none;\n",
              "      fill: #1967D2;\n",
              "      height: 32px;\n",
              "      padding: 0 0 0 0;\n",
              "      width: 32px;\n",
              "    }\n",
              "\n",
              "    .colab-df-convert:hover {\n",
              "      background-color: #E2EBFA;\n",
              "      box-shadow: 0px 1px 2px rgba(60, 64, 67, 0.3), 0px 1px 3px 1px rgba(60, 64, 67, 0.15);\n",
              "      fill: #174EA6;\n",
              "    }\n",
              "\n",
              "    [theme=dark] .colab-df-convert {\n",
              "      background-color: #3B4455;\n",
              "      fill: #D2E3FC;\n",
              "    }\n",
              "\n",
              "    [theme=dark] .colab-df-convert:hover {\n",
              "      background-color: #434B5C;\n",
              "      box-shadow: 0px 1px 3px 1px rgba(0, 0, 0, 0.15);\n",
              "      filter: drop-shadow(0px 1px 2px rgba(0, 0, 0, 0.3));\n",
              "      fill: #FFFFFF;\n",
              "    }\n",
              "  </style>\n",
              "\n",
              "      <script>\n",
              "        const buttonEl =\n",
              "          document.querySelector('#df-3913b7a3-a563-4f4b-914c-84fbcbdf8ed4 button.colab-df-convert');\n",
              "        buttonEl.style.display =\n",
              "          google.colab.kernel.accessAllowed ? 'block' : 'none';\n",
              "\n",
              "        async function convertToInteractive(key) {\n",
              "          const element = document.querySelector('#df-3913b7a3-a563-4f4b-914c-84fbcbdf8ed4');\n",
              "          const dataTable =\n",
              "            await google.colab.kernel.invokeFunction('convertToInteractive',\n",
              "                                                     [key], {});\n",
              "          if (!dataTable) return;\n",
              "\n",
              "          const docLinkHtml = 'Like what you see? Visit the ' +\n",
              "            '<a target=\"_blank\" href=https://colab.research.google.com/notebooks/data_table.ipynb>data table notebook</a>'\n",
              "            + ' to learn more about interactive tables.';\n",
              "          element.innerHTML = '';\n",
              "          dataTable['output_type'] = 'display_data';\n",
              "          await google.colab.output.renderOutput(dataTable, element);\n",
              "          const docLink = document.createElement('div');\n",
              "          docLink.innerHTML = docLinkHtml;\n",
              "          element.appendChild(docLink);\n",
              "        }\n",
              "      </script>\n",
              "    </div>\n",
              "  </div>\n",
              "  "
            ]
          },
          "metadata": {},
          "execution_count": 307
        }
      ]
    },
    {
      "cell_type": "code",
      "source": [
        "df.groupby(\"agglo\")[\"agglo\"].agg(pd.Series.count)"
      ],
      "metadata": {
        "colab": {
          "base_uri": "https://localhost:8080/"
        },
        "id": "41xVNZP4IJIj",
        "outputId": "118d46ad-993b-497f-a2e9-6305bb5a47e1"
      },
      "execution_count": 308,
      "outputs": [
        {
          "output_type": "execute_result",
          "data": {
            "text/plain": [
              "agglo\n",
              "0    166\n",
              "1     58\n",
              "2     76\n",
              "3      8\n",
              "Name: agglo, dtype: int64"
            ]
          },
          "metadata": {},
          "execution_count": 308
        }
      ]
    },
    {
      "cell_type": "markdown",
      "source": [
        "# [Michan] Hierarchical Visualization"
      ],
      "metadata": {
        "id": "gZjfsEFOqLro"
      }
    },
    {
      "cell_type": "markdown",
      "source": [
        "[Michan] Single Linkage"
      ],
      "metadata": {
        "id": "6qpiPUi_qV19"
      }
    },
    {
      "cell_type": "code",
      "source": [
        "import scipy.cluster.hierarchy as hie\n",
        "\n",
        "plt.figure(figsize=(10,7))\n",
        "plt.title(\"Customer Hierarchical Clustering with MIN Method\", pad=20)\n",
        "dendro = hie.dendrogram(hie.linkage(df2, method=\"single\"))"
      ],
      "metadata": {
        "colab": {
          "base_uri": "https://localhost:8080/",
          "height": 458
        },
        "id": "2r064c_9qLU9",
        "outputId": "4d04a338-3bf5-457f-8980-e3aa09ff5155"
      },
      "execution_count": 309,
      "outputs": [
        {
          "output_type": "display_data",
          "data": {
            "text/plain": [
              "<Figure size 720x504 with 1 Axes>"
            ],
            "image/png": "[encoded data removed]"
          },
          "metadata": {
            "needs_background": "light"
          }
        }
      ]
    },
    {
      "cell_type": "markdown",
      "source": [
        "[Michan] complete linkage"
      ],
      "metadata": {
        "id": "NLXusmjnqiKs"
      }
    },
    {
      "cell_type": "code",
      "source": [
        "plt.figure(figsize=(10,7))\n",
        "plt.title(\"Customer Hierarchical Clustering with MAX Method\", pad=20)\n",
        "dendro = hie.dendrogram(hie.linkage(df2, method=\"complete\"))"
      ],
      "metadata": {
        "colab": {
          "base_uri": "https://localhost:8080/",
          "height": 458
        },
        "id": "nY9cZ22PqmDv",
        "outputId": "f9ab6757-c10d-4250-e61d-a212e11e261c"
      },
      "execution_count": 310,
      "outputs": [
        {
          "output_type": "display_data",
          "data": {
            "text/plain": [
              "<Figure size 720x504 with 1 Axes>"
            ],
            "image/png": "[encoded data removed]"
          },
          "metadata": {
            "needs_background": "light"
          }
        }
      ]
    },
    {
      "cell_type": "markdown",
      "source": [
        "[Michan] average linkage"
      ],
      "metadata": {
        "id": "KTzdIUgBqxlv"
      }
    },
    {
      "cell_type": "code",
      "source": [
        "plt.figure(figsize=(10,7))\n",
        "plt.title(\"Customer Hierarchical Clustering with AVERAGE Method\", pad=20)\n",
        "dendro = hie.dendrogram(hie.linkage(df2, method=\"average\"))"
      ],
      "metadata": {
        "colab": {
          "base_uri": "https://localhost:8080/",
          "height": 458
        },
        "id": "SDVKBXKxq12g",
        "outputId": "69df400c-fb78-4405-e974-b6e396fc6fc3"
      },
      "execution_count": 311,
      "outputs": [
        {
          "output_type": "display_data",
          "data": {
            "text/plain": [
              "<Figure size 720x504 with 1 Axes>"
            ],
            "image/png": "[encoded data removed]"
          },
          "metadata": {
            "needs_background": "light"
          }
        }
      ]
    },
    {
      "cell_type": "markdown",
      "source": [
        "[Michan] ward linkage"
      ],
      "metadata": {
        "id": "Dh9oOv59q9E5"
      }
    },
    {
      "cell_type": "code",
      "source": [
        "plt.figure(figsize=(10,7))\n",
        "plt.title(\"Customer Hierarchical Clustering with WARD Method\", pad=20)\n",
        "dendro = hie.dendrogram(hie.linkage(df2, method=\"ward\"))"
      ],
      "metadata": {
        "colab": {
          "base_uri": "https://localhost:8080/",
          "height": 458
        },
        "id": "6315xN-arAp9",
        "outputId": "1db27a73-9240-42a7-e12e-991ec5cd9947"
      },
      "execution_count": 312,
      "outputs": [
        {
          "output_type": "display_data",
          "data": {
            "text/plain": [
              "<Figure size 720x504 with 1 Axes>"
            ],
            "image/png": "[encoded data removed]"
          },
          "metadata": {
            "needs_background": "light"
          }
        }
      ]
    }
  ]
}