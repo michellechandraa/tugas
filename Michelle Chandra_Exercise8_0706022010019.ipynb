{
  "nbformat": 4,
  "nbformat_minor": 0,
  "metadata": {
    "colab": {
      "provenance": [],
      "collapsed_sections": []
    },
    "kernelspec": {
      "name": "python3",
      "display_name": "Python 3"
    },
    "language_info": {
      "name": "python"
    }
  },
  "cells": [
    {
      "cell_type": "markdown",
      "metadata": {
        "id": "W2efh8eL23qK"
      },
      "source": [
        "# Exercise Week 8:Clustering\n",
        "-------------------------------------------\n",
        "\n",
        "dataset:\n",
        "https://raw.githubusercontent.com/michellechandraa/tugas/main/Property%20Dataset%20-%20Clustering.csv\n"
      ]
    },
    {
      "cell_type": "markdown",
      "metadata": {
        "id": "Q93i8D5M3orJ"
      },
      "source": [
        "Import library yang dibutuhkan"
      ]
    },
    {
      "cell_type": "code",
      "metadata": {
        "id": "InthM3ox1VA1",
        "colab": {
          "base_uri": "https://localhost:8080/"
        },
        "outputId": "429b364b-e7f1-4282-ffa8-fff090bcb30e"
      },
      "source": [
        "import numpy as np\n",
        "import pandas as pd\n",
        "from matplotlib import pyplot as plt\n",
        "import seaborn as sns\n",
        "!pip install kneed"
      ],
      "execution_count": 209,
      "outputs": [
        {
          "output_type": "stream",
          "name": "stdout",
          "text": [
            "Looking in indexes: https://pypi.org/simple, https://us-python.pkg.dev/colab-wheels/public/simple/\n",
            "Requirement already satisfied: kneed in /usr/local/lib/python3.7/dist-packages (0.8.1)\n",
            "Requirement already satisfied: numpy>=1.14.2 in /usr/local/lib/python3.7/dist-packages (from kneed) (1.21.6)\n",
            "Requirement already satisfied: scipy>=1.0.0 in /usr/local/lib/python3.7/dist-packages (from kneed) (1.7.3)\n"
          ]
        }
      ]
    },
    {
      "cell_type": "markdown",
      "metadata": {
        "id": "5kQApGMa30nv"
      },
      "source": [
        "Load dataset"
      ]
    },
    {
      "cell_type": "code",
      "metadata": {
        "id": "RSXKxZMJ32tQ",
        "colab": {
          "base_uri": "https://localhost:8080/",
          "height": 406
        },
        "outputId": "9ec981b1-556e-442a-9057-b31eabbbcc86"
      },
      "source": [
        "url = \"https://raw.githubusercontent.com/michellechandraa/tugas/main/Property%20Dataset%20-%20Clustering.csv\"\n",
        "df = pd.read_csv(url, delimiter=\";\")\n",
        "df.head(5)"
      ],
      "execution_count": 210,
      "outputs": [
        {
          "output_type": "execute_result",
          "data": {
            "text/plain": [
              "    Area Category       Nama Daerah  Luas Tanah (m2) Luas Bangunan (m2)  \\\n",
              "0             NaN               NaN              NaN                NaN   \n",
              "1  Below Standard  Setro Baru Utara             30.0                 60   \n",
              "2        Standard          Kenjeran            170.0                170   \n",
              "3  Sangat Premium          Kenjeran            187.0                250   \n",
              "4         Premium          Kenjeran            350.0                600   \n",
              "\n",
              "   Jumlah Kamar  Jumlah Kamar Mandi  Tingkat/Lantai   \\\n",
              "0           NaN                 NaN              NaN   \n",
              "1           2.0                 1.0              2.0   \n",
              "2           5.0                 4.0              2.0   \n",
              "3           5.0                 5.0              2.0   \n",
              "4           5.0                 5.0              2.0   \n",
              "\n",
              "  Harga Penawaran (dari Owner) Terjual/Belum Arah Hadap Rumah  \\\n",
              "0                          NaN           NaN              NaN   \n",
              "1                    287799000         Belum              NaN   \n",
              "2                   2699999999         Belum          Selatan   \n",
              "3                   3100000000         Belum            Utara   \n",
              "4                   5000000000         Belum            Barat   \n",
              "\n",
              "                  Posisi Rumah Lebar Jalan Depan Rumah (ROW)  \n",
              "0                          NaN                           NaN  \n",
              "1                     Standard                     < 1 Mobil  \n",
              "2  Cul De Sac/Ujung Gang Buntu                     1-2 Mobil  \n",
              "3                     Standard                     1-2 Mobil  \n",
              "4                     Standard                     1-2 Mobil  "
            ],
            "text/html": [
              "\n",
              "  <div id=\"df-e0af7273-7562-495a-9679-0b671eb5f2e7\">\n",
              "    <div class=\"colab-df-container\">\n",
              "      <div>\n",
              "<style scoped>\n",
              "    .dataframe tbody tr th:only-of-type {\n",
              "        vertical-align: middle;\n",
              "    }\n",
              "\n",
              "    .dataframe tbody tr th {\n",
              "        vertical-align: top;\n",
              "    }\n",
              "\n",
              "    .dataframe thead th {\n",
              "        text-align: right;\n",
              "    }\n",
              "</style>\n",
              "<table border=\"1\" class=\"dataframe\">\n",
              "  <thead>\n",
              "    <tr style=\"text-align: right;\">\n",
              "      <th></th>\n",
              "      <th>Area Category</th>\n",
              "      <th>Nama Daerah</th>\n",
              "      <th>Luas Tanah (m2)</th>\n",
              "      <th>Luas Bangunan (m2)</th>\n",
              "      <th>Jumlah Kamar</th>\n",
              "      <th>Jumlah Kamar Mandi</th>\n",
              "      <th>Tingkat/Lantai</th>\n",
              "      <th>Harga Penawaran (dari Owner)</th>\n",
              "      <th>Terjual/Belum</th>\n",
              "      <th>Arah Hadap Rumah</th>\n",
              "      <th>Posisi Rumah</th>\n",
              "      <th>Lebar Jalan Depan Rumah (ROW)</th>\n",
              "    </tr>\n",
              "  </thead>\n",
              "  <tbody>\n",
              "    <tr>\n",
              "      <th>0</th>\n",
              "      <td>NaN</td>\n",
              "      <td>NaN</td>\n",
              "      <td>NaN</td>\n",
              "      <td>NaN</td>\n",
              "      <td>NaN</td>\n",
              "      <td>NaN</td>\n",
              "      <td>NaN</td>\n",
              "      <td>NaN</td>\n",
              "      <td>NaN</td>\n",
              "      <td>NaN</td>\n",
              "      <td>NaN</td>\n",
              "      <td>NaN</td>\n",
              "    </tr>\n",
              "    <tr>\n",
              "      <th>1</th>\n",
              "      <td>Below Standard</td>\n",
              "      <td>Setro Baru Utara</td>\n",
              "      <td>30.0</td>\n",
              "      <td>60</td>\n",
              "      <td>2.0</td>\n",
              "      <td>1.0</td>\n",
              "      <td>2.0</td>\n",
              "      <td>287799000</td>\n",
              "      <td>Belum</td>\n",
              "      <td>NaN</td>\n",
              "      <td>Standard</td>\n",
              "      <td>&lt; 1 Mobil</td>\n",
              "    </tr>\n",
              "    <tr>\n",
              "      <th>2</th>\n",
              "      <td>Standard</td>\n",
              "      <td>Kenjeran</td>\n",
              "      <td>170.0</td>\n",
              "      <td>170</td>\n",
              "      <td>5.0</td>\n",
              "      <td>4.0</td>\n",
              "      <td>2.0</td>\n",
              "      <td>2699999999</td>\n",
              "      <td>Belum</td>\n",
              "      <td>Selatan</td>\n",
              "      <td>Cul De Sac/Ujung Gang Buntu</td>\n",
              "      <td>1-2 Mobil</td>\n",
              "    </tr>\n",
              "    <tr>\n",
              "      <th>3</th>\n",
              "      <td>Sangat Premium</td>\n",
              "      <td>Kenjeran</td>\n",
              "      <td>187.0</td>\n",
              "      <td>250</td>\n",
              "      <td>5.0</td>\n",
              "      <td>5.0</td>\n",
              "      <td>2.0</td>\n",
              "      <td>3100000000</td>\n",
              "      <td>Belum</td>\n",
              "      <td>Utara</td>\n",
              "      <td>Standard</td>\n",
              "      <td>1-2 Mobil</td>\n",
              "    </tr>\n",
              "    <tr>\n",
              "      <th>4</th>\n",
              "      <td>Premium</td>\n",
              "      <td>Kenjeran</td>\n",
              "      <td>350.0</td>\n",
              "      <td>600</td>\n",
              "      <td>5.0</td>\n",
              "      <td>5.0</td>\n",
              "      <td>2.0</td>\n",
              "      <td>5000000000</td>\n",
              "      <td>Belum</td>\n",
              "      <td>Barat</td>\n",
              "      <td>Standard</td>\n",
              "      <td>1-2 Mobil</td>\n",
              "    </tr>\n",
              "  </tbody>\n",
              "</table>\n",
              "</div>\n",
              "      <button class=\"colab-df-convert\" onclick=\"convertToInteractive('df-e0af7273-7562-495a-9679-0b671eb5f2e7')\"\n",
              "              title=\"Convert this dataframe to an interactive table.\"\n",
              "              style=\"display:none;\">\n",
              "        \n",
              "  <svg xmlns=\"http://www.w3.org/2000/svg\" height=\"24px\"viewBox=\"0 0 24 24\"\n",
              "       width=\"24px\">\n",
              "    <path d=\"M0 0h24v24H0V0z\" fill=\"none\"/>\n",
              "    <path d=\"M18.56 5.44l.94 2.06.94-2.06 2.06-.94-2.06-.94-.94-2.06-.94 2.06-2.06.94zm-11 1L8.5 8.5l.94-2.06 2.06-.94-2.06-.94L8.5 2.5l-.94 2.06-2.06.94zm10 10l.94 2.06.94-2.06 2.06-.94-2.06-.94-.94-2.06-.94 2.06-2.06.94z\"/><path d=\"M17.41 7.96l-1.37-1.37c-.4-.4-.92-.59-1.43-.59-.52 0-1.04.2-1.43.59L10.3 9.45l-7.72 7.72c-.78.78-.78 2.05 0 2.83L4 21.41c.39.39.9.59 1.41.59.51 0 1.02-.2 1.41-.59l7.78-7.78 2.81-2.81c.8-.78.8-2.07 0-2.86zM5.41 20L4 18.59l7.72-7.72 1.47 1.35L5.41 20z\"/>\n",
              "  </svg>\n",
              "      </button>\n",
              "      \n",
              "  <style>\n",
              "    .colab-df-container {\n",
              "      display:flex;\n",
              "      flex-wrap:wrap;\n",
              "      gap: 12px;\n",
              "    }\n",
              "\n",
              "    .colab-df-convert {\n",
              "      background-color: #E8F0FE;\n",
              "      border: none;\n",
              "      border-radius: 50%;\n",
              "      cursor: pointer;\n",
              "      display: none;\n",
              "      fill: #1967D2;\n",
              "      height: 32px;\n",
              "      padding: 0 0 0 0;\n",
              "      width: 32px;\n",
              "    }\n",
              "\n",
              "    .colab-df-convert:hover {\n",
              "      background-color: #E2EBFA;\n",
              "      box-shadow: 0px 1px 2px rgba(60, 64, 67, 0.3), 0px 1px 3px 1px rgba(60, 64, 67, 0.15);\n",
              "      fill: #174EA6;\n",
              "    }\n",
              "\n",
              "    [theme=dark] .colab-df-convert {\n",
              "      background-color: #3B4455;\n",
              "      fill: #D2E3FC;\n",
              "    }\n",
              "\n",
              "    [theme=dark] .colab-df-convert:hover {\n",
              "      background-color: #434B5C;\n",
              "      box-shadow: 0px 1px 3px 1px rgba(0, 0, 0, 0.15);\n",
              "      filter: drop-shadow(0px 1px 2px rgba(0, 0, 0, 0.3));\n",
              "      fill: #FFFFFF;\n",
              "    }\n",
              "  </style>\n",
              "\n",
              "      <script>\n",
              "        const buttonEl =\n",
              "          document.querySelector('#df-e0af7273-7562-495a-9679-0b671eb5f2e7 button.colab-df-convert');\n",
              "        buttonEl.style.display =\n",
              "          google.colab.kernel.accessAllowed ? 'block' : 'none';\n",
              "\n",
              "        async function convertToInteractive(key) {\n",
              "          const element = document.querySelector('#df-e0af7273-7562-495a-9679-0b671eb5f2e7');\n",
              "          const dataTable =\n",
              "            await google.colab.kernel.invokeFunction('convertToInteractive',\n",
              "                                                     [key], {});\n",
              "          if (!dataTable) return;\n",
              "\n",
              "          const docLinkHtml = 'Like what you see? Visit the ' +\n",
              "            '<a target=\"_blank\" href=https://colab.research.google.com/notebooks/data_table.ipynb>data table notebook</a>'\n",
              "            + ' to learn more about interactive tables.';\n",
              "          element.innerHTML = '';\n",
              "          dataTable['output_type'] = 'display_data';\n",
              "          await google.colab.output.renderOutput(dataTable, element);\n",
              "          const docLink = document.createElement('div');\n",
              "          docLink.innerHTML = docLinkHtml;\n",
              "          element.appendChild(docLink);\n",
              "        }\n",
              "      </script>\n",
              "    </div>\n",
              "  </div>\n",
              "  "
            ]
          },
          "metadata": {},
          "execution_count": 210
        }
      ]
    },
    {
      "cell_type": "code",
      "source": [
        "df.describe()"
      ],
      "metadata": {
        "id": "REIB_55O6dWa",
        "outputId": "7022c3a2-6e5d-4741-d9a6-4e37702f8899",
        "colab": {
          "base_uri": "https://localhost:8080/",
          "height": 300
        }
      },
      "execution_count": 211,
      "outputs": [
        {
          "output_type": "execute_result",
          "data": {
            "text/plain": [
              "       Luas Tanah (m2)  Jumlah Kamar  Jumlah Kamar Mandi  Tingkat/Lantai \n",
              "count       307.000000    307.000000          306.000000       306.000000\n",
              "mean        226.908795      4.276873            3.339869         1.872549\n",
              "std         202.149571      1.646412            1.632311         0.531097\n",
              "min          14.000000      1.000000            1.000000         1.000000\n",
              "25%          96.000000      3.000000            2.000000         2.000000\n",
              "50%         162.000000      4.000000            3.000000         2.000000\n",
              "75%         286.000000      5.000000            4.000000         2.000000\n",
              "max        1561.000000     13.000000           13.000000         4.000000"
            ],
            "text/html": [
              "\n",
              "  <div id=\"df-c9cc4b89-912f-4ba7-b5e4-0514913d2161\">\n",
              "    <div class=\"colab-df-container\">\n",
              "      <div>\n",
              "<style scoped>\n",
              "    .dataframe tbody tr th:only-of-type {\n",
              "        vertical-align: middle;\n",
              "    }\n",
              "\n",
              "    .dataframe tbody tr th {\n",
              "        vertical-align: top;\n",
              "    }\n",
              "\n",
              "    .dataframe thead th {\n",
              "        text-align: right;\n",
              "    }\n",
              "</style>\n",
              "<table border=\"1\" class=\"dataframe\">\n",
              "  <thead>\n",
              "    <tr style=\"text-align: right;\">\n",
              "      <th></th>\n",
              "      <th>Luas Tanah (m2)</th>\n",
              "      <th>Jumlah Kamar</th>\n",
              "      <th>Jumlah Kamar Mandi</th>\n",
              "      <th>Tingkat/Lantai</th>\n",
              "    </tr>\n",
              "  </thead>\n",
              "  <tbody>\n",
              "    <tr>\n",
              "      <th>count</th>\n",
              "      <td>307.000000</td>\n",
              "      <td>307.000000</td>\n",
              "      <td>306.000000</td>\n",
              "      <td>306.000000</td>\n",
              "    </tr>\n",
              "    <tr>\n",
              "      <th>mean</th>\n",
              "      <td>226.908795</td>\n",
              "      <td>4.276873</td>\n",
              "      <td>3.339869</td>\n",
              "      <td>1.872549</td>\n",
              "    </tr>\n",
              "    <tr>\n",
              "      <th>std</th>\n",
              "      <td>202.149571</td>\n",
              "      <td>1.646412</td>\n",
              "      <td>1.632311</td>\n",
              "      <td>0.531097</td>\n",
              "    </tr>\n",
              "    <tr>\n",
              "      <th>min</th>\n",
              "      <td>14.000000</td>\n",
              "      <td>1.000000</td>\n",
              "      <td>1.000000</td>\n",
              "      <td>1.000000</td>\n",
              "    </tr>\n",
              "    <tr>\n",
              "      <th>25%</th>\n",
              "      <td>96.000000</td>\n",
              "      <td>3.000000</td>\n",
              "      <td>2.000000</td>\n",
              "      <td>2.000000</td>\n",
              "    </tr>\n",
              "    <tr>\n",
              "      <th>50%</th>\n",
              "      <td>162.000000</td>\n",
              "      <td>4.000000</td>\n",
              "      <td>3.000000</td>\n",
              "      <td>2.000000</td>\n",
              "    </tr>\n",
              "    <tr>\n",
              "      <th>75%</th>\n",
              "      <td>286.000000</td>\n",
              "      <td>5.000000</td>\n",
              "      <td>4.000000</td>\n",
              "      <td>2.000000</td>\n",
              "    </tr>\n",
              "    <tr>\n",
              "      <th>max</th>\n",
              "      <td>1561.000000</td>\n",
              "      <td>13.000000</td>\n",
              "      <td>13.000000</td>\n",
              "      <td>4.000000</td>\n",
              "    </tr>\n",
              "  </tbody>\n",
              "</table>\n",
              "</div>\n",
              "      <button class=\"colab-df-convert\" onclick=\"convertToInteractive('df-c9cc4b89-912f-4ba7-b5e4-0514913d2161')\"\n",
              "              title=\"Convert this dataframe to an interactive table.\"\n",
              "              style=\"display:none;\">\n",
              "        \n",
              "  <svg xmlns=\"http://www.w3.org/2000/svg\" height=\"24px\"viewBox=\"0 0 24 24\"\n",
              "       width=\"24px\">\n",
              "    <path d=\"M0 0h24v24H0V0z\" fill=\"none\"/>\n",
              "    <path d=\"M18.56 5.44l.94 2.06.94-2.06 2.06-.94-2.06-.94-.94-2.06-.94 2.06-2.06.94zm-11 1L8.5 8.5l.94-2.06 2.06-.94-2.06-.94L8.5 2.5l-.94 2.06-2.06.94zm10 10l.94 2.06.94-2.06 2.06-.94-2.06-.94-.94-2.06-.94 2.06-2.06.94z\"/><path d=\"M17.41 7.96l-1.37-1.37c-.4-.4-.92-.59-1.43-.59-.52 0-1.04.2-1.43.59L10.3 9.45l-7.72 7.72c-.78.78-.78 2.05 0 2.83L4 21.41c.39.39.9.59 1.41.59.51 0 1.02-.2 1.41-.59l7.78-7.78 2.81-2.81c.8-.78.8-2.07 0-2.86zM5.41 20L4 18.59l7.72-7.72 1.47 1.35L5.41 20z\"/>\n",
              "  </svg>\n",
              "      </button>\n",
              "      \n",
              "  <style>\n",
              "    .colab-df-container {\n",
              "      display:flex;\n",
              "      flex-wrap:wrap;\n",
              "      gap: 12px;\n",
              "    }\n",
              "\n",
              "    .colab-df-convert {\n",
              "      background-color: #E8F0FE;\n",
              "      border: none;\n",
              "      border-radius: 50%;\n",
              "      cursor: pointer;\n",
              "      display: none;\n",
              "      fill: #1967D2;\n",
              "      height: 32px;\n",
              "      padding: 0 0 0 0;\n",
              "      width: 32px;\n",
              "    }\n",
              "\n",
              "    .colab-df-convert:hover {\n",
              "      background-color: #E2EBFA;\n",
              "      box-shadow: 0px 1px 2px rgba(60, 64, 67, 0.3), 0px 1px 3px 1px rgba(60, 64, 67, 0.15);\n",
              "      fill: #174EA6;\n",
              "    }\n",
              "\n",
              "    [theme=dark] .colab-df-convert {\n",
              "      background-color: #3B4455;\n",
              "      fill: #D2E3FC;\n",
              "    }\n",
              "\n",
              "    [theme=dark] .colab-df-convert:hover {\n",
              "      background-color: #434B5C;\n",
              "      box-shadow: 0px 1px 3px 1px rgba(0, 0, 0, 0.15);\n",
              "      filter: drop-shadow(0px 1px 2px rgba(0, 0, 0, 0.3));\n",
              "      fill: #FFFFFF;\n",
              "    }\n",
              "  </style>\n",
              "\n",
              "      <script>\n",
              "        const buttonEl =\n",
              "          document.querySelector('#df-c9cc4b89-912f-4ba7-b5e4-0514913d2161 button.colab-df-convert');\n",
              "        buttonEl.style.display =\n",
              "          google.colab.kernel.accessAllowed ? 'block' : 'none';\n",
              "\n",
              "        async function convertToInteractive(key) {\n",
              "          const element = document.querySelector('#df-c9cc4b89-912f-4ba7-b5e4-0514913d2161');\n",
              "          const dataTable =\n",
              "            await google.colab.kernel.invokeFunction('convertToInteractive',\n",
              "                                                     [key], {});\n",
              "          if (!dataTable) return;\n",
              "\n",
              "          const docLinkHtml = 'Like what you see? Visit the ' +\n",
              "            '<a target=\"_blank\" href=https://colab.research.google.com/notebooks/data_table.ipynb>data table notebook</a>'\n",
              "            + ' to learn more about interactive tables.';\n",
              "          element.innerHTML = '';\n",
              "          dataTable['output_type'] = 'display_data';\n",
              "          await google.colab.output.renderOutput(dataTable, element);\n",
              "          const docLink = document.createElement('div');\n",
              "          docLink.innerHTML = docLinkHtml;\n",
              "          element.appendChild(docLink);\n",
              "        }\n",
              "      </script>\n",
              "    </div>\n",
              "  </div>\n",
              "  "
            ]
          },
          "metadata": {},
          "execution_count": 211
        }
      ]
    },
    {
      "cell_type": "code",
      "source": [
        "df.info()"
      ],
      "metadata": {
        "colab": {
          "base_uri": "https://localhost:8080/"
        },
        "id": "4qGn83IJAK1V",
        "outputId": "9bb02091-02ba-495d-b46e-df169600c20f"
      },
      "execution_count": 212,
      "outputs": [
        {
          "output_type": "stream",
          "name": "stdout",
          "text": [
            "<class 'pandas.core.frame.DataFrame'>\n",
            "RangeIndex: 308 entries, 0 to 307\n",
            "Data columns (total 12 columns):\n",
            " #   Column                         Non-Null Count  Dtype  \n",
            "---  ------                         --------------  -----  \n",
            " 0   Area Category                  307 non-null    object \n",
            " 1   Nama Daerah                    307 non-null    object \n",
            " 2   Luas Tanah (m2)                307 non-null    float64\n",
            " 3   Luas Bangunan (m2)             307 non-null    object \n",
            " 4   Jumlah Kamar                   307 non-null    float64\n",
            " 5   Jumlah Kamar Mandi             306 non-null    float64\n",
            " 6   Tingkat/Lantai                 306 non-null    float64\n",
            " 7   Harga Penawaran (dari Owner)   307 non-null    object \n",
            " 8   Terjual/Belum                  307 non-null    object \n",
            " 9   Arah Hadap Rumah               225 non-null    object \n",
            " 10  Posisi Rumah                   192 non-null    object \n",
            " 11  Lebar Jalan Depan Rumah (ROW)  266 non-null    object \n",
            "dtypes: float64(4), object(8)\n",
            "memory usage: 29.0+ KB\n"
          ]
        }
      ]
    },
    {
      "cell_type": "markdown",
      "metadata": {
        "id": "wLpmamec9jig"
      },
      "source": [
        "Data Preparation\n",
        "\n",
        "1. cek apakah masih ada missing value pada data\n",
        "2. lakukan label encoder\n",
        "3. lakukan feature scaling pada data"
      ]
    },
    {
      "cell_type": "code",
      "metadata": {
        "id": "fAfk6XsgLeVl",
        "colab": {
          "base_uri": "https://localhost:8080/"
        },
        "outputId": "bade32f0-57b0-49aa-c876-607275f09b9d"
      },
      "source": [
        "df.isnull().sum()"
      ],
      "execution_count": 213,
      "outputs": [
        {
          "output_type": "execute_result",
          "data": {
            "text/plain": [
              "Area Category                      1\n",
              "Nama Daerah                        1\n",
              "Luas Tanah (m2)                    1\n",
              "Luas Bangunan (m2)                 1\n",
              "Jumlah Kamar                       1\n",
              "Jumlah Kamar Mandi                 2\n",
              "Tingkat/Lantai                     2\n",
              "Harga Penawaran (dari Owner)       1\n",
              "Terjual/Belum                      1\n",
              "Arah Hadap Rumah                  83\n",
              "Posisi Rumah                     116\n",
              "Lebar Jalan Depan Rumah (ROW)     42\n",
              "dtype: int64"
            ]
          },
          "metadata": {},
          "execution_count": 213
        }
      ]
    },
    {
      "cell_type": "code",
      "source": [
        "null_percent = 100 * df.isnull().sum() / len(df)\n",
        "null_percent"
      ],
      "metadata": {
        "colab": {
          "base_uri": "https://localhost:8080/"
        },
        "id": "dwaFwtz5BFZW",
        "outputId": "8d84845e-7548-4801-c856-0ed465b53661"
      },
      "execution_count": 214,
      "outputs": [
        {
          "output_type": "execute_result",
          "data": {
            "text/plain": [
              "Area Category                     0.324675\n",
              "Nama Daerah                       0.324675\n",
              "Luas Tanah (m2)                   0.324675\n",
              "Luas Bangunan (m2)                0.324675\n",
              "Jumlah Kamar                      0.324675\n",
              "Jumlah Kamar Mandi                0.649351\n",
              "Tingkat/Lantai                    0.649351\n",
              "Harga Penawaran (dari Owner)      0.324675\n",
              "Terjual/Belum                     0.324675\n",
              "Arah Hadap Rumah                 26.948052\n",
              "Posisi Rumah                     37.662338\n",
              "Lebar Jalan Depan Rumah (ROW)    13.636364\n",
              "dtype: float64"
            ]
          },
          "metadata": {},
          "execution_count": 214
        }
      ]
    },
    {
      "cell_type": "markdown",
      "source": [
        "[michan] Karena terlalu banyak null nya tetapi tidak sampai 50%, jadi lebih baik diisi saja menggunakan SimpleImputer"
      ],
      "metadata": {
        "id": "-KzjgP9fAzBk"
      }
    },
    {
      "cell_type": "code",
      "source": [
        "from sklearn.impute import SimpleImputer\n",
        "\n",
        "# strategy menggunakan mean\n",
        "imputer = SimpleImputer(strategy='most_frequent')\n",
        "df.iloc[:,:] = imputer.fit_transform(df)\n",
        "df.head(5)"
      ],
      "metadata": {
        "id": "pG9CYi3C7Iq9",
        "colab": {
          "base_uri": "https://localhost:8080/",
          "height": 406
        },
        "outputId": "0bfc514d-2605-499e-ecc8-eb052d82ef8f"
      },
      "execution_count": 215,
      "outputs": [
        {
          "output_type": "execute_result",
          "data": {
            "text/plain": [
              "    Area Category       Nama Daerah  Luas Tanah (m2) Luas Bangunan (m2)  \\\n",
              "0        Standard         Citraland            240.0                300   \n",
              "1  Below Standard  Setro Baru Utara             30.0                 60   \n",
              "2        Standard          Kenjeran            170.0                170   \n",
              "3  Sangat Premium          Kenjeran            187.0                250   \n",
              "4         Premium          Kenjeran            350.0                600   \n",
              "\n",
              "   Jumlah Kamar  Jumlah Kamar Mandi  Tingkat/Lantai   \\\n",
              "0           4.0                 3.0              2.0   \n",
              "1           2.0                 1.0              2.0   \n",
              "2           5.0                 4.0              2.0   \n",
              "3           5.0                 5.0              2.0   \n",
              "4           5.0                 5.0              2.0   \n",
              "\n",
              "  Harga Penawaran (dari Owner) Terjual/Belum Arah Hadap Rumah  \\\n",
              "0                   3500000000         Belum            Utara   \n",
              "1                    287799000         Belum            Utara   \n",
              "2                   2699999999         Belum          Selatan   \n",
              "3                   3100000000         Belum            Utara   \n",
              "4                   5000000000         Belum            Barat   \n",
              "\n",
              "                  Posisi Rumah Lebar Jalan Depan Rumah (ROW)  \n",
              "0                     Standard                     1-2 Mobil  \n",
              "1                     Standard                     < 1 Mobil  \n",
              "2  Cul De Sac/Ujung Gang Buntu                     1-2 Mobil  \n",
              "3                     Standard                     1-2 Mobil  \n",
              "4                     Standard                     1-2 Mobil  "
            ],
            "text/html": [
              "\n",
              "  <div id=\"df-6c1fea7a-7518-491f-8445-27bd189778f4\">\n",
              "    <div class=\"colab-df-container\">\n",
              "      <div>\n",
              "<style scoped>\n",
              "    .dataframe tbody tr th:only-of-type {\n",
              "        vertical-align: middle;\n",
              "    }\n",
              "\n",
              "    .dataframe tbody tr th {\n",
              "        vertical-align: top;\n",
              "    }\n",
              "\n",
              "    .dataframe thead th {\n",
              "        text-align: right;\n",
              "    }\n",
              "</style>\n",
              "<table border=\"1\" class=\"dataframe\">\n",
              "  <thead>\n",
              "    <tr style=\"text-align: right;\">\n",
              "      <th></th>\n",
              "      <th>Area Category</th>\n",
              "      <th>Nama Daerah</th>\n",
              "      <th>Luas Tanah (m2)</th>\n",
              "      <th>Luas Bangunan (m2)</th>\n",
              "      <th>Jumlah Kamar</th>\n",
              "      <th>Jumlah Kamar Mandi</th>\n",
              "      <th>Tingkat/Lantai</th>\n",
              "      <th>Harga Penawaran (dari Owner)</th>\n",
              "      <th>Terjual/Belum</th>\n",
              "      <th>Arah Hadap Rumah</th>\n",
              "      <th>Posisi Rumah</th>\n",
              "      <th>Lebar Jalan Depan Rumah (ROW)</th>\n",
              "    </tr>\n",
              "  </thead>\n",
              "  <tbody>\n",
              "    <tr>\n",
              "      <th>0</th>\n",
              "      <td>Standard</td>\n",
              "      <td>Citraland</td>\n",
              "      <td>240.0</td>\n",
              "      <td>300</td>\n",
              "      <td>4.0</td>\n",
              "      <td>3.0</td>\n",
              "      <td>2.0</td>\n",
              "      <td>3500000000</td>\n",
              "      <td>Belum</td>\n",
              "      <td>Utara</td>\n",
              "      <td>Standard</td>\n",
              "      <td>1-2 Mobil</td>\n",
              "    </tr>\n",
              "    <tr>\n",
              "      <th>1</th>\n",
              "      <td>Below Standard</td>\n",
              "      <td>Setro Baru Utara</td>\n",
              "      <td>30.0</td>\n",
              "      <td>60</td>\n",
              "      <td>2.0</td>\n",
              "      <td>1.0</td>\n",
              "      <td>2.0</td>\n",
              "      <td>287799000</td>\n",
              "      <td>Belum</td>\n",
              "      <td>Utara</td>\n",
              "      <td>Standard</td>\n",
              "      <td>&lt; 1 Mobil</td>\n",
              "    </tr>\n",
              "    <tr>\n",
              "      <th>2</th>\n",
              "      <td>Standard</td>\n",
              "      <td>Kenjeran</td>\n",
              "      <td>170.0</td>\n",
              "      <td>170</td>\n",
              "      <td>5.0</td>\n",
              "      <td>4.0</td>\n",
              "      <td>2.0</td>\n",
              "      <td>2699999999</td>\n",
              "      <td>Belum</td>\n",
              "      <td>Selatan</td>\n",
              "      <td>Cul De Sac/Ujung Gang Buntu</td>\n",
              "      <td>1-2 Mobil</td>\n",
              "    </tr>\n",
              "    <tr>\n",
              "      <th>3</th>\n",
              "      <td>Sangat Premium</td>\n",
              "      <td>Kenjeran</td>\n",
              "      <td>187.0</td>\n",
              "      <td>250</td>\n",
              "      <td>5.0</td>\n",
              "      <td>5.0</td>\n",
              "      <td>2.0</td>\n",
              "      <td>3100000000</td>\n",
              "      <td>Belum</td>\n",
              "      <td>Utara</td>\n",
              "      <td>Standard</td>\n",
              "      <td>1-2 Mobil</td>\n",
              "    </tr>\n",
              "    <tr>\n",
              "      <th>4</th>\n",
              "      <td>Premium</td>\n",
              "      <td>Kenjeran</td>\n",
              "      <td>350.0</td>\n",
              "      <td>600</td>\n",
              "      <td>5.0</td>\n",
              "      <td>5.0</td>\n",
              "      <td>2.0</td>\n",
              "      <td>5000000000</td>\n",
              "      <td>Belum</td>\n",
              "      <td>Barat</td>\n",
              "      <td>Standard</td>\n",
              "      <td>1-2 Mobil</td>\n",
              "    </tr>\n",
              "  </tbody>\n",
              "</table>\n",
              "</div>\n",
              "      <button class=\"colab-df-convert\" onclick=\"convertToInteractive('df-6c1fea7a-7518-491f-8445-27bd189778f4')\"\n",
              "              title=\"Convert this dataframe to an interactive table.\"\n",
              "              style=\"display:none;\">\n",
              "        \n",
              "  <svg xmlns=\"http://www.w3.org/2000/svg\" height=\"24px\"viewBox=\"0 0 24 24\"\n",
              "       width=\"24px\">\n",
              "    <path d=\"M0 0h24v24H0V0z\" fill=\"none\"/>\n",
              "    <path d=\"M18.56 5.44l.94 2.06.94-2.06 2.06-.94-2.06-.94-.94-2.06-.94 2.06-2.06.94zm-11 1L8.5 8.5l.94-2.06 2.06-.94-2.06-.94L8.5 2.5l-.94 2.06-2.06.94zm10 10l.94 2.06.94-2.06 2.06-.94-2.06-.94-.94-2.06-.94 2.06-2.06.94z\"/><path d=\"M17.41 7.96l-1.37-1.37c-.4-.4-.92-.59-1.43-.59-.52 0-1.04.2-1.43.59L10.3 9.45l-7.72 7.72c-.78.78-.78 2.05 0 2.83L4 21.41c.39.39.9.59 1.41.59.51 0 1.02-.2 1.41-.59l7.78-7.78 2.81-2.81c.8-.78.8-2.07 0-2.86zM5.41 20L4 18.59l7.72-7.72 1.47 1.35L5.41 20z\"/>\n",
              "  </svg>\n",
              "      </button>\n",
              "      \n",
              "  <style>\n",
              "    .colab-df-container {\n",
              "      display:flex;\n",
              "      flex-wrap:wrap;\n",
              "      gap: 12px;\n",
              "    }\n",
              "\n",
              "    .colab-df-convert {\n",
              "      background-color: #E8F0FE;\n",
              "      border: none;\n",
              "      border-radius: 50%;\n",
              "      cursor: pointer;\n",
              "      display: none;\n",
              "      fill: #1967D2;\n",
              "      height: 32px;\n",
              "      padding: 0 0 0 0;\n",
              "      width: 32px;\n",
              "    }\n",
              "\n",
              "    .colab-df-convert:hover {\n",
              "      background-color: #E2EBFA;\n",
              "      box-shadow: 0px 1px 2px rgba(60, 64, 67, 0.3), 0px 1px 3px 1px rgba(60, 64, 67, 0.15);\n",
              "      fill: #174EA6;\n",
              "    }\n",
              "\n",
              "    [theme=dark] .colab-df-convert {\n",
              "      background-color: #3B4455;\n",
              "      fill: #D2E3FC;\n",
              "    }\n",
              "\n",
              "    [theme=dark] .colab-df-convert:hover {\n",
              "      background-color: #434B5C;\n",
              "      box-shadow: 0px 1px 3px 1px rgba(0, 0, 0, 0.15);\n",
              "      filter: drop-shadow(0px 1px 2px rgba(0, 0, 0, 0.3));\n",
              "      fill: #FFFFFF;\n",
              "    }\n",
              "  </style>\n",
              "\n",
              "      <script>\n",
              "        const buttonEl =\n",
              "          document.querySelector('#df-6c1fea7a-7518-491f-8445-27bd189778f4 button.colab-df-convert');\n",
              "        buttonEl.style.display =\n",
              "          google.colab.kernel.accessAllowed ? 'block' : 'none';\n",
              "\n",
              "        async function convertToInteractive(key) {\n",
              "          const element = document.querySelector('#df-6c1fea7a-7518-491f-8445-27bd189778f4');\n",
              "          const dataTable =\n",
              "            await google.colab.kernel.invokeFunction('convertToInteractive',\n",
              "                                                     [key], {});\n",
              "          if (!dataTable) return;\n",
              "\n",
              "          const docLinkHtml = 'Like what you see? Visit the ' +\n",
              "            '<a target=\"_blank\" href=https://colab.research.google.com/notebooks/data_table.ipynb>data table notebook</a>'\n",
              "            + ' to learn more about interactive tables.';\n",
              "          element.innerHTML = '';\n",
              "          dataTable['output_type'] = 'display_data';\n",
              "          await google.colab.output.renderOutput(dataTable, element);\n",
              "          const docLink = document.createElement('div');\n",
              "          docLink.innerHTML = docLinkHtml;\n",
              "          element.appendChild(docLink);\n",
              "        }\n",
              "      </script>\n",
              "    </div>\n",
              "  </div>\n",
              "  "
            ]
          },
          "metadata": {},
          "execution_count": 215
        }
      ]
    },
    {
      "cell_type": "code",
      "source": [
        "df.isnull().sum()"
      ],
      "metadata": {
        "colab": {
          "base_uri": "https://localhost:8080/"
        },
        "id": "P39tcuz77l4m",
        "outputId": "b887c9a1-c4fb-4400-8454-b3b46562529f"
      },
      "execution_count": 216,
      "outputs": [
        {
          "output_type": "execute_result",
          "data": {
            "text/plain": [
              "Area Category                    0\n",
              "Nama Daerah                      0\n",
              "Luas Tanah (m2)                  0\n",
              "Luas Bangunan (m2)               0\n",
              "Jumlah Kamar                     0\n",
              "Jumlah Kamar Mandi               0\n",
              "Tingkat/Lantai                   0\n",
              "Harga Penawaran (dari Owner)     0\n",
              "Terjual/Belum                    0\n",
              "Arah Hadap Rumah                 0\n",
              "Posisi Rumah                     0\n",
              "Lebar Jalan Depan Rumah (ROW)    0\n",
              "dtype: int64"
            ]
          },
          "metadata": {},
          "execution_count": 216
        }
      ]
    },
    {
      "cell_type": "markdown",
      "source": [
        "[michan] drop column 'Nama Daerah' karena berbeda-beda semua"
      ],
      "metadata": {
        "id": "bX3c5v9bCx67"
      }
    },
    {
      "cell_type": "code",
      "source": [
        "df.drop(columns=['Nama Daerah'], inplace=True)\n",
        "df.head(5)"
      ],
      "metadata": {
        "colab": {
          "base_uri": "https://localhost:8080/",
          "height": 354
        },
        "id": "XBrU-DGYCkND",
        "outputId": "dbc3cdc1-8b82-4f76-f438-667e8489cf46"
      },
      "execution_count": 217,
      "outputs": [
        {
          "output_type": "execute_result",
          "data": {
            "text/plain": [
              "    Area Category  Luas Tanah (m2) Luas Bangunan (m2)  Jumlah Kamar  \\\n",
              "0        Standard            240.0                300           4.0   \n",
              "1  Below Standard             30.0                 60           2.0   \n",
              "2        Standard            170.0                170           5.0   \n",
              "3  Sangat Premium            187.0                250           5.0   \n",
              "4         Premium            350.0                600           5.0   \n",
              "\n",
              "   Jumlah Kamar Mandi  Tingkat/Lantai  Harga Penawaran (dari Owner)  \\\n",
              "0                 3.0              2.0                   3500000000   \n",
              "1                 1.0              2.0                    287799000   \n",
              "2                 4.0              2.0                   2699999999   \n",
              "3                 5.0              2.0                   3100000000   \n",
              "4                 5.0              2.0                   5000000000   \n",
              "\n",
              "  Terjual/Belum Arah Hadap Rumah                 Posisi Rumah  \\\n",
              "0         Belum            Utara                     Standard   \n",
              "1         Belum            Utara                     Standard   \n",
              "2         Belum          Selatan  Cul De Sac/Ujung Gang Buntu   \n",
              "3         Belum            Utara                     Standard   \n",
              "4         Belum            Barat                     Standard   \n",
              "\n",
              "  Lebar Jalan Depan Rumah (ROW)  \n",
              "0                     1-2 Mobil  \n",
              "1                     < 1 Mobil  \n",
              "2                     1-2 Mobil  \n",
              "3                     1-2 Mobil  \n",
              "4                     1-2 Mobil  "
            ],
            "text/html": [
              "\n",
              "  <div id=\"df-3c8e9998-7d75-43c2-b55b-d5f5717b669e\">\n",
              "    <div class=\"colab-df-container\">\n",
              "      <div>\n",
              "<style scoped>\n",
              "    .dataframe tbody tr th:only-of-type {\n",
              "        vertical-align: middle;\n",
              "    }\n",
              "\n",
              "    .dataframe tbody tr th {\n",
              "        vertical-align: top;\n",
              "    }\n",
              "\n",
              "    .dataframe thead th {\n",
              "        text-align: right;\n",
              "    }\n",
              "</style>\n",
              "<table border=\"1\" class=\"dataframe\">\n",
              "  <thead>\n",
              "    <tr style=\"text-align: right;\">\n",
              "      <th></th>\n",
              "      <th>Area Category</th>\n",
              "      <th>Luas Tanah (m2)</th>\n",
              "      <th>Luas Bangunan (m2)</th>\n",
              "      <th>Jumlah Kamar</th>\n",
              "      <th>Jumlah Kamar Mandi</th>\n",
              "      <th>Tingkat/Lantai</th>\n",
              "      <th>Harga Penawaran (dari Owner)</th>\n",
              "      <th>Terjual/Belum</th>\n",
              "      <th>Arah Hadap Rumah</th>\n",
              "      <th>Posisi Rumah</th>\n",
              "      <th>Lebar Jalan Depan Rumah (ROW)</th>\n",
              "    </tr>\n",
              "  </thead>\n",
              "  <tbody>\n",
              "    <tr>\n",
              "      <th>0</th>\n",
              "      <td>Standard</td>\n",
              "      <td>240.0</td>\n",
              "      <td>300</td>\n",
              "      <td>4.0</td>\n",
              "      <td>3.0</td>\n",
              "      <td>2.0</td>\n",
              "      <td>3500000000</td>\n",
              "      <td>Belum</td>\n",
              "      <td>Utara</td>\n",
              "      <td>Standard</td>\n",
              "      <td>1-2 Mobil</td>\n",
              "    </tr>\n",
              "    <tr>\n",
              "      <th>1</th>\n",
              "      <td>Below Standard</td>\n",
              "      <td>30.0</td>\n",
              "      <td>60</td>\n",
              "      <td>2.0</td>\n",
              "      <td>1.0</td>\n",
              "      <td>2.0</td>\n",
              "      <td>287799000</td>\n",
              "      <td>Belum</td>\n",
              "      <td>Utara</td>\n",
              "      <td>Standard</td>\n",
              "      <td>&lt; 1 Mobil</td>\n",
              "    </tr>\n",
              "    <tr>\n",
              "      <th>2</th>\n",
              "      <td>Standard</td>\n",
              "      <td>170.0</td>\n",
              "      <td>170</td>\n",
              "      <td>5.0</td>\n",
              "      <td>4.0</td>\n",
              "      <td>2.0</td>\n",
              "      <td>2699999999</td>\n",
              "      <td>Belum</td>\n",
              "      <td>Selatan</td>\n",
              "      <td>Cul De Sac/Ujung Gang Buntu</td>\n",
              "      <td>1-2 Mobil</td>\n",
              "    </tr>\n",
              "    <tr>\n",
              "      <th>3</th>\n",
              "      <td>Sangat Premium</td>\n",
              "      <td>187.0</td>\n",
              "      <td>250</td>\n",
              "      <td>5.0</td>\n",
              "      <td>5.0</td>\n",
              "      <td>2.0</td>\n",
              "      <td>3100000000</td>\n",
              "      <td>Belum</td>\n",
              "      <td>Utara</td>\n",
              "      <td>Standard</td>\n",
              "      <td>1-2 Mobil</td>\n",
              "    </tr>\n",
              "    <tr>\n",
              "      <th>4</th>\n",
              "      <td>Premium</td>\n",
              "      <td>350.0</td>\n",
              "      <td>600</td>\n",
              "      <td>5.0</td>\n",
              "      <td>5.0</td>\n",
              "      <td>2.0</td>\n",
              "      <td>5000000000</td>\n",
              "      <td>Belum</td>\n",
              "      <td>Barat</td>\n",
              "      <td>Standard</td>\n",
              "      <td>1-2 Mobil</td>\n",
              "    </tr>\n",
              "  </tbody>\n",
              "</table>\n",
              "</div>\n",
              "      <button class=\"colab-df-convert\" onclick=\"convertToInteractive('df-3c8e9998-7d75-43c2-b55b-d5f5717b669e')\"\n",
              "              title=\"Convert this dataframe to an interactive table.\"\n",
              "              style=\"display:none;\">\n",
              "        \n",
              "  <svg xmlns=\"http://www.w3.org/2000/svg\" height=\"24px\"viewBox=\"0 0 24 24\"\n",
              "       width=\"24px\">\n",
              "    <path d=\"M0 0h24v24H0V0z\" fill=\"none\"/>\n",
              "    <path d=\"M18.56 5.44l.94 2.06.94-2.06 2.06-.94-2.06-.94-.94-2.06-.94 2.06-2.06.94zm-11 1L8.5 8.5l.94-2.06 2.06-.94-2.06-.94L8.5 2.5l-.94 2.06-2.06.94zm10 10l.94 2.06.94-2.06 2.06-.94-2.06-.94-.94-2.06-.94 2.06-2.06.94z\"/><path d=\"M17.41 7.96l-1.37-1.37c-.4-.4-.92-.59-1.43-.59-.52 0-1.04.2-1.43.59L10.3 9.45l-7.72 7.72c-.78.78-.78 2.05 0 2.83L4 21.41c.39.39.9.59 1.41.59.51 0 1.02-.2 1.41-.59l7.78-7.78 2.81-2.81c.8-.78.8-2.07 0-2.86zM5.41 20L4 18.59l7.72-7.72 1.47 1.35L5.41 20z\"/>\n",
              "  </svg>\n",
              "      </button>\n",
              "      \n",
              "  <style>\n",
              "    .colab-df-container {\n",
              "      display:flex;\n",
              "      flex-wrap:wrap;\n",
              "      gap: 12px;\n",
              "    }\n",
              "\n",
              "    .colab-df-convert {\n",
              "      background-color: #E8F0FE;\n",
              "      border: none;\n",
              "      border-radius: 50%;\n",
              "      cursor: pointer;\n",
              "      display: none;\n",
              "      fill: #1967D2;\n",
              "      height: 32px;\n",
              "      padding: 0 0 0 0;\n",
              "      width: 32px;\n",
              "    }\n",
              "\n",
              "    .colab-df-convert:hover {\n",
              "      background-color: #E2EBFA;\n",
              "      box-shadow: 0px 1px 2px rgba(60, 64, 67, 0.3), 0px 1px 3px 1px rgba(60, 64, 67, 0.15);\n",
              "      fill: #174EA6;\n",
              "    }\n",
              "\n",
              "    [theme=dark] .colab-df-convert {\n",
              "      background-color: #3B4455;\n",
              "      fill: #D2E3FC;\n",
              "    }\n",
              "\n",
              "    [theme=dark] .colab-df-convert:hover {\n",
              "      background-color: #434B5C;\n",
              "      box-shadow: 0px 1px 3px 1px rgba(0, 0, 0, 0.15);\n",
              "      filter: drop-shadow(0px 1px 2px rgba(0, 0, 0, 0.3));\n",
              "      fill: #FFFFFF;\n",
              "    }\n",
              "  </style>\n",
              "\n",
              "      <script>\n",
              "        const buttonEl =\n",
              "          document.querySelector('#df-3c8e9998-7d75-43c2-b55b-d5f5717b669e button.colab-df-convert');\n",
              "        buttonEl.style.display =\n",
              "          google.colab.kernel.accessAllowed ? 'block' : 'none';\n",
              "\n",
              "        async function convertToInteractive(key) {\n",
              "          const element = document.querySelector('#df-3c8e9998-7d75-43c2-b55b-d5f5717b669e');\n",
              "          const dataTable =\n",
              "            await google.colab.kernel.invokeFunction('convertToInteractive',\n",
              "                                                     [key], {});\n",
              "          if (!dataTable) return;\n",
              "\n",
              "          const docLinkHtml = 'Like what you see? Visit the ' +\n",
              "            '<a target=\"_blank\" href=https://colab.research.google.com/notebooks/data_table.ipynb>data table notebook</a>'\n",
              "            + ' to learn more about interactive tables.';\n",
              "          element.innerHTML = '';\n",
              "          dataTable['output_type'] = 'display_data';\n",
              "          await google.colab.output.renderOutput(dataTable, element);\n",
              "          const docLink = document.createElement('div');\n",
              "          docLink.innerHTML = docLinkHtml;\n",
              "          element.appendChild(docLink);\n",
              "        }\n",
              "      </script>\n",
              "    </div>\n",
              "  </div>\n",
              "  "
            ]
          },
          "metadata": {},
          "execution_count": 217
        }
      ]
    },
    {
      "cell_type": "code",
      "source": [
        "from sklearn.preprocessing import LabelEncoder\n",
        "\n",
        "#Label Encoder\n",
        "le = LabelEncoder()\n",
        "df[\"Arah Hadap Rumah\"] = le.fit_transform(df[\"Arah Hadap Rumah\"])\n",
        "df[\"Posisi Rumah\"] = le.fit_transform(df[\"Posisi Rumah\"])\n",
        "\n",
        "#Map\n",
        "area_category_map = {'Below Standard': 4, 'Standard': 3, 'Premium': 2, 'Sangat Premium': 1}\n",
        "df['Area Category'] = df['Area Category'].map(area_category_map)\n",
        "\n",
        "terjual_belum_map = {'Terjual': 0, 'Belum': 1}\n",
        "df['Terjual/Belum'] = df['Terjual/Belum'].map(terjual_belum_map)\n",
        "\n",
        "lebar_jalan_map = {'< 1 Mobil':1, '1-2 Mobil':2, '> 2 Mobil':3}\n",
        "df['Lebar Jalan Depan Rumah (ROW)'] = df['Lebar Jalan Depan Rumah (ROW)'].map(lebar_jalan_map)\n",
        "\n",
        "df.head(5)"
      ],
      "metadata": {
        "id": "Nmk3tKEP7qXn",
        "colab": {
          "base_uri": "https://localhost:8080/",
          "height": 285
        },
        "outputId": "7e1a87b1-d50f-4131-ed93-18fbacc5a35b"
      },
      "execution_count": 218,
      "outputs": [
        {
          "output_type": "execute_result",
          "data": {
            "text/plain": [
              "   Area Category  Luas Tanah (m2) Luas Bangunan (m2)  Jumlah Kamar  \\\n",
              "0              3            240.0                300           4.0   \n",
              "1              4             30.0                 60           2.0   \n",
              "2              3            170.0                170           5.0   \n",
              "3              1            187.0                250           5.0   \n",
              "4              2            350.0                600           5.0   \n",
              "\n",
              "   Jumlah Kamar Mandi  Tingkat/Lantai  Harga Penawaran (dari Owner)  \\\n",
              "0                 3.0              2.0                   3500000000   \n",
              "1                 1.0              2.0                    287799000   \n",
              "2                 4.0              2.0                   2699999999   \n",
              "3                 5.0              2.0                   3100000000   \n",
              "4                 5.0              2.0                   5000000000   \n",
              "\n",
              "   Terjual/Belum  Arah Hadap Rumah  Posisi Rumah  \\\n",
              "0              1                 3             2   \n",
              "1              1                 3             2   \n",
              "2              1                 1             0   \n",
              "3              1                 3             2   \n",
              "4              1                 0             2   \n",
              "\n",
              "   Lebar Jalan Depan Rumah (ROW)  \n",
              "0                              2  \n",
              "1                              1  \n",
              "2                              2  \n",
              "3                              2  \n",
              "4                              2  "
            ],
            "text/html": [
              "\n",
              "  <div id=\"df-5b149f5e-1765-424b-a546-6378fd5f5cd1\">\n",
              "    <div class=\"colab-df-container\">\n",
              "      <div>\n",
              "<style scoped>\n",
              "    .dataframe tbody tr th:only-of-type {\n",
              "        vertical-align: middle;\n",
              "    }\n",
              "\n",
              "    .dataframe tbody tr th {\n",
              "        vertical-align: top;\n",
              "    }\n",
              "\n",
              "    .dataframe thead th {\n",
              "        text-align: right;\n",
              "    }\n",
              "</style>\n",
              "<table border=\"1\" class=\"dataframe\">\n",
              "  <thead>\n",
              "    <tr style=\"text-align: right;\">\n",
              "      <th></th>\n",
              "      <th>Area Category</th>\n",
              "      <th>Luas Tanah (m2)</th>\n",
              "      <th>Luas Bangunan (m2)</th>\n",
              "      <th>Jumlah Kamar</th>\n",
              "      <th>Jumlah Kamar Mandi</th>\n",
              "      <th>Tingkat/Lantai</th>\n",
              "      <th>Harga Penawaran (dari Owner)</th>\n",
              "      <th>Terjual/Belum</th>\n",
              "      <th>Arah Hadap Rumah</th>\n",
              "      <th>Posisi Rumah</th>\n",
              "      <th>Lebar Jalan Depan Rumah (ROW)</th>\n",
              "    </tr>\n",
              "  </thead>\n",
              "  <tbody>\n",
              "    <tr>\n",
              "      <th>0</th>\n",
              "      <td>3</td>\n",
              "      <td>240.0</td>\n",
              "      <td>300</td>\n",
              "      <td>4.0</td>\n",
              "      <td>3.0</td>\n",
              "      <td>2.0</td>\n",
              "      <td>3500000000</td>\n",
              "      <td>1</td>\n",
              "      <td>3</td>\n",
              "      <td>2</td>\n",
              "      <td>2</td>\n",
              "    </tr>\n",
              "    <tr>\n",
              "      <th>1</th>\n",
              "      <td>4</td>\n",
              "      <td>30.0</td>\n",
              "      <td>60</td>\n",
              "      <td>2.0</td>\n",
              "      <td>1.0</td>\n",
              "      <td>2.0</td>\n",
              "      <td>287799000</td>\n",
              "      <td>1</td>\n",
              "      <td>3</td>\n",
              "      <td>2</td>\n",
              "      <td>1</td>\n",
              "    </tr>\n",
              "    <tr>\n",
              "      <th>2</th>\n",
              "      <td>3</td>\n",
              "      <td>170.0</td>\n",
              "      <td>170</td>\n",
              "      <td>5.0</td>\n",
              "      <td>4.0</td>\n",
              "      <td>2.0</td>\n",
              "      <td>2699999999</td>\n",
              "      <td>1</td>\n",
              "      <td>1</td>\n",
              "      <td>0</td>\n",
              "      <td>2</td>\n",
              "    </tr>\n",
              "    <tr>\n",
              "      <th>3</th>\n",
              "      <td>1</td>\n",
              "      <td>187.0</td>\n",
              "      <td>250</td>\n",
              "      <td>5.0</td>\n",
              "      <td>5.0</td>\n",
              "      <td>2.0</td>\n",
              "      <td>3100000000</td>\n",
              "      <td>1</td>\n",
              "      <td>3</td>\n",
              "      <td>2</td>\n",
              "      <td>2</td>\n",
              "    </tr>\n",
              "    <tr>\n",
              "      <th>4</th>\n",
              "      <td>2</td>\n",
              "      <td>350.0</td>\n",
              "      <td>600</td>\n",
              "      <td>5.0</td>\n",
              "      <td>5.0</td>\n",
              "      <td>2.0</td>\n",
              "      <td>5000000000</td>\n",
              "      <td>1</td>\n",
              "      <td>0</td>\n",
              "      <td>2</td>\n",
              "      <td>2</td>\n",
              "    </tr>\n",
              "  </tbody>\n",
              "</table>\n",
              "</div>\n",
              "      <button class=\"colab-df-convert\" onclick=\"convertToInteractive('df-5b149f5e-1765-424b-a546-6378fd5f5cd1')\"\n",
              "              title=\"Convert this dataframe to an interactive table.\"\n",
              "              style=\"display:none;\">\n",
              "        \n",
              "  <svg xmlns=\"http://www.w3.org/2000/svg\" height=\"24px\"viewBox=\"0 0 24 24\"\n",
              "       width=\"24px\">\n",
              "    <path d=\"M0 0h24v24H0V0z\" fill=\"none\"/>\n",
              "    <path d=\"M18.56 5.44l.94 2.06.94-2.06 2.06-.94-2.06-.94-.94-2.06-.94 2.06-2.06.94zm-11 1L8.5 8.5l.94-2.06 2.06-.94-2.06-.94L8.5 2.5l-.94 2.06-2.06.94zm10 10l.94 2.06.94-2.06 2.06-.94-2.06-.94-.94-2.06-.94 2.06-2.06.94z\"/><path d=\"M17.41 7.96l-1.37-1.37c-.4-.4-.92-.59-1.43-.59-.52 0-1.04.2-1.43.59L10.3 9.45l-7.72 7.72c-.78.78-.78 2.05 0 2.83L4 21.41c.39.39.9.59 1.41.59.51 0 1.02-.2 1.41-.59l7.78-7.78 2.81-2.81c.8-.78.8-2.07 0-2.86zM5.41 20L4 18.59l7.72-7.72 1.47 1.35L5.41 20z\"/>\n",
              "  </svg>\n",
              "      </button>\n",
              "      \n",
              "  <style>\n",
              "    .colab-df-container {\n",
              "      display:flex;\n",
              "      flex-wrap:wrap;\n",
              "      gap: 12px;\n",
              "    }\n",
              "\n",
              "    .colab-df-convert {\n",
              "      background-color: #E8F0FE;\n",
              "      border: none;\n",
              "      border-radius: 50%;\n",
              "      cursor: pointer;\n",
              "      display: none;\n",
              "      fill: #1967D2;\n",
              "      height: 32px;\n",
              "      padding: 0 0 0 0;\n",
              "      width: 32px;\n",
              "    }\n",
              "\n",
              "    .colab-df-convert:hover {\n",
              "      background-color: #E2EBFA;\n",
              "      box-shadow: 0px 1px 2px rgba(60, 64, 67, 0.3), 0px 1px 3px 1px rgba(60, 64, 67, 0.15);\n",
              "      fill: #174EA6;\n",
              "    }\n",
              "\n",
              "    [theme=dark] .colab-df-convert {\n",
              "      background-color: #3B4455;\n",
              "      fill: #D2E3FC;\n",
              "    }\n",
              "\n",
              "    [theme=dark] .colab-df-convert:hover {\n",
              "      background-color: #434B5C;\n",
              "      box-shadow: 0px 1px 3px 1px rgba(0, 0, 0, 0.15);\n",
              "      filter: drop-shadow(0px 1px 2px rgba(0, 0, 0, 0.3));\n",
              "      fill: #FFFFFF;\n",
              "    }\n",
              "  </style>\n",
              "\n",
              "      <script>\n",
              "        const buttonEl =\n",
              "          document.querySelector('#df-5b149f5e-1765-424b-a546-6378fd5f5cd1 button.colab-df-convert');\n",
              "        buttonEl.style.display =\n",
              "          google.colab.kernel.accessAllowed ? 'block' : 'none';\n",
              "\n",
              "        async function convertToInteractive(key) {\n",
              "          const element = document.querySelector('#df-5b149f5e-1765-424b-a546-6378fd5f5cd1');\n",
              "          const dataTable =\n",
              "            await google.colab.kernel.invokeFunction('convertToInteractive',\n",
              "                                                     [key], {});\n",
              "          if (!dataTable) return;\n",
              "\n",
              "          const docLinkHtml = 'Like what you see? Visit the ' +\n",
              "            '<a target=\"_blank\" href=https://colab.research.google.com/notebooks/data_table.ipynb>data table notebook</a>'\n",
              "            + ' to learn more about interactive tables.';\n",
              "          element.innerHTML = '';\n",
              "          dataTable['output_type'] = 'display_data';\n",
              "          await google.colab.output.renderOutput(dataTable, element);\n",
              "          const docLink = document.createElement('div');\n",
              "          docLink.innerHTML = docLinkHtml;\n",
              "          element.appendChild(docLink);\n",
              "        }\n",
              "      </script>\n",
              "    </div>\n",
              "  </div>\n",
              "  "
            ]
          },
          "metadata": {},
          "execution_count": 218
        }
      ]
    },
    {
      "cell_type": "markdown",
      "source": [
        "[Michan] cek data type"
      ],
      "metadata": {
        "id": "ZYcSwNYQrfF3"
      }
    },
    {
      "cell_type": "code",
      "source": [
        "df.info()"
      ],
      "metadata": {
        "colab": {
          "base_uri": "https://localhost:8080/"
        },
        "id": "tenlxUxBLdWR",
        "outputId": "f9074e30-eaa3-450a-e58b-45a130c52878"
      },
      "execution_count": 219,
      "outputs": [
        {
          "output_type": "stream",
          "name": "stdout",
          "text": [
            "<class 'pandas.core.frame.DataFrame'>\n",
            "RangeIndex: 308 entries, 0 to 307\n",
            "Data columns (total 11 columns):\n",
            " #   Column                         Non-Null Count  Dtype  \n",
            "---  ------                         --------------  -----  \n",
            " 0   Area Category                  308 non-null    int64  \n",
            " 1   Luas Tanah (m2)                308 non-null    float64\n",
            " 2   Luas Bangunan (m2)             308 non-null    object \n",
            " 3   Jumlah Kamar                   308 non-null    float64\n",
            " 4   Jumlah Kamar Mandi             308 non-null    float64\n",
            " 5   Tingkat/Lantai                 308 non-null    float64\n",
            " 6   Harga Penawaran (dari Owner)   308 non-null    object \n",
            " 7   Terjual/Belum                  308 non-null    int64  \n",
            " 8   Arah Hadap Rumah               308 non-null    int64  \n",
            " 9   Posisi Rumah                   308 non-null    int64  \n",
            " 10  Lebar Jalan Depan Rumah (ROW)  308 non-null    int64  \n",
            "dtypes: float64(4), int64(5), object(2)\n",
            "memory usage: 26.6+ KB\n"
          ]
        }
      ]
    },
    {
      "cell_type": "markdown",
      "source": [
        "[Michan] Replace data yang tidak benar atau yang masih salah"
      ],
      "metadata": {
        "id": "NnwN15T_rk-x"
      }
    },
    {
      "cell_type": "code",
      "source": [
        "df[\"Luas Bangunan (m2)\"] = df[\"Luas Bangunan (m2)\"].str.replace(\".\", \",\" )"
      ],
      "metadata": {
        "colab": {
          "base_uri": "https://localhost:8080/"
        },
        "id": "VWFAhq1FUGOO",
        "outputId": "9023696d-1922-4b8d-e85f-9723d7cb0e8c"
      },
      "execution_count": 220,
      "outputs": [
        {
          "output_type": "stream",
          "name": "stderr",
          "text": [
            "/usr/local/lib/python3.7/dist-packages/ipykernel_launcher.py:1: FutureWarning: The default value of regex will change from True to False in a future version. In addition, single character regular expressions will *not* be treated as literal strings when regex=True.\n",
            "  \"\"\"Entry point for launching an IPython kernel.\n"
          ]
        }
      ]
    },
    {
      "cell_type": "code",
      "source": [
        "df[\"Luas Bangunan (m2)\"] = df[\"Luas Bangunan (m2)\"].str.replace(\"4 98\", \"498\" )"
      ],
      "metadata": {
        "id": "rFEmh-h8ad0x"
      },
      "execution_count": 221,
      "outputs": []
    },
    {
      "cell_type": "code",
      "source": [
        "df[\"Harga Penawaran (dari Owner)\"] = df[\"Harga Penawaran (dari Owner)\"].str.replace(\" \", \"10500000000\" )\n",
        "df[\"Harga Penawaran (dari Owner)\"] = df[\"Harga Penawaran (dari Owner)\"].str.replace(\"10.500.000.000,00\", \"10500000000\" )"
      ],
      "metadata": {
        "colab": {
          "base_uri": "https://localhost:8080/"
        },
        "id": "Zie7cOwvbkIm",
        "outputId": "9f5e1bb4-4257-446a-cfda-3c44282b399e"
      },
      "execution_count": 222,
      "outputs": [
        {
          "output_type": "stream",
          "name": "stderr",
          "text": [
            "/usr/local/lib/python3.7/dist-packages/ipykernel_launcher.py:2: FutureWarning: The default value of regex will change from True to False in a future version.\n",
            "  \n"
          ]
        }
      ]
    },
    {
      "cell_type": "markdown",
      "source": [
        "[michan] ubah float to int dan object to int"
      ],
      "metadata": {
        "id": "t6lZHF2PLXGo"
      }
    },
    {
      "cell_type": "code",
      "source": [
        "df['Luas Tanah (m2)'] = df['Luas Tanah (m2)'].astype(int)\n",
        "df['Luas Bangunan (m2)'] = df['Luas Bangunan (m2)'].astype(str).astype(int)\n",
        "df['Jumlah Kamar'] = df['Jumlah Kamar'].astype(int)\n",
        "df['Jumlah Kamar Mandi'] = df['Jumlah Kamar Mandi'].astype(int)\n",
        "df['Tingkat/Lantai '] = df['Tingkat/Lantai '].astype(int)\n",
        "df['Harga Penawaran (dari Owner)'] = df['Harga Penawaran (dari Owner)'].astype(int)"
      ],
      "metadata": {
        "id": "tePlKVUaLE8k"
      },
      "execution_count": 223,
      "outputs": []
    },
    {
      "cell_type": "code",
      "source": [
        "df.info()"
      ],
      "metadata": {
        "colab": {
          "base_uri": "https://localhost:8080/"
        },
        "id": "PdRtvMT3bEnJ",
        "outputId": "a64d163c-24aa-41ee-f6ea-0f55a6d27594"
      },
      "execution_count": 224,
      "outputs": [
        {
          "output_type": "stream",
          "name": "stdout",
          "text": [
            "<class 'pandas.core.frame.DataFrame'>\n",
            "RangeIndex: 308 entries, 0 to 307\n",
            "Data columns (total 11 columns):\n",
            " #   Column                         Non-Null Count  Dtype\n",
            "---  ------                         --------------  -----\n",
            " 0   Area Category                  308 non-null    int64\n",
            " 1   Luas Tanah (m2)                308 non-null    int64\n",
            " 2   Luas Bangunan (m2)             308 non-null    int64\n",
            " 3   Jumlah Kamar                   308 non-null    int64\n",
            " 4   Jumlah Kamar Mandi             308 non-null    int64\n",
            " 5   Tingkat/Lantai                 308 non-null    int64\n",
            " 6   Harga Penawaran (dari Owner)   308 non-null    int64\n",
            " 7   Terjual/Belum                  308 non-null    int64\n",
            " 8   Arah Hadap Rumah               308 non-null    int64\n",
            " 9   Posisi Rumah                   308 non-null    int64\n",
            " 10  Lebar Jalan Depan Rumah (ROW)  308 non-null    int64\n",
            "dtypes: int64(11)\n",
            "memory usage: 26.6 KB\n"
          ]
        }
      ]
    },
    {
      "cell_type": "code",
      "source": [
        "from sklearn.preprocessing import StandardScaler\n",
        "\n",
        "sc = StandardScaler()\n",
        "df2 = pd.DataFrame(sc.fit_transform(df), columns=[\"Area Category\", \"Luas Tanah (m2)\", \"Luas Bangunan (m2)\", \n",
        "                                                  \"Jumlah Kamar\", \"Jumlah Kamar Mandi\", \"Tingkat/Lantai \", \"Harga Penawaran (dari Owner)\", \n",
        "                                                  \"Terjual/Belum\", \"Arah Hadap Rumah\", \"Posisi Rumah\", \"Lebar Jalan Depan Rumah (ROW)\"])\n",
        "df2.head()"
      ],
      "metadata": {
        "colab": {
          "base_uri": "https://localhost:8080/",
          "height": 285
        },
        "id": "_EOGmQfi8XKS",
        "outputId": "2f08759b-d624-4ffa-ef17-459f551ecfe8"
      },
      "execution_count": 225,
      "outputs": [
        {
          "output_type": "execute_result",
          "data": {
            "text/plain": [
              "   Area Category  Luas Tanah (m2)  Luas Bangunan (m2)  Jumlah Kamar  \\\n",
              "0       0.494434         0.064760            0.156529     -0.168161   \n",
              "1       1.742677        -0.977457           -0.971209     -1.386831   \n",
              "2       0.494434        -0.282646           -0.454330      0.441174   \n",
              "3      -2.002052        -0.198276           -0.078417      0.441174   \n",
              "4      -0.753809         0.610683            1.566201      0.441174   \n",
              "\n",
              "   Jumlah Kamar Mandi  Tingkat/Lantai   Harga Penawaran (dari Owner)  \\\n",
              "0           -0.207847         0.239543                     -0.182491   \n",
              "1           -1.438941         0.239543                     -0.569600   \n",
              "2            0.407700         0.239543                     -0.278901   \n",
              "3            1.023247         0.239543                     -0.230696   \n",
              "4            1.023247         0.239543                     -0.001723   \n",
              "\n",
              "   Terjual/Belum  Arah Hadap Rumah  Posisi Rumah  \\\n",
              "0            0.0          0.839497     -0.188069   \n",
              "1            0.0          0.839497     -0.188069   \n",
              "2            0.0         -1.141845     -5.453988   \n",
              "3            0.0          0.839497     -0.188069   \n",
              "4            0.0         -2.132516     -0.188069   \n",
              "\n",
              "   Lebar Jalan Depan Rumah (ROW)  \n",
              "0                      -0.598758  \n",
              "1                      -2.406773  \n",
              "2                      -0.598758  \n",
              "3                      -0.598758  \n",
              "4                      -0.598758  "
            ],
            "text/html": [
              "\n",
              "  <div id=\"df-d82e287f-6047-4494-8a3c-177bb41ec9ac\">\n",
              "    <div class=\"colab-df-container\">\n",
              "      <div>\n",
              "<style scoped>\n",
              "    .dataframe tbody tr th:only-of-type {\n",
              "        vertical-align: middle;\n",
              "    }\n",
              "\n",
              "    .dataframe tbody tr th {\n",
              "        vertical-align: top;\n",
              "    }\n",
              "\n",
              "    .dataframe thead th {\n",
              "        text-align: right;\n",
              "    }\n",
              "</style>\n",
              "<table border=\"1\" class=\"dataframe\">\n",
              "  <thead>\n",
              "    <tr style=\"text-align: right;\">\n",
              "      <th></th>\n",
              "      <th>Area Category</th>\n",
              "      <th>Luas Tanah (m2)</th>\n",
              "      <th>Luas Bangunan (m2)</th>\n",
              "      <th>Jumlah Kamar</th>\n",
              "      <th>Jumlah Kamar Mandi</th>\n",
              "      <th>Tingkat/Lantai</th>\n",
              "      <th>Harga Penawaran (dari Owner)</th>\n",
              "      <th>Terjual/Belum</th>\n",
              "      <th>Arah Hadap Rumah</th>\n",
              "      <th>Posisi Rumah</th>\n",
              "      <th>Lebar Jalan Depan Rumah (ROW)</th>\n",
              "    </tr>\n",
              "  </thead>\n",
              "  <tbody>\n",
              "    <tr>\n",
              "      <th>0</th>\n",
              "      <td>0.494434</td>\n",
              "      <td>0.064760</td>\n",
              "      <td>0.156529</td>\n",
              "      <td>-0.168161</td>\n",
              "      <td>-0.207847</td>\n",
              "      <td>0.239543</td>\n",
              "      <td>-0.182491</td>\n",
              "      <td>0.0</td>\n",
              "      <td>0.839497</td>\n",
              "      <td>-0.188069</td>\n",
              "      <td>-0.598758</td>\n",
              "    </tr>\n",
              "    <tr>\n",
              "      <th>1</th>\n",
              "      <td>1.742677</td>\n",
              "      <td>-0.977457</td>\n",
              "      <td>-0.971209</td>\n",
              "      <td>-1.386831</td>\n",
              "      <td>-1.438941</td>\n",
              "      <td>0.239543</td>\n",
              "      <td>-0.569600</td>\n",
              "      <td>0.0</td>\n",
              "      <td>0.839497</td>\n",
              "      <td>-0.188069</td>\n",
              "      <td>-2.406773</td>\n",
              "    </tr>\n",
              "    <tr>\n",
              "      <th>2</th>\n",
              "      <td>0.494434</td>\n",
              "      <td>-0.282646</td>\n",
              "      <td>-0.454330</td>\n",
              "      <td>0.441174</td>\n",
              "      <td>0.407700</td>\n",
              "      <td>0.239543</td>\n",
              "      <td>-0.278901</td>\n",
              "      <td>0.0</td>\n",
              "      <td>-1.141845</td>\n",
              "      <td>-5.453988</td>\n",
              "      <td>-0.598758</td>\n",
              "    </tr>\n",
              "    <tr>\n",
              "      <th>3</th>\n",
              "      <td>-2.002052</td>\n",
              "      <td>-0.198276</td>\n",
              "      <td>-0.078417</td>\n",
              "      <td>0.441174</td>\n",
              "      <td>1.023247</td>\n",
              "      <td>0.239543</td>\n",
              "      <td>-0.230696</td>\n",
              "      <td>0.0</td>\n",
              "      <td>0.839497</td>\n",
              "      <td>-0.188069</td>\n",
              "      <td>-0.598758</td>\n",
              "    </tr>\n",
              "    <tr>\n",
              "      <th>4</th>\n",
              "      <td>-0.753809</td>\n",
              "      <td>0.610683</td>\n",
              "      <td>1.566201</td>\n",
              "      <td>0.441174</td>\n",
              "      <td>1.023247</td>\n",
              "      <td>0.239543</td>\n",
              "      <td>-0.001723</td>\n",
              "      <td>0.0</td>\n",
              "      <td>-2.132516</td>\n",
              "      <td>-0.188069</td>\n",
              "      <td>-0.598758</td>\n",
              "    </tr>\n",
              "  </tbody>\n",
              "</table>\n",
              "</div>\n",
              "      <button class=\"colab-df-convert\" onclick=\"convertToInteractive('df-d82e287f-6047-4494-8a3c-177bb41ec9ac')\"\n",
              "              title=\"Convert this dataframe to an interactive table.\"\n",
              "              style=\"display:none;\">\n",
              "        \n",
              "  <svg xmlns=\"http://www.w3.org/2000/svg\" height=\"24px\"viewBox=\"0 0 24 24\"\n",
              "       width=\"24px\">\n",
              "    <path d=\"M0 0h24v24H0V0z\" fill=\"none\"/>\n",
              "    <path d=\"M18.56 5.44l.94 2.06.94-2.06 2.06-.94-2.06-.94-.94-2.06-.94 2.06-2.06.94zm-11 1L8.5 8.5l.94-2.06 2.06-.94-2.06-.94L8.5 2.5l-.94 2.06-2.06.94zm10 10l.94 2.06.94-2.06 2.06-.94-2.06-.94-.94-2.06-.94 2.06-2.06.94z\"/><path d=\"M17.41 7.96l-1.37-1.37c-.4-.4-.92-.59-1.43-.59-.52 0-1.04.2-1.43.59L10.3 9.45l-7.72 7.72c-.78.78-.78 2.05 0 2.83L4 21.41c.39.39.9.59 1.41.59.51 0 1.02-.2 1.41-.59l7.78-7.78 2.81-2.81c.8-.78.8-2.07 0-2.86zM5.41 20L4 18.59l7.72-7.72 1.47 1.35L5.41 20z\"/>\n",
              "  </svg>\n",
              "      </button>\n",
              "      \n",
              "  <style>\n",
              "    .colab-df-container {\n",
              "      display:flex;\n",
              "      flex-wrap:wrap;\n",
              "      gap: 12px;\n",
              "    }\n",
              "\n",
              "    .colab-df-convert {\n",
              "      background-color: #E8F0FE;\n",
              "      border: none;\n",
              "      border-radius: 50%;\n",
              "      cursor: pointer;\n",
              "      display: none;\n",
              "      fill: #1967D2;\n",
              "      height: 32px;\n",
              "      padding: 0 0 0 0;\n",
              "      width: 32px;\n",
              "    }\n",
              "\n",
              "    .colab-df-convert:hover {\n",
              "      background-color: #E2EBFA;\n",
              "      box-shadow: 0px 1px 2px rgba(60, 64, 67, 0.3), 0px 1px 3px 1px rgba(60, 64, 67, 0.15);\n",
              "      fill: #174EA6;\n",
              "    }\n",
              "\n",
              "    [theme=dark] .colab-df-convert {\n",
              "      background-color: #3B4455;\n",
              "      fill: #D2E3FC;\n",
              "    }\n",
              "\n",
              "    [theme=dark] .colab-df-convert:hover {\n",
              "      background-color: #434B5C;\n",
              "      box-shadow: 0px 1px 3px 1px rgba(0, 0, 0, 0.15);\n",
              "      filter: drop-shadow(0px 1px 2px rgba(0, 0, 0, 0.3));\n",
              "      fill: #FFFFFF;\n",
              "    }\n",
              "  </style>\n",
              "\n",
              "      <script>\n",
              "        const buttonEl =\n",
              "          document.querySelector('#df-d82e287f-6047-4494-8a3c-177bb41ec9ac button.colab-df-convert');\n",
              "        buttonEl.style.display =\n",
              "          google.colab.kernel.accessAllowed ? 'block' : 'none';\n",
              "\n",
              "        async function convertToInteractive(key) {\n",
              "          const element = document.querySelector('#df-d82e287f-6047-4494-8a3c-177bb41ec9ac');\n",
              "          const dataTable =\n",
              "            await google.colab.kernel.invokeFunction('convertToInteractive',\n",
              "                                                     [key], {});\n",
              "          if (!dataTable) return;\n",
              "\n",
              "          const docLinkHtml = 'Like what you see? Visit the ' +\n",
              "            '<a target=\"_blank\" href=https://colab.research.google.com/notebooks/data_table.ipynb>data table notebook</a>'\n",
              "            + ' to learn more about interactive tables.';\n",
              "          element.innerHTML = '';\n",
              "          dataTable['output_type'] = 'display_data';\n",
              "          await google.colab.output.renderOutput(dataTable, element);\n",
              "          const docLink = document.createElement('div');\n",
              "          docLink.innerHTML = docLinkHtml;\n",
              "          element.appendChild(docLink);\n",
              "        }\n",
              "      </script>\n",
              "    </div>\n",
              "  </div>\n",
              "  "
            ]
          },
          "metadata": {},
          "execution_count": 225
        }
      ]
    },
    {
      "cell_type": "markdown",
      "metadata": {
        "id": "ZPx1qmFr3ouX"
      },
      "source": [
        "## K-Means Clustering"
      ]
    },
    {
      "cell_type": "markdown",
      "metadata": {
        "id": "BAHb1xo_A3m5"
      },
      "source": [
        "Dengan elbow method, tentukan jumlah cluster yang ingin dibentuk\n",
        "\n",
        "Gunakan range elbow range(1, 11)"
      ]
    },
    {
      "cell_type": "code",
      "source": [
        "from sklearn.cluster import KMeans\n",
        "\n",
        "# set the parameter for evaluating K\n",
        "X = df2[[\"Area Category\", \"Luas Tanah (m2)\", \"Luas Bangunan (m2)\", \n",
        "         \"Jumlah Kamar\", \"Jumlah Kamar Mandi\", \"Tingkat/Lantai \", \"Harga Penawaran (dari Owner)\", \n",
        "         \"Terjual/Belum\", \"Arah Hadap Rumah\", \"Posisi Rumah\", \"Lebar Jalan Depan Rumah (ROW)\"]]\n",
        "wcss=[]\n",
        "# check the inertia for each K\n",
        "for i in range(1, 11): \n",
        "    kmeans = KMeans(n_clusters = i, init = \"random\", random_state = 42)\n",
        "    kmeans.fit(X) \n",
        "    wcss.append(kmeans.inertia_)"
      ],
      "metadata": {
        "id": "d1PAPly31946"
      },
      "execution_count": 226,
      "outputs": []
    },
    {
      "cell_type": "code",
      "source": [
        "plt.plot(range(1, 11), wcss)\n",
        "plt.xlabel('Number of clusters')\n",
        "plt.ylabel('SSE') \n",
        "plt.show()"
      ],
      "metadata": {
        "colab": {
          "base_uri": "https://localhost:8080/",
          "height": 279
        },
        "id": "HFLEIVEI-J8n",
        "outputId": "c1cf797f-5e0d-4097-b17d-8918c257fd83"
      },
      "execution_count": 227,
      "outputs": [
        {
          "output_type": "display_data",
          "data": {
            "text/plain": [
              "<Figure size 432x288 with 1 Axes>"
            ],
            "image/png": "[encoded data removed]"
          },
          "metadata": {
            "needs_background": "light"
          }
        }
      ]
    },
    {
      "cell_type": "code",
      "source": [
        "# using kneelocator to find the elbow/knee\n",
        "from kneed import KneeLocator\n",
        "kneedle = KneeLocator(range(1,11), wcss, curve=\"convex\", direction=\"decreasing\")\n",
        "print(\"The best k for you model is\", kneedle.elbow)"
      ],
      "metadata": {
        "colab": {
          "base_uri": "https://localhost:8080/"
        },
        "id": "r4777AaK-Mlw",
        "outputId": "700f0f30-18ef-4fb5-a072-2f1dc18f1fdc"
      },
      "execution_count": 228,
      "outputs": [
        {
          "output_type": "stream",
          "name": "stdout",
          "text": [
            "The best k for you model is 3\n"
          ]
        }
      ]
    },
    {
      "cell_type": "markdown",
      "metadata": {
        "id": "riWXo9djBIkj"
      },
      "source": [
        "Training model K-Means pada dataset dengan jumlah cluster yang Anda tentukan"
      ]
    },
    {
      "cell_type": "code",
      "metadata": {
        "id": "mvT6Yql2BNMl"
      },
      "source": [
        "from sklearn.cluster import KMeans\n",
        "kmeans = KMeans(init=\"random\", n_clusters=4, max_iter=300, random_state=42)\n",
        "model = kmeans.fit_predict(df2)\n",
        "\n",
        "df[\"KMeans\"] = model"
      ],
      "execution_count": 229,
      "outputs": []
    },
    {
      "cell_type": "markdown",
      "metadata": {
        "id": "DySLxlWqBNyH"
      },
      "source": [
        "Tampilkan dalam bentuk dataframe kesimpulan dari cluster:\n",
        "\n",
        "1. kolom bertipe categorical: modus (gunakan pd.Series.mode untuk mencari modus, untuk menggunakan attribute ini tidak perlu pakai \" \")\n",
        "2. kolom bertipe continous : mean\n",
        "3. Hasil cluster: count"
      ]
    },
    {
      "cell_type": "code",
      "metadata": {
        "id": "r5jr3tOVBR0o",
        "colab": {
          "base_uri": "https://localhost:8080/",
          "height": 261
        },
        "outputId": "ab32e6c8-63f0-471c-e87b-ca7eab5e2579"
      },
      "source": [
        "df.groupby(\"KMeans\")[\"Area Category\", \"Terjual/Belum\", \"Arah Hadap Rumah\", \"Posisi Rumah\", \"Lebar Jalan Depan Rumah (ROW)\"].agg(pd.Series.mode)"
      ],
      "execution_count": 230,
      "outputs": [
        {
          "output_type": "stream",
          "name": "stderr",
          "text": [
            "/usr/local/lib/python3.7/dist-packages/ipykernel_launcher.py:1: FutureWarning: Indexing with multiple keys (implicitly converted to a tuple of keys) will be deprecated, use a list instead.\n",
            "  \"\"\"Entry point for launching an IPython kernel.\n"
          ]
        },
        {
          "output_type": "execute_result",
          "data": {
            "text/plain": [
              "        Area Category  Terjual/Belum  Arah Hadap Rumah  Posisi Rumah  \\\n",
              "KMeans                                                                 \n",
              "0                   2              1                 3             2   \n",
              "1                   3              1                 3             2   \n",
              "2                   1              1                 3             2   \n",
              "3                   2              1                 3             3   \n",
              "\n",
              "        Lebar Jalan Depan Rumah (ROW)  \n",
              "KMeans                                 \n",
              "0                                   2  \n",
              "1                                   2  \n",
              "2                                   3  \n",
              "3                                   2  "
            ],
            "text/html": [
              "\n",
              "  <div id=\"df-e8a784ce-5bbb-4f64-979c-82cf70fa7341\">\n",
              "    <div class=\"colab-df-container\">\n",
              "      <div>\n",
              "<style scoped>\n",
              "    .dataframe tbody tr th:only-of-type {\n",
              "        vertical-align: middle;\n",
              "    }\n",
              "\n",
              "    .dataframe tbody tr th {\n",
              "        vertical-align: top;\n",
              "    }\n",
              "\n",
              "    .dataframe thead th {\n",
              "        text-align: right;\n",
              "    }\n",
              "</style>\n",
              "<table border=\"1\" class=\"dataframe\">\n",
              "  <thead>\n",
              "    <tr style=\"text-align: right;\">\n",
              "      <th></th>\n",
              "      <th>Area Category</th>\n",
              "      <th>Terjual/Belum</th>\n",
              "      <th>Arah Hadap Rumah</th>\n",
              "      <th>Posisi Rumah</th>\n",
              "      <th>Lebar Jalan Depan Rumah (ROW)</th>\n",
              "    </tr>\n",
              "    <tr>\n",
              "      <th>KMeans</th>\n",
              "      <th></th>\n",
              "      <th></th>\n",
              "      <th></th>\n",
              "      <th></th>\n",
              "      <th></th>\n",
              "    </tr>\n",
              "  </thead>\n",
              "  <tbody>\n",
              "    <tr>\n",
              "      <th>0</th>\n",
              "      <td>2</td>\n",
              "      <td>1</td>\n",
              "      <td>3</td>\n",
              "      <td>2</td>\n",
              "      <td>2</td>\n",
              "    </tr>\n",
              "    <tr>\n",
              "      <th>1</th>\n",
              "      <td>3</td>\n",
              "      <td>1</td>\n",
              "      <td>3</td>\n",
              "      <td>2</td>\n",
              "      <td>2</td>\n",
              "    </tr>\n",
              "    <tr>\n",
              "      <th>2</th>\n",
              "      <td>1</td>\n",
              "      <td>1</td>\n",
              "      <td>3</td>\n",
              "      <td>2</td>\n",
              "      <td>3</td>\n",
              "    </tr>\n",
              "    <tr>\n",
              "      <th>3</th>\n",
              "      <td>2</td>\n",
              "      <td>1</td>\n",
              "      <td>3</td>\n",
              "      <td>3</td>\n",
              "      <td>2</td>\n",
              "    </tr>\n",
              "  </tbody>\n",
              "</table>\n",
              "</div>\n",
              "      <button class=\"colab-df-convert\" onclick=\"convertToInteractive('df-e8a784ce-5bbb-4f64-979c-82cf70fa7341')\"\n",
              "              title=\"Convert this dataframe to an interactive table.\"\n",
              "              style=\"display:none;\">\n",
              "        \n",
              "  <svg xmlns=\"http://www.w3.org/2000/svg\" height=\"24px\"viewBox=\"0 0 24 24\"\n",
              "       width=\"24px\">\n",
              "    <path d=\"M0 0h24v24H0V0z\" fill=\"none\"/>\n",
              "    <path d=\"M18.56 5.44l.94 2.06.94-2.06 2.06-.94-2.06-.94-.94-2.06-.94 2.06-2.06.94zm-11 1L8.5 8.5l.94-2.06 2.06-.94-2.06-.94L8.5 2.5l-.94 2.06-2.06.94zm10 10l.94 2.06.94-2.06 2.06-.94-2.06-.94-.94-2.06-.94 2.06-2.06.94z\"/><path d=\"M17.41 7.96l-1.37-1.37c-.4-.4-.92-.59-1.43-.59-.52 0-1.04.2-1.43.59L10.3 9.45l-7.72 7.72c-.78.78-.78 2.05 0 2.83L4 21.41c.39.39.9.59 1.41.59.51 0 1.02-.2 1.41-.59l7.78-7.78 2.81-2.81c.8-.78.8-2.07 0-2.86zM5.41 20L4 18.59l7.72-7.72 1.47 1.35L5.41 20z\"/>\n",
              "  </svg>\n",
              "      </button>\n",
              "      \n",
              "  <style>\n",
              "    .colab-df-container {\n",
              "      display:flex;\n",
              "      flex-wrap:wrap;\n",
              "      gap: 12px;\n",
              "    }\n",
              "\n",
              "    .colab-df-convert {\n",
              "      background-color: #E8F0FE;\n",
              "      border: none;\n",
              "      border-radius: 50%;\n",
              "      cursor: pointer;\n",
              "      display: none;\n",
              "      fill: #1967D2;\n",
              "      height: 32px;\n",
              "      padding: 0 0 0 0;\n",
              "      width: 32px;\n",
              "    }\n",
              "\n",
              "    .colab-df-convert:hover {\n",
              "      background-color: #E2EBFA;\n",
              "      box-shadow: 0px 1px 2px rgba(60, 64, 67, 0.3), 0px 1px 3px 1px rgba(60, 64, 67, 0.15);\n",
              "      fill: #174EA6;\n",
              "    }\n",
              "\n",
              "    [theme=dark] .colab-df-convert {\n",
              "      background-color: #3B4455;\n",
              "      fill: #D2E3FC;\n",
              "    }\n",
              "\n",
              "    [theme=dark] .colab-df-convert:hover {\n",
              "      background-color: #434B5C;\n",
              "      box-shadow: 0px 1px 3px 1px rgba(0, 0, 0, 0.15);\n",
              "      filter: drop-shadow(0px 1px 2px rgba(0, 0, 0, 0.3));\n",
              "      fill: #FFFFFF;\n",
              "    }\n",
              "  </style>\n",
              "\n",
              "      <script>\n",
              "        const buttonEl =\n",
              "          document.querySelector('#df-e8a784ce-5bbb-4f64-979c-82cf70fa7341 button.colab-df-convert');\n",
              "        buttonEl.style.display =\n",
              "          google.colab.kernel.accessAllowed ? 'block' : 'none';\n",
              "\n",
              "        async function convertToInteractive(key) {\n",
              "          const element = document.querySelector('#df-e8a784ce-5bbb-4f64-979c-82cf70fa7341');\n",
              "          const dataTable =\n",
              "            await google.colab.kernel.invokeFunction('convertToInteractive',\n",
              "                                                     [key], {});\n",
              "          if (!dataTable) return;\n",
              "\n",
              "          const docLinkHtml = 'Like what you see? Visit the ' +\n",
              "            '<a target=\"_blank\" href=https://colab.research.google.com/notebooks/data_table.ipynb>data table notebook</a>'\n",
              "            + ' to learn more about interactive tables.';\n",
              "          element.innerHTML = '';\n",
              "          dataTable['output_type'] = 'display_data';\n",
              "          await google.colab.output.renderOutput(dataTable, element);\n",
              "          const docLink = document.createElement('div');\n",
              "          docLink.innerHTML = docLinkHtml;\n",
              "          element.appendChild(docLink);\n",
              "        }\n",
              "      </script>\n",
              "    </div>\n",
              "  </div>\n",
              "  "
            ]
          },
          "metadata": {},
          "execution_count": 230
        }
      ]
    },
    {
      "cell_type": "code",
      "source": [
        "df.groupby(\"KMeans\")[\"Luas Tanah (m2)\", \"Luas Bangunan (m2)\", \"Jumlah Kamar\", \"Jumlah Kamar Mandi\", \"Tingkat/Lantai \", \n",
        "                     \"Harga Penawaran (dari Owner)\"].agg(pd.Series.mean)"
      ],
      "metadata": {
        "colab": {
          "base_uri": "https://localhost:8080/",
          "height": 261
        },
        "id": "KR07vrg3BvL0",
        "outputId": "fb4dc429-4ac1-4307-e1f8-c47a829cdc08"
      },
      "execution_count": 231,
      "outputs": [
        {
          "output_type": "stream",
          "name": "stderr",
          "text": [
            "/usr/local/lib/python3.7/dist-packages/ipykernel_launcher.py:1: FutureWarning: Indexing with multiple keys (implicitly converted to a tuple of keys) will be deprecated, use a list instead.\n",
            "  \"\"\"Entry point for launching an IPython kernel.\n"
          ]
        },
        {
          "output_type": "execute_result",
          "data": {
            "text/plain": [
              "        Luas Tanah (m2)  Luas Bangunan (m2)  Jumlah Kamar  Jumlah Kamar Mandi  \\\n",
              "KMeans                                                                          \n",
              "0            188.049296          245.929577      4.626761            3.725352   \n",
              "1            119.217822          117.970297      2.782178            1.831683   \n",
              "2            597.977778          660.400000      6.288889            5.244444   \n",
              "3            212.400000          279.250000      4.800000            3.900000   \n",
              "\n",
              "        Tingkat/Lantai   Harga Penawaran (dari Owner)  \n",
              "KMeans                                                 \n",
              "0              2.042254                  3.586437e+09  \n",
              "1              1.534653                  1.501881e+09  \n",
              "2              1.977778                  1.758144e+10  \n",
              "3              2.150000                  4.613789e+09  "
            ],
            "text/html": [
              "\n",
              "  <div id=\"df-3580da10-4203-4be8-ba96-3b7031d91259\">\n",
              "    <div class=\"colab-df-container\">\n",
              "      <div>\n",
              "<style scoped>\n",
              "    .dataframe tbody tr th:only-of-type {\n",
              "        vertical-align: middle;\n",
              "    }\n",
              "\n",
              "    .dataframe tbody tr th {\n",
              "        vertical-align: top;\n",
              "    }\n",
              "\n",
              "    .dataframe thead th {\n",
              "        text-align: right;\n",
              "    }\n",
              "</style>\n",
              "<table border=\"1\" class=\"dataframe\">\n",
              "  <thead>\n",
              "    <tr style=\"text-align: right;\">\n",
              "      <th></th>\n",
              "      <th>Luas Tanah (m2)</th>\n",
              "      <th>Luas Bangunan (m2)</th>\n",
              "      <th>Jumlah Kamar</th>\n",
              "      <th>Jumlah Kamar Mandi</th>\n",
              "      <th>Tingkat/Lantai</th>\n",
              "      <th>Harga Penawaran (dari Owner)</th>\n",
              "    </tr>\n",
              "    <tr>\n",
              "      <th>KMeans</th>\n",
              "      <th></th>\n",
              "      <th></th>\n",
              "      <th></th>\n",
              "      <th></th>\n",
              "      <th></th>\n",
              "      <th></th>\n",
              "    </tr>\n",
              "  </thead>\n",
              "  <tbody>\n",
              "    <tr>\n",
              "      <th>0</th>\n",
              "      <td>188.049296</td>\n",
              "      <td>245.929577</td>\n",
              "      <td>4.626761</td>\n",
              "      <td>3.725352</td>\n",
              "      <td>2.042254</td>\n",
              "      <td>3.586437e+09</td>\n",
              "    </tr>\n",
              "    <tr>\n",
              "      <th>1</th>\n",
              "      <td>119.217822</td>\n",
              "      <td>117.970297</td>\n",
              "      <td>2.782178</td>\n",
              "      <td>1.831683</td>\n",
              "      <td>1.534653</td>\n",
              "      <td>1.501881e+09</td>\n",
              "    </tr>\n",
              "    <tr>\n",
              "      <th>2</th>\n",
              "      <td>597.977778</td>\n",
              "      <td>660.400000</td>\n",
              "      <td>6.288889</td>\n",
              "      <td>5.244444</td>\n",
              "      <td>1.977778</td>\n",
              "      <td>1.758144e+10</td>\n",
              "    </tr>\n",
              "    <tr>\n",
              "      <th>3</th>\n",
              "      <td>212.400000</td>\n",
              "      <td>279.250000</td>\n",
              "      <td>4.800000</td>\n",
              "      <td>3.900000</td>\n",
              "      <td>2.150000</td>\n",
              "      <td>4.613789e+09</td>\n",
              "    </tr>\n",
              "  </tbody>\n",
              "</table>\n",
              "</div>\n",
              "      <button class=\"colab-df-convert\" onclick=\"convertToInteractive('df-3580da10-4203-4be8-ba96-3b7031d91259')\"\n",
              "              title=\"Convert this dataframe to an interactive table.\"\n",
              "              style=\"display:none;\">\n",
              "        \n",
              "  <svg xmlns=\"http://www.w3.org/2000/svg\" height=\"24px\"viewBox=\"0 0 24 24\"\n",
              "       width=\"24px\">\n",
              "    <path d=\"M0 0h24v24H0V0z\" fill=\"none\"/>\n",
              "    <path d=\"M18.56 5.44l.94 2.06.94-2.06 2.06-.94-2.06-.94-.94-2.06-.94 2.06-2.06.94zm-11 1L8.5 8.5l.94-2.06 2.06-.94-2.06-.94L8.5 2.5l-.94 2.06-2.06.94zm10 10l.94 2.06.94-2.06 2.06-.94-2.06-.94-.94-2.06-.94 2.06-2.06.94z\"/><path d=\"M17.41 7.96l-1.37-1.37c-.4-.4-.92-.59-1.43-.59-.52 0-1.04.2-1.43.59L10.3 9.45l-7.72 7.72c-.78.78-.78 2.05 0 2.83L4 21.41c.39.39.9.59 1.41.59.51 0 1.02-.2 1.41-.59l7.78-7.78 2.81-2.81c.8-.78.8-2.07 0-2.86zM5.41 20L4 18.59l7.72-7.72 1.47 1.35L5.41 20z\"/>\n",
              "  </svg>\n",
              "      </button>\n",
              "      \n",
              "  <style>\n",
              "    .colab-df-container {\n",
              "      display:flex;\n",
              "      flex-wrap:wrap;\n",
              "      gap: 12px;\n",
              "    }\n",
              "\n",
              "    .colab-df-convert {\n",
              "      background-color: #E8F0FE;\n",
              "      border: none;\n",
              "      border-radius: 50%;\n",
              "      cursor: pointer;\n",
              "      display: none;\n",
              "      fill: #1967D2;\n",
              "      height: 32px;\n",
              "      padding: 0 0 0 0;\n",
              "      width: 32px;\n",
              "    }\n",
              "\n",
              "    .colab-df-convert:hover {\n",
              "      background-color: #E2EBFA;\n",
              "      box-shadow: 0px 1px 2px rgba(60, 64, 67, 0.3), 0px 1px 3px 1px rgba(60, 64, 67, 0.15);\n",
              "      fill: #174EA6;\n",
              "    }\n",
              "\n",
              "    [theme=dark] .colab-df-convert {\n",
              "      background-color: #3B4455;\n",
              "      fill: #D2E3FC;\n",
              "    }\n",
              "\n",
              "    [theme=dark] .colab-df-convert:hover {\n",
              "      background-color: #434B5C;\n",
              "      box-shadow: 0px 1px 3px 1px rgba(0, 0, 0, 0.15);\n",
              "      filter: drop-shadow(0px 1px 2px rgba(0, 0, 0, 0.3));\n",
              "      fill: #FFFFFF;\n",
              "    }\n",
              "  </style>\n",
              "\n",
              "      <script>\n",
              "        const buttonEl =\n",
              "          document.querySelector('#df-3580da10-4203-4be8-ba96-3b7031d91259 button.colab-df-convert');\n",
              "        buttonEl.style.display =\n",
              "          google.colab.kernel.accessAllowed ? 'block' : 'none';\n",
              "\n",
              "        async function convertToInteractive(key) {\n",
              "          const element = document.querySelector('#df-3580da10-4203-4be8-ba96-3b7031d91259');\n",
              "          const dataTable =\n",
              "            await google.colab.kernel.invokeFunction('convertToInteractive',\n",
              "                                                     [key], {});\n",
              "          if (!dataTable) return;\n",
              "\n",
              "          const docLinkHtml = 'Like what you see? Visit the ' +\n",
              "            '<a target=\"_blank\" href=https://colab.research.google.com/notebooks/data_table.ipynb>data table notebook</a>'\n",
              "            + ' to learn more about interactive tables.';\n",
              "          element.innerHTML = '';\n",
              "          dataTable['output_type'] = 'display_data';\n",
              "          await google.colab.output.renderOutput(dataTable, element);\n",
              "          const docLink = document.createElement('div');\n",
              "          docLink.innerHTML = docLinkHtml;\n",
              "          element.appendChild(docLink);\n",
              "        }\n",
              "      </script>\n",
              "    </div>\n",
              "  </div>\n",
              "  "
            ]
          },
          "metadata": {},
          "execution_count": 231
        }
      ]
    },
    {
      "cell_type": "code",
      "source": [
        "df.groupby(\"KMeans\")[\"KMeans\"].agg(pd.Series.count)"
      ],
      "metadata": {
        "colab": {
          "base_uri": "https://localhost:8080/"
        },
        "id": "zkHim7jnHmqC",
        "outputId": "112500fd-7e92-4cff-a8f0-2cfc17c2c694"
      },
      "execution_count": 232,
      "outputs": [
        {
          "output_type": "execute_result",
          "data": {
            "text/plain": [
              "KMeans\n",
              "0    142\n",
              "1    101\n",
              "2     45\n",
              "3     20\n",
              "Name: KMeans, dtype: int64"
            ]
          },
          "metadata": {},
          "execution_count": 232
        }
      ]
    },
    {
      "cell_type": "markdown",
      "metadata": {
        "id": "OZruhWh5BSt7"
      },
      "source": [
        "## Hierarchical Clustering\n",
        "Hierarchical clustering ini menggunakan metode agglomerative."
      ]
    },
    {
      "cell_type": "markdown",
      "metadata": {
        "id": "ie67vRUmJGiy"
      },
      "source": [
        "Plot Dendrogram untuk membantu menentukan jumlah cluster, gunakan max method."
      ]
    },
    {
      "cell_type": "code",
      "metadata": {
        "id": "YYVplrU1JRLF",
        "colab": {
          "base_uri": "https://localhost:8080/",
          "height": 298
        },
        "outputId": "06b72cef-2f7d-4eb4-edf5-514a35861f69"
      },
      "source": [
        "import numpy as np\n",
        "import scipy.cluster.hierarchy as sch\n",
        "import matplotlib.pyplot as plt\n",
        "dist_matrix = sch.linkage(df2, method='complete')\n",
        "dn = sch.dendrogram(dist_matrix)\n",
        "plt.title('Dendogram')\n",
        "plt.show"
      ],
      "execution_count": 233,
      "outputs": [
        {
          "output_type": "execute_result",
          "data": {
            "text/plain": [
              "<function matplotlib.pyplot.show(*args, **kw)>"
            ]
          },
          "metadata": {},
          "execution_count": 233
        },
        {
          "output_type": "display_data",
          "data": {
            "text/plain": [
              "<Figure size 432x288 with 1 Axes>"
            ],
            "image/png": "[encoded data removed]"
          },
          "metadata": {
            "needs_background": "light"
          }
        }
      ]
    },
    {
      "cell_type": "markdown",
      "metadata": {
        "id": "JPMw9jAiJRsE"
      },
      "source": [
        "Lakukan hierarchical clustering dengan metric Euclidean dan jumlah cluster sama dengan cluster Kmeans"
      ]
    },
    {
      "cell_type": "code",
      "metadata": {
        "id": "-3Ep2nP0JYIw"
      },
      "source": [
        "from sklearn.cluster import AgglomerativeClustering\n",
        "\n",
        "agglo = AgglomerativeClustering(n_clusters=4, affinity=\"euclidean\", linkage=\"ward\")\n",
        "model2 = agglo.fit_predict(df2)\n",
        "\n",
        "df[\"agglo\"] = model2"
      ],
      "execution_count": 234,
      "outputs": []
    },
    {
      "cell_type": "markdown",
      "metadata": {
        "id": "lzXuHhs1JY72"
      },
      "source": [
        "Tampilkan dalam bentuk dataframe kesimpulan dari cluster dengan kriteria sama dengan kesimpulan di atas"
      ]
    },
    {
      "cell_type": "code",
      "metadata": {
        "id": "v0SRlqauJ0_W",
        "colab": {
          "base_uri": "https://localhost:8080/",
          "height": 261
        },
        "outputId": "b3bbe66a-d859-4735-84a8-133f35bf3b87"
      },
      "source": [
        "df.groupby(\"agglo\")[\"Area Category\", \"Terjual/Belum\", \"Arah Hadap Rumah\", \"Posisi Rumah\", \"Lebar Jalan Depan Rumah (ROW)\"].agg(pd.Series.mode)"
      ],
      "execution_count": 235,
      "outputs": [
        {
          "output_type": "stream",
          "name": "stderr",
          "text": [
            "/usr/local/lib/python3.7/dist-packages/ipykernel_launcher.py:1: FutureWarning: Indexing with multiple keys (implicitly converted to a tuple of keys) will be deprecated, use a list instead.\n",
            "  \"\"\"Entry point for launching an IPython kernel.\n"
          ]
        },
        {
          "output_type": "execute_result",
          "data": {
            "text/plain": [
              "       Area Category  Terjual/Belum  Arah Hadap Rumah  Posisi Rumah  \\\n",
              "agglo                                                                 \n",
              "0                  3              1                 3             2   \n",
              "1                  2              1                 3             2   \n",
              "2                  2              1                 1             2   \n",
              "3                  2              1                 3             3   \n",
              "\n",
              "      Lebar Jalan Depan Rumah (ROW)  \n",
              "agglo                                \n",
              "0                                 2  \n",
              "1                                 2  \n",
              "2                                 3  \n",
              "3                            [2, 3]  "
            ],
            "text/html": [
              "\n",
              "  <div id=\"df-ee46e364-6206-4307-ba4f-3789bdef9cda\">\n",
              "    <div class=\"colab-df-container\">\n",
              "      <div>\n",
              "<style scoped>\n",
              "    .dataframe tbody tr th:only-of-type {\n",
              "        vertical-align: middle;\n",
              "    }\n",
              "\n",
              "    .dataframe tbody tr th {\n",
              "        vertical-align: top;\n",
              "    }\n",
              "\n",
              "    .dataframe thead th {\n",
              "        text-align: right;\n",
              "    }\n",
              "</style>\n",
              "<table border=\"1\" class=\"dataframe\">\n",
              "  <thead>\n",
              "    <tr style=\"text-align: right;\">\n",
              "      <th></th>\n",
              "      <th>Area Category</th>\n",
              "      <th>Terjual/Belum</th>\n",
              "      <th>Arah Hadap Rumah</th>\n",
              "      <th>Posisi Rumah</th>\n",
              "      <th>Lebar Jalan Depan Rumah (ROW)</th>\n",
              "    </tr>\n",
              "    <tr>\n",
              "      <th>agglo</th>\n",
              "      <th></th>\n",
              "      <th></th>\n",
              "      <th></th>\n",
              "      <th></th>\n",
              "      <th></th>\n",
              "    </tr>\n",
              "  </thead>\n",
              "  <tbody>\n",
              "    <tr>\n",
              "      <th>0</th>\n",
              "      <td>3</td>\n",
              "      <td>1</td>\n",
              "      <td>3</td>\n",
              "      <td>2</td>\n",
              "      <td>2</td>\n",
              "    </tr>\n",
              "    <tr>\n",
              "      <th>1</th>\n",
              "      <td>2</td>\n",
              "      <td>1</td>\n",
              "      <td>3</td>\n",
              "      <td>2</td>\n",
              "      <td>2</td>\n",
              "    </tr>\n",
              "    <tr>\n",
              "      <th>2</th>\n",
              "      <td>2</td>\n",
              "      <td>1</td>\n",
              "      <td>1</td>\n",
              "      <td>2</td>\n",
              "      <td>3</td>\n",
              "    </tr>\n",
              "    <tr>\n",
              "      <th>3</th>\n",
              "      <td>2</td>\n",
              "      <td>1</td>\n",
              "      <td>3</td>\n",
              "      <td>3</td>\n",
              "      <td>[2, 3]</td>\n",
              "    </tr>\n",
              "  </tbody>\n",
              "</table>\n",
              "</div>\n",
              "      <button class=\"colab-df-convert\" onclick=\"convertToInteractive('df-ee46e364-6206-4307-ba4f-3789bdef9cda')\"\n",
              "              title=\"Convert this dataframe to an interactive table.\"\n",
              "              style=\"display:none;\">\n",
              "        \n",
              "  <svg xmlns=\"http://www.w3.org/2000/svg\" height=\"24px\"viewBox=\"0 0 24 24\"\n",
              "       width=\"24px\">\n",
              "    <path d=\"M0 0h24v24H0V0z\" fill=\"none\"/>\n",
              "    <path d=\"M18.56 5.44l.94 2.06.94-2.06 2.06-.94-2.06-.94-.94-2.06-.94 2.06-2.06.94zm-11 1L8.5 8.5l.94-2.06 2.06-.94-2.06-.94L8.5 2.5l-.94 2.06-2.06.94zm10 10l.94 2.06.94-2.06 2.06-.94-2.06-.94-.94-2.06-.94 2.06-2.06.94z\"/><path d=\"M17.41 7.96l-1.37-1.37c-.4-.4-.92-.59-1.43-.59-.52 0-1.04.2-1.43.59L10.3 9.45l-7.72 7.72c-.78.78-.78 2.05 0 2.83L4 21.41c.39.39.9.59 1.41.59.51 0 1.02-.2 1.41-.59l7.78-7.78 2.81-2.81c.8-.78.8-2.07 0-2.86zM5.41 20L4 18.59l7.72-7.72 1.47 1.35L5.41 20z\"/>\n",
              "  </svg>\n",
              "      </button>\n",
              "      \n",
              "  <style>\n",
              "    .colab-df-container {\n",
              "      display:flex;\n",
              "      flex-wrap:wrap;\n",
              "      gap: 12px;\n",
              "    }\n",
              "\n",
              "    .colab-df-convert {\n",
              "      background-color: #E8F0FE;\n",
              "      border: none;\n",
              "      border-radius: 50%;\n",
              "      cursor: pointer;\n",
              "      display: none;\n",
              "      fill: #1967D2;\n",
              "      height: 32px;\n",
              "      padding: 0 0 0 0;\n",
              "      width: 32px;\n",
              "    }\n",
              "\n",
              "    .colab-df-convert:hover {\n",
              "      background-color: #E2EBFA;\n",
              "      box-shadow: 0px 1px 2px rgba(60, 64, 67, 0.3), 0px 1px 3px 1px rgba(60, 64, 67, 0.15);\n",
              "      fill: #174EA6;\n",
              "    }\n",
              "\n",
              "    [theme=dark] .colab-df-convert {\n",
              "      background-color: #3B4455;\n",
              "      fill: #D2E3FC;\n",
              "    }\n",
              "\n",
              "    [theme=dark] .colab-df-convert:hover {\n",
              "      background-color: #434B5C;\n",
              "      box-shadow: 0px 1px 3px 1px rgba(0, 0, 0, 0.15);\n",
              "      filter: drop-shadow(0px 1px 2px rgba(0, 0, 0, 0.3));\n",
              "      fill: #FFFFFF;\n",
              "    }\n",
              "  </style>\n",
              "\n",
              "      <script>\n",
              "        const buttonEl =\n",
              "          document.querySelector('#df-ee46e364-6206-4307-ba4f-3789bdef9cda button.colab-df-convert');\n",
              "        buttonEl.style.display =\n",
              "          google.colab.kernel.accessAllowed ? 'block' : 'none';\n",
              "\n",
              "        async function convertToInteractive(key) {\n",
              "          const element = document.querySelector('#df-ee46e364-6206-4307-ba4f-3789bdef9cda');\n",
              "          const dataTable =\n",
              "            await google.colab.kernel.invokeFunction('convertToInteractive',\n",
              "                                                     [key], {});\n",
              "          if (!dataTable) return;\n",
              "\n",
              "          const docLinkHtml = 'Like what you see? Visit the ' +\n",
              "            '<a target=\"_blank\" href=https://colab.research.google.com/notebooks/data_table.ipynb>data table notebook</a>'\n",
              "            + ' to learn more about interactive tables.';\n",
              "          element.innerHTML = '';\n",
              "          dataTable['output_type'] = 'display_data';\n",
              "          await google.colab.output.renderOutput(dataTable, element);\n",
              "          const docLink = document.createElement('div');\n",
              "          docLink.innerHTML = docLinkHtml;\n",
              "          element.appendChild(docLink);\n",
              "        }\n",
              "      </script>\n",
              "    </div>\n",
              "  </div>\n",
              "  "
            ]
          },
          "metadata": {},
          "execution_count": 235
        }
      ]
    },
    {
      "cell_type": "code",
      "source": [
        "df.groupby(\"agglo\")[\"Luas Tanah (m2)\", \"Luas Bangunan (m2)\", \"Jumlah Kamar\", \"Jumlah Kamar Mandi\", \"Tingkat/Lantai \", \n",
        "                     \"Harga Penawaran (dari Owner)\"].agg(pd.Series.mean)"
      ],
      "metadata": {
        "colab": {
          "base_uri": "https://localhost:8080/",
          "height": 261
        },
        "id": "toPHW3fTIHYj",
        "outputId": "0eb8d639-bba2-467d-eba8-d0f02d7b7923"
      },
      "execution_count": 236,
      "outputs": [
        {
          "output_type": "stream",
          "name": "stderr",
          "text": [
            "/usr/local/lib/python3.7/dist-packages/ipykernel_launcher.py:1: FutureWarning: Indexing with multiple keys (implicitly converted to a tuple of keys) will be deprecated, use a list instead.\n",
            "  \"\"\"Entry point for launching an IPython kernel.\n"
          ]
        },
        {
          "output_type": "execute_result",
          "data": {
            "text/plain": [
              "       Luas Tanah (m2)  Luas Bangunan (m2)  Jumlah Kamar  Jumlah Kamar Mandi  \\\n",
              "agglo                                                                          \n",
              "0           141.099174          144.793388      3.214876            2.239669   \n",
              "1           563.860000          630.340000      6.120000            5.180000   \n",
              "2           175.546218          238.983193      4.537815            3.596639   \n",
              "3           208.055556          259.111111      4.555556            3.888889   \n",
              "\n",
              "       Tingkat/Lantai   Harga Penawaran (dari Owner)  \n",
              "agglo                                                 \n",
              "0             1.553719                  2.107950e+09  \n",
              "1             1.980000                  1.601000e+10  \n",
              "2             2.126050                  3.466951e+09  \n",
              "3             2.055556                  4.237543e+09  "
            ],
            "text/html": [
              "\n",
              "  <div id=\"df-a5f3ddbb-c12c-4ee5-95a2-b5380a32d407\">\n",
              "    <div class=\"colab-df-container\">\n",
              "      <div>\n",
              "<style scoped>\n",
              "    .dataframe tbody tr th:only-of-type {\n",
              "        vertical-align: middle;\n",
              "    }\n",
              "\n",
              "    .dataframe tbody tr th {\n",
              "        vertical-align: top;\n",
              "    }\n",
              "\n",
              "    .dataframe thead th {\n",
              "        text-align: right;\n",
              "    }\n",
              "</style>\n",
              "<table border=\"1\" class=\"dataframe\">\n",
              "  <thead>\n",
              "    <tr style=\"text-align: right;\">\n",
              "      <th></th>\n",
              "      <th>Luas Tanah (m2)</th>\n",
              "      <th>Luas Bangunan (m2)</th>\n",
              "      <th>Jumlah Kamar</th>\n",
              "      <th>Jumlah Kamar Mandi</th>\n",
              "      <th>Tingkat/Lantai</th>\n",
              "      <th>Harga Penawaran (dari Owner)</th>\n",
              "    </tr>\n",
              "    <tr>\n",
              "      <th>agglo</th>\n",
              "      <th></th>\n",
              "      <th></th>\n",
              "      <th></th>\n",
              "      <th></th>\n",
              "      <th></th>\n",
              "      <th></th>\n",
              "    </tr>\n",
              "  </thead>\n",
              "  <tbody>\n",
              "    <tr>\n",
              "      <th>0</th>\n",
              "      <td>141.099174</td>\n",
              "      <td>144.793388</td>\n",
              "      <td>3.214876</td>\n",
              "      <td>2.239669</td>\n",
              "      <td>1.553719</td>\n",
              "      <td>2.107950e+09</td>\n",
              "    </tr>\n",
              "    <tr>\n",
              "      <th>1</th>\n",
              "      <td>563.860000</td>\n",
              "      <td>630.340000</td>\n",
              "      <td>6.120000</td>\n",
              "      <td>5.180000</td>\n",
              "      <td>1.980000</td>\n",
              "      <td>1.601000e+10</td>\n",
              "    </tr>\n",
              "    <tr>\n",
              "      <th>2</th>\n",
              "      <td>175.546218</td>\n",
              "      <td>238.983193</td>\n",
              "      <td>4.537815</td>\n",
              "      <td>3.596639</td>\n",
              "      <td>2.126050</td>\n",
              "      <td>3.466951e+09</td>\n",
              "    </tr>\n",
              "    <tr>\n",
              "      <th>3</th>\n",
              "      <td>208.055556</td>\n",
              "      <td>259.111111</td>\n",
              "      <td>4.555556</td>\n",
              "      <td>3.888889</td>\n",
              "      <td>2.055556</td>\n",
              "      <td>4.237543e+09</td>\n",
              "    </tr>\n",
              "  </tbody>\n",
              "</table>\n",
              "</div>\n",
              "      <button class=\"colab-df-convert\" onclick=\"convertToInteractive('df-a5f3ddbb-c12c-4ee5-95a2-b5380a32d407')\"\n",
              "              title=\"Convert this dataframe to an interactive table.\"\n",
              "              style=\"display:none;\">\n",
              "        \n",
              "  <svg xmlns=\"http://www.w3.org/2000/svg\" height=\"24px\"viewBox=\"0 0 24 24\"\n",
              "       width=\"24px\">\n",
              "    <path d=\"M0 0h24v24H0V0z\" fill=\"none\"/>\n",
              "    <path d=\"M18.56 5.44l.94 2.06.94-2.06 2.06-.94-2.06-.94-.94-2.06-.94 2.06-2.06.94zm-11 1L8.5 8.5l.94-2.06 2.06-.94-2.06-.94L8.5 2.5l-.94 2.06-2.06.94zm10 10l.94 2.06.94-2.06 2.06-.94-2.06-.94-.94-2.06-.94 2.06-2.06.94z\"/><path d=\"M17.41 7.96l-1.37-1.37c-.4-.4-.92-.59-1.43-.59-.52 0-1.04.2-1.43.59L10.3 9.45l-7.72 7.72c-.78.78-.78 2.05 0 2.83L4 21.41c.39.39.9.59 1.41.59.51 0 1.02-.2 1.41-.59l7.78-7.78 2.81-2.81c.8-.78.8-2.07 0-2.86zM5.41 20L4 18.59l7.72-7.72 1.47 1.35L5.41 20z\"/>\n",
              "  </svg>\n",
              "      </button>\n",
              "      \n",
              "  <style>\n",
              "    .colab-df-container {\n",
              "      display:flex;\n",
              "      flex-wrap:wrap;\n",
              "      gap: 12px;\n",
              "    }\n",
              "\n",
              "    .colab-df-convert {\n",
              "      background-color: #E8F0FE;\n",
              "      border: none;\n",
              "      border-radius: 50%;\n",
              "      cursor: pointer;\n",
              "      display: none;\n",
              "      fill: #1967D2;\n",
              "      height: 32px;\n",
              "      padding: 0 0 0 0;\n",
              "      width: 32px;\n",
              "    }\n",
              "\n",
              "    .colab-df-convert:hover {\n",
              "      background-color: #E2EBFA;\n",
              "      box-shadow: 0px 1px 2px rgba(60, 64, 67, 0.3), 0px 1px 3px 1px rgba(60, 64, 67, 0.15);\n",
              "      fill: #174EA6;\n",
              "    }\n",
              "\n",
              "    [theme=dark] .colab-df-convert {\n",
              "      background-color: #3B4455;\n",
              "      fill: #D2E3FC;\n",
              "    }\n",
              "\n",
              "    [theme=dark] .colab-df-convert:hover {\n",
              "      background-color: #434B5C;\n",
              "      box-shadow: 0px 1px 3px 1px rgba(0, 0, 0, 0.15);\n",
              "      filter: drop-shadow(0px 1px 2px rgba(0, 0, 0, 0.3));\n",
              "      fill: #FFFFFF;\n",
              "    }\n",
              "  </style>\n",
              "\n",
              "      <script>\n",
              "        const buttonEl =\n",
              "          document.querySelector('#df-a5f3ddbb-c12c-4ee5-95a2-b5380a32d407 button.colab-df-convert');\n",
              "        buttonEl.style.display =\n",
              "          google.colab.kernel.accessAllowed ? 'block' : 'none';\n",
              "\n",
              "        async function convertToInteractive(key) {\n",
              "          const element = document.querySelector('#df-a5f3ddbb-c12c-4ee5-95a2-b5380a32d407');\n",
              "          const dataTable =\n",
              "            await google.colab.kernel.invokeFunction('convertToInteractive',\n",
              "                                                     [key], {});\n",
              "          if (!dataTable) return;\n",
              "\n",
              "          const docLinkHtml = 'Like what you see? Visit the ' +\n",
              "            '<a target=\"_blank\" href=https://colab.research.google.com/notebooks/data_table.ipynb>data table notebook</a>'\n",
              "            + ' to learn more about interactive tables.';\n",
              "          element.innerHTML = '';\n",
              "          dataTable['output_type'] = 'display_data';\n",
              "          await google.colab.output.renderOutput(dataTable, element);\n",
              "          const docLink = document.createElement('div');\n",
              "          docLink.innerHTML = docLinkHtml;\n",
              "          element.appendChild(docLink);\n",
              "        }\n",
              "      </script>\n",
              "    </div>\n",
              "  </div>\n",
              "  "
            ]
          },
          "metadata": {},
          "execution_count": 236
        }
      ]
    },
    {
      "cell_type": "code",
      "source": [
        "df.groupby(\"agglo\")[\"agglo\"].agg(pd.Series.count)"
      ],
      "metadata": {
        "colab": {
          "base_uri": "https://localhost:8080/"
        },
        "id": "41xVNZP4IJIj",
        "outputId": "7cc6eb85-0e72-405f-e4fb-66b51e4d3e8a"
      },
      "execution_count": 237,
      "outputs": [
        {
          "output_type": "execute_result",
          "data": {
            "text/plain": [
              "agglo\n",
              "0    121\n",
              "1     50\n",
              "2    119\n",
              "3     18\n",
              "Name: agglo, dtype: int64"
            ]
          },
          "metadata": {},
          "execution_count": 237
        }
      ]
    },
    {
      "cell_type": "markdown",
      "source": [
        "# [Michan] Hierarchical Visualization"
      ],
      "metadata": {
        "id": "gZjfsEFOqLro"
      }
    },
    {
      "cell_type": "markdown",
      "source": [
        "[Michan] Single Linkage"
      ],
      "metadata": {
        "id": "6qpiPUi_qV19"
      }
    },
    {
      "cell_type": "code",
      "source": [
        "import scipy.cluster.hierarchy as hie\n",
        "\n",
        "plt.figure(figsize=(10,7))\n",
        "plt.title(\"Customer Hierarchical Clustering with MIN Method\", pad=20)\n",
        "dendro = hie.dendrogram(hie.linkage(df2, method=\"single\"))"
      ],
      "metadata": {
        "colab": {
          "base_uri": "https://localhost:8080/",
          "height": 458
        },
        "id": "2r064c_9qLU9",
        "outputId": "2520eff3-c5b6-4442-d32f-807411f6c04d"
      },
      "execution_count": 238,
      "outputs": [
        {
          "output_type": "display_data",
          "data": {
            "text/plain": [
              "<Figure size 720x504 with 1 Axes>"
            ],
            "image/png": "[encoded data removed]"
          },
          "metadata": {
            "needs_background": "light"
          }
        }
      ]
    },
    {
      "cell_type": "markdown",
      "source": [
        "[Michan] complete linkage"
      ],
      "metadata": {
        "id": "NLXusmjnqiKs"
      }
    },
    {
      "cell_type": "code",
      "source": [
        "plt.figure(figsize=(10,7))\n",
        "plt.title(\"Customer Hierarchical Clustering with MAX Method\", pad=20)\n",
        "dendro = hie.dendrogram(hie.linkage(df2, method=\"complete\"))"
      ],
      "metadata": {
        "colab": {
          "base_uri": "https://localhost:8080/",
          "height": 458
        },
        "id": "nY9cZ22PqmDv",
        "outputId": "c83fa78a-aa61-4419-efdd-d4823bf15df2"
      },
      "execution_count": 240,
      "outputs": [
        {
          "output_type": "display_data",
          "data": {
            "text/plain": [
              "<Figure size 720x504 with 1 Axes>"
            ],
            "image/png": "[encoded data removed]"
          },
          "metadata": {
            "needs_background": "light"
          }
        }
      ]
    },
    {
      "cell_type": "markdown",
      "source": [
        "[Michan] average linkage"
      ],
      "metadata": {
        "id": "KTzdIUgBqxlv"
      }
    },
    {
      "cell_type": "code",
      "source": [
        "plt.figure(figsize=(10,7))\n",
        "plt.title(\"Customer Hierarchical Clustering with AVERAGE Method\", pad=20)\n",
        "dendro = hie.dendrogram(hie.linkage(df2, method=\"average\"))"
      ],
      "metadata": {
        "colab": {
          "base_uri": "https://localhost:8080/",
          "height": 458
        },
        "id": "SDVKBXKxq12g",
        "outputId": "947f8ff5-ef59-47e4-ff53-a2597c4dff25"
      },
      "execution_count": 242,
      "outputs": [
        {
          "output_type": "display_data",
          "data": {
            "text/plain": [
              "<Figure size 720x504 with 1 Axes>"
            ],
            "image/png": "[encoded data removed]"
          },
          "metadata": {
            "needs_background": "light"
          }
        }
      ]
    },
    {
      "cell_type": "markdown",
      "source": [
        "[Michan] ward linkage"
      ],
      "metadata": {
        "id": "Dh9oOv59q9E5"
      }
    },
    {
      "cell_type": "code",
      "source": [
        "plt.figure(figsize=(10,7))\n",
        "plt.title(\"Customer Hierarchical Clustering with WARD Method\", pad=20)\n",
        "dendro = hie.dendrogram(hie.linkage(df2, method=\"ward\"))"
      ],
      "metadata": {
        "colab": {
          "base_uri": "https://localhost:8080/",
          "height": 458
        },
        "id": "6315xN-arAp9",
        "outputId": "e0cc7100-a9ba-4922-b775-b8d01c66f532"
      },
      "execution_count": 244,
      "outputs": [
        {
          "output_type": "display_data",
          "data": {
            "text/plain": [
              "<Figure size 720x504 with 1 Axes>"
            ],
            "image/png": "[encoded data removed]"
          },
          "metadata": {
            "needs_background": "light"
          }
        }
      ]
    }
  ]
}