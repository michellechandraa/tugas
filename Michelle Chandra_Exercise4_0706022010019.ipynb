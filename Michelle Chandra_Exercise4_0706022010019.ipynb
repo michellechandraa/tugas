{
  "nbformat": 4,
  "nbformat_minor": 0,
  "metadata": {
    "colab": {
      "provenance": [],
      "collapsed_sections": []
    },
    "kernelspec": {
      "name": "python3",
      "display_name": "Python 3"
    },
    "language_info": {
      "name": "python"
    }
  },
  "cells": [
    {
      "cell_type": "markdown",
      "metadata": {
        "id": "59lmf9GN_pz9"
      },
      "source": [
        "#Week 4: Supervised Learning - Classification - Iris\n",
        "-------------------------------------\n",
        "Lab exercise kali ini menggunakan dataset iris:\n",
        "https://raw.githubusercontent.com/catharinamega/Data-Mining-ISB-2020/main/Week%204/iris.csv\n",
        "\n",
        "Lakukan klasifikasi pada dataset tersebut dengan menggunakan 3 cara: Logistic Regression, Naive Bayes, dan K-Nearest Neighbor (dengan k=5)"
      ]
    },
    {
      "cell_type": "markdown",
      "metadata": {
        "id": "D-_Rri1ABBzs"
      },
      "source": [
        "## Import library"
      ]
    },
    {
      "cell_type": "code",
      "metadata": {
        "id": "o7qqljwHAty2"
      },
      "source": [
        "import numpy as np\n",
        "import matplotlib.pyplot as plt\n",
        "import pandas as pd\n",
        "import seaborn as sns\n",
        "from sklearn.model_selection import train_test_split\n",
        "from sklearn import metrics\n",
        "from sklearn.naive_bayes import GaussianNB\n",
        "from sklearn.neighbors import KNeighborsClassifier\n",
        "from sklearn.linear_model import LogisticRegression\n",
        "from sklearn.preprocessing import StandardScaler\n",
        "from sklearn.metrics import confusion_matrix, accuracy_score"
      ],
      "execution_count": 77,
      "outputs": []
    },
    {
      "cell_type": "markdown",
      "metadata": {
        "id": "SCknVHJuBFWF"
      },
      "source": [
        "## Load Dataset"
      ]
    },
    {
      "cell_type": "code",
      "metadata": {
        "id": "r9FYMEXZAy0a",
        "colab": {
          "base_uri": "https://localhost:8080/",
          "height": 206
        },
        "outputId": "e4dbcfb6-fc26-47fe-974a-856be734fa57"
      },
      "source": [
        "# Read CSV\n",
        "url = \"https://raw.githubusercontent.com/catharinamega/Data-Mining-ISB-2020/main/Week%204/iris.csv\"\n",
        "df = pd.read_csv(url)\n",
        "df.head(5)"
      ],
      "execution_count": 45,
      "outputs": [
        {
          "output_type": "execute_result",
          "data": {
            "text/plain": [
              "   sepal_length  sepal_width  petal_length  petal_width species\n",
              "0           5.1          3.5           1.4          0.2  setosa\n",
              "1           4.9          3.0           1.4          0.2  setosa\n",
              "2           4.7          3.2           1.3          0.2  setosa\n",
              "3           4.6          3.1           1.5          0.2  setosa\n",
              "4           5.0          3.6           1.4          0.2  setosa"
            ],
            "text/html": [
              "\n",
              "  <div id=\"df-08fd050a-118e-462e-a133-5826a4221387\">\n",
              "    <div class=\"colab-df-container\">\n",
              "      <div>\n",
              "<style scoped>\n",
              "    .dataframe tbody tr th:only-of-type {\n",
              "        vertical-align: middle;\n",
              "    }\n",
              "\n",
              "    .dataframe tbody tr th {\n",
              "        vertical-align: top;\n",
              "    }\n",
              "\n",
              "    .dataframe thead th {\n",
              "        text-align: right;\n",
              "    }\n",
              "</style>\n",
              "<table border=\"1\" class=\"dataframe\">\n",
              "  <thead>\n",
              "    <tr style=\"text-align: right;\">\n",
              "      <th></th>\n",
              "      <th>sepal_length</th>\n",
              "      <th>sepal_width</th>\n",
              "      <th>petal_length</th>\n",
              "      <th>petal_width</th>\n",
              "      <th>species</th>\n",
              "    </tr>\n",
              "  </thead>\n",
              "  <tbody>\n",
              "    <tr>\n",
              "      <th>0</th>\n",
              "      <td>5.1</td>\n",
              "      <td>3.5</td>\n",
              "      <td>1.4</td>\n",
              "      <td>0.2</td>\n",
              "      <td>setosa</td>\n",
              "    </tr>\n",
              "    <tr>\n",
              "      <th>1</th>\n",
              "      <td>4.9</td>\n",
              "      <td>3.0</td>\n",
              "      <td>1.4</td>\n",
              "      <td>0.2</td>\n",
              "      <td>setosa</td>\n",
              "    </tr>\n",
              "    <tr>\n",
              "      <th>2</th>\n",
              "      <td>4.7</td>\n",
              "      <td>3.2</td>\n",
              "      <td>1.3</td>\n",
              "      <td>0.2</td>\n",
              "      <td>setosa</td>\n",
              "    </tr>\n",
              "    <tr>\n",
              "      <th>3</th>\n",
              "      <td>4.6</td>\n",
              "      <td>3.1</td>\n",
              "      <td>1.5</td>\n",
              "      <td>0.2</td>\n",
              "      <td>setosa</td>\n",
              "    </tr>\n",
              "    <tr>\n",
              "      <th>4</th>\n",
              "      <td>5.0</td>\n",
              "      <td>3.6</td>\n",
              "      <td>1.4</td>\n",
              "      <td>0.2</td>\n",
              "      <td>setosa</td>\n",
              "    </tr>\n",
              "  </tbody>\n",
              "</table>\n",
              "</div>\n",
              "      <button class=\"colab-df-convert\" onclick=\"convertToInteractive('df-08fd050a-118e-462e-a133-5826a4221387')\"\n",
              "              title=\"Convert this dataframe to an interactive table.\"\n",
              "              style=\"display:none;\">\n",
              "        \n",
              "  <svg xmlns=\"http://www.w3.org/2000/svg\" height=\"24px\"viewBox=\"0 0 24 24\"\n",
              "       width=\"24px\">\n",
              "    <path d=\"M0 0h24v24H0V0z\" fill=\"none\"/>\n",
              "    <path d=\"M18.56 5.44l.94 2.06.94-2.06 2.06-.94-2.06-.94-.94-2.06-.94 2.06-2.06.94zm-11 1L8.5 8.5l.94-2.06 2.06-.94-2.06-.94L8.5 2.5l-.94 2.06-2.06.94zm10 10l.94 2.06.94-2.06 2.06-.94-2.06-.94-.94-2.06-.94 2.06-2.06.94z\"/><path d=\"M17.41 7.96l-1.37-1.37c-.4-.4-.92-.59-1.43-.59-.52 0-1.04.2-1.43.59L10.3 9.45l-7.72 7.72c-.78.78-.78 2.05 0 2.83L4 21.41c.39.39.9.59 1.41.59.51 0 1.02-.2 1.41-.59l7.78-7.78 2.81-2.81c.8-.78.8-2.07 0-2.86zM5.41 20L4 18.59l7.72-7.72 1.47 1.35L5.41 20z\"/>\n",
              "  </svg>\n",
              "      </button>\n",
              "      \n",
              "  <style>\n",
              "    .colab-df-container {\n",
              "      display:flex;\n",
              "      flex-wrap:wrap;\n",
              "      gap: 12px;\n",
              "    }\n",
              "\n",
              "    .colab-df-convert {\n",
              "      background-color: #E8F0FE;\n",
              "      border: none;\n",
              "      border-radius: 50%;\n",
              "      cursor: pointer;\n",
              "      display: none;\n",
              "      fill: #1967D2;\n",
              "      height: 32px;\n",
              "      padding: 0 0 0 0;\n",
              "      width: 32px;\n",
              "    }\n",
              "\n",
              "    .colab-df-convert:hover {\n",
              "      background-color: #E2EBFA;\n",
              "      box-shadow: 0px 1px 2px rgba(60, 64, 67, 0.3), 0px 1px 3px 1px rgba(60, 64, 67, 0.15);\n",
              "      fill: #174EA6;\n",
              "    }\n",
              "\n",
              "    [theme=dark] .colab-df-convert {\n",
              "      background-color: #3B4455;\n",
              "      fill: #D2E3FC;\n",
              "    }\n",
              "\n",
              "    [theme=dark] .colab-df-convert:hover {\n",
              "      background-color: #434B5C;\n",
              "      box-shadow: 0px 1px 3px 1px rgba(0, 0, 0, 0.15);\n",
              "      filter: drop-shadow(0px 1px 2px rgba(0, 0, 0, 0.3));\n",
              "      fill: #FFFFFF;\n",
              "    }\n",
              "  </style>\n",
              "\n",
              "      <script>\n",
              "        const buttonEl =\n",
              "          document.querySelector('#df-08fd050a-118e-462e-a133-5826a4221387 button.colab-df-convert');\n",
              "        buttonEl.style.display =\n",
              "          google.colab.kernel.accessAllowed ? 'block' : 'none';\n",
              "\n",
              "        async function convertToInteractive(key) {\n",
              "          const element = document.querySelector('#df-08fd050a-118e-462e-a133-5826a4221387');\n",
              "          const dataTable =\n",
              "            await google.colab.kernel.invokeFunction('convertToInteractive',\n",
              "                                                     [key], {});\n",
              "          if (!dataTable) return;\n",
              "\n",
              "          const docLinkHtml = 'Like what you see? Visit the ' +\n",
              "            '<a target=\"_blank\" href=https://colab.research.google.com/notebooks/data_table.ipynb>data table notebook</a>'\n",
              "            + ' to learn more about interactive tables.';\n",
              "          element.innerHTML = '';\n",
              "          dataTable['output_type'] = 'display_data';\n",
              "          await google.colab.output.renderOutput(dataTable, element);\n",
              "          const docLink = document.createElement('div');\n",
              "          docLink.innerHTML = docLinkHtml;\n",
              "          element.appendChild(docLink);\n",
              "        }\n",
              "      </script>\n",
              "    </div>\n",
              "  </div>\n",
              "  "
            ]
          },
          "metadata": {},
          "execution_count": 45
        }
      ]
    },
    {
      "cell_type": "markdown",
      "metadata": {
        "id": "hv8_UYnnBTYx"
      },
      "source": [
        "## Data Preprocessing"
      ]
    },
    {
      "cell_type": "markdown",
      "metadata": {
        "id": "shWWY2QSGewj"
      },
      "source": [
        "Periksa apakah ada baris yang duplikat\n",
        "\n"
      ]
    },
    {
      "cell_type": "code",
      "source": [
        "df.duplicated().any()"
      ],
      "metadata": {
        "colab": {
          "base_uri": "https://localhost:8080/"
        },
        "id": "wJ6hGSssFRBC",
        "outputId": "9da8e45d-e5e6-48b9-c3ce-cd102d121d83"
      },
      "execution_count": 46,
      "outputs": [
        {
          "output_type": "execute_result",
          "data": {
            "text/plain": [
              "True"
            ]
          },
          "metadata": {},
          "execution_count": 46
        }
      ]
    },
    {
      "cell_type": "markdown",
      "source": [
        "Periksa apakah ada missing values"
      ],
      "metadata": {
        "id": "vSvEybiKLomQ"
      }
    },
    {
      "cell_type": "code",
      "source": [
        "df.isna().any()"
      ],
      "metadata": {
        "colab": {
          "base_uri": "https://localhost:8080/"
        },
        "id": "RlNt-lKmLw_X",
        "outputId": "3efc3876-bee6-4924-c249-552db3822a5f"
      },
      "execution_count": 47,
      "outputs": [
        {
          "output_type": "execute_result",
          "data": {
            "text/plain": [
              "sepal_length    False\n",
              "sepal_width     False\n",
              "petal_length    False\n",
              "petal_width     False\n",
              "species         False\n",
              "dtype: bool"
            ]
          },
          "metadata": {},
          "execution_count": 47
        }
      ]
    },
    {
      "cell_type": "markdown",
      "source": [
        "Periksa outlier dengan boxplot untuk setiap kolom feature"
      ],
      "metadata": {
        "id": "6Q8ZWmLAID5m"
      }
    },
    {
      "cell_type": "code",
      "source": [
        "df.info()"
      ],
      "metadata": {
        "colab": {
          "base_uri": "https://localhost:8080/"
        },
        "id": "_2rDLvmLurq_",
        "outputId": "942cfdb9-397e-48f9-a390-af6eaaa5b405"
      },
      "execution_count": 48,
      "outputs": [
        {
          "output_type": "stream",
          "name": "stdout",
          "text": [
            "<class 'pandas.core.frame.DataFrame'>\n",
            "RangeIndex: 150 entries, 0 to 149\n",
            "Data columns (total 5 columns):\n",
            " #   Column        Non-Null Count  Dtype  \n",
            "---  ------        --------------  -----  \n",
            " 0   sepal_length  150 non-null    float64\n",
            " 1   sepal_width   150 non-null    float64\n",
            " 2   petal_length  150 non-null    float64\n",
            " 3   petal_width   150 non-null    float64\n",
            " 4   species       150 non-null    object \n",
            "dtypes: float64(4), object(1)\n",
            "memory usage: 6.0+ KB\n"
          ]
        }
      ]
    },
    {
      "cell_type": "code",
      "source": [
        "# le = LabelEncoder()\n",
        "# df[\"species\"] = le.fit_transform(df[\"species\"])\n",
        "\n",
        "fig, axes = plt.subplots(2, 2, figsize=(8,7))\n",
        "sns.boxplot(x=df[\"species\"], y=df[\"sepal_length\"], orient='v', ax=axes[0,0])\n",
        "sns.boxplot(x=df[\"species\"], y=df[\"sepal_width\"], orient='v', ax=axes[0,1])\n",
        "sns.boxplot(x=df[\"species\"], y=df[\"petal_length\"], orient='v', ax=axes[1,0])\n",
        "sns.boxplot(x=df[\"species\"], y=df[\"petal_width\"], orient='v', ax=axes[1,1])\n",
        "plt.show()"
      ],
      "metadata": {
        "colab": {
          "base_uri": "https://localhost:8080/",
          "height": 445
        },
        "id": "g8uA0mTDIC3w",
        "outputId": "32e75717-c34c-437c-e8d5-7d7572ef8adf"
      },
      "execution_count": 68,
      "outputs": [
        {
          "output_type": "display_data",
          "data": {
            "text/plain": [
              "<Figure size 576x504 with 4 Axes>"
            ],
            "image/png": "[encoded data removed]"
          },
          "metadata": {
            "needs_background": "light"
          }
        }
      ]
    },
    {
      "cell_type": "markdown",
      "metadata": {
        "id": "x1Jp_nX3DoIN"
      },
      "source": [
        "Pisahkan dataset menjadi variabel independen dan variabel dependen"
      ]
    },
    {
      "cell_type": "code",
      "metadata": {
        "id": "1AAkxvSgB4ao"
      },
      "source": [
        "X = df.iloc[:, :-1].values\n",
        "y = df.iloc[:, -1].values"
      ],
      "execution_count": 69,
      "outputs": []
    },
    {
      "cell_type": "markdown",
      "metadata": {
        "id": "tM7meP78DvRO"
      },
      "source": [
        "Pisahkan dataset train dan test dataset, dengan ukuran dataset test 0.1"
      ]
    },
    {
      "cell_type": "code",
      "metadata": {
        "id": "FFg5hkAMEyCo"
      },
      "source": [
        "X_train, X_test, y_train, y_test = train_test_split(X, y, test_size = 0.1, random_state = 0)"
      ],
      "execution_count": 70,
      "outputs": []
    },
    {
      "cell_type": "markdown",
      "metadata": {
        "id": "i8kBslhcGv3A"
      },
      "source": [
        "Lakukan fitur scaling pada variabel X_train dan X_test. "
      ]
    },
    {
      "cell_type": "code",
      "metadata": {
        "id": "AiCPrBd4JyDf"
      },
      "source": [
        "sc = StandardScaler()\n",
        "X_train = sc.fit_transform(X_train)\n",
        "X_test = sc.transform(X_test)"
      ],
      "execution_count": 72,
      "outputs": []
    },
    {
      "cell_type": "markdown",
      "metadata": {
        "id": "M9Wnfyt7ApS7"
      },
      "source": [
        "#Logistic Regression"
      ]
    },
    {
      "cell_type": "markdown",
      "metadata": {
        "id": "mN-9NfADFAmn"
      },
      "source": [
        "Bangun model dan ukur accuracy nya"
      ]
    },
    {
      "cell_type": "code",
      "metadata": {
        "colab": {
          "base_uri": "https://localhost:8080/"
        },
        "id": "7nNOFcp_FETB",
        "outputId": "6ffed7a2-6f33-49d4-8abe-b1ccbf9ab914"
      },
      "source": [
        "classifier = LogisticRegression(random_state=0)\n",
        "classifier.fit(X_train, y_train)"
      ],
      "execution_count": 73,
      "outputs": [
        {
          "output_type": "execute_result",
          "data": {
            "text/plain": [
              "LogisticRegression(random_state=0)"
            ]
          },
          "metadata": {},
          "execution_count": 73
        }
      ]
    },
    {
      "cell_type": "markdown",
      "metadata": {
        "id": "zZyes8UOVhsy"
      },
      "source": [
        "Uji model dengan dataset test"
      ]
    },
    {
      "cell_type": "code",
      "metadata": {
        "colab": {
          "base_uri": "https://localhost:8080/"
        },
        "id": "W1W8JtIXVlRF",
        "outputId": "8d6f48dd-117d-44a5-b0ed-f8d1925b7019"
      },
      "source": [
        "model = LogisticRegression()\n",
        "model.fit(X_train,y_train)\n",
        "print(y_train)"
      ],
      "execution_count": 76,
      "outputs": [
        {
          "output_type": "stream",
          "name": "stdout",
          "text": [
            "['setosa' 'versicolor' 'versicolor' 'setosa' 'setosa' 'virginica'\n",
            " 'versicolor' 'setosa' 'setosa' 'virginica' 'setosa' 'setosa' 'versicolor'\n",
            " 'versicolor' 'setosa' 'virginica' 'versicolor' 'setosa' 'virginica'\n",
            " 'virginica' 'versicolor' 'setosa' 'versicolor' 'versicolor' 'versicolor'\n",
            " 'virginica' 'setosa' 'virginica' 'setosa' 'setosa' 'versicolor'\n",
            " 'virginica' 'virginica' 'virginica' 'virginica' 'versicolor' 'virginica'\n",
            " 'versicolor' 'versicolor' 'virginica' 'virginica' 'virginica' 'virginica'\n",
            " 'versicolor' 'virginica' 'versicolor' 'setosa' 'virginica' 'versicolor'\n",
            " 'versicolor' 'versicolor' 'versicolor' 'virginica' 'setosa' 'setosa'\n",
            " 'virginica' 'versicolor' 'setosa' 'setosa' 'versicolor' 'setosa'\n",
            " 'virginica' 'versicolor' 'setosa' 'versicolor' 'virginica' 'versicolor'\n",
            " 'setosa' 'virginica' 'virginica' 'virginica' 'virginica' 'setosa'\n",
            " 'setosa' 'virginica' 'virginica' 'setosa' 'virginica' 'setosa'\n",
            " 'virginica' 'virginica' 'setosa' 'setosa' 'virginica' 'setosa' 'setosa'\n",
            " 'setosa' 'versicolor' 'virginica' 'virginica' 'setosa' 'setosa' 'setosa'\n",
            " 'versicolor' 'versicolor' 'setosa' 'setosa' 'versicolor' 'setosa'\n",
            " 'virginica' 'versicolor' 'virginica' 'versicolor' 'setosa' 'virginica'\n",
            " 'setosa' 'virginica' 'setosa' 'setosa' 'virginica' 'setosa' 'virginica'\n",
            " 'versicolor' 'versicolor' 'versicolor' 'virginica' 'virginica'\n",
            " 'versicolor' 'versicolor' 'setosa' 'versicolor' 'virginica' 'virginica'\n",
            " 'setosa' 'versicolor' 'versicolor' 'versicolor' 'versicolor' 'setosa'\n",
            " 'setosa' 'setosa' 'virginica' 'versicolor' 'virginica' 'setosa']\n"
          ]
        }
      ]
    },
    {
      "cell_type": "code",
      "metadata": {
        "colab": {
          "base_uri": "https://localhost:8080/"
        },
        "id": "62aDHBp_O_rp",
        "outputId": "6fc6961d-68a3-4799-fbc7-6f6565b9a334"
      },
      "source": [
        "y_pred = classifier.predict(X_test)\n",
        "cm = confusion_matrix(y_test, y_pred)\n",
        "print(\"Confusion Matrix\\n\", cm)\n",
        "print(\"Accuracy Score: \", accuracy_score(y_test, y_pred))"
      ],
      "execution_count": 78,
      "outputs": [
        {
          "output_type": "stream",
          "name": "stdout",
          "text": [
            "Confusion Matrix\n",
            " [[3 0 0]\n",
            " [0 8 0]\n",
            " [0 0 4]]\n",
            "Accuracy Score:  1.0\n"
          ]
        }
      ]
    },
    {
      "cell_type": "markdown",
      "metadata": {
        "id": "SS6eNQWKLdpn"
      },
      "source": [
        "# Naive Bayes\n",
        "\n",
        "Buat model persamaan berdasarkan data training yang sudah dibuat pada tahap preprocess"
      ]
    },
    {
      "cell_type": "code",
      "metadata": {
        "id": "tKgc72ocP3IB"
      },
      "source": [
        "gnb = GaussianNB()"
      ],
      "execution_count": 79,
      "outputs": []
    },
    {
      "cell_type": "markdown",
      "metadata": {
        "id": "4kjfj39PQch0"
      },
      "source": [
        "Uji hasil model dengan data test"
      ]
    },
    {
      "cell_type": "code",
      "metadata": {
        "colab": {
          "base_uri": "https://localhost:8080/"
        },
        "id": "XlKc_hcrQiwS",
        "outputId": "42bb78bd-3680-4bfa-9306-bb13d575f648"
      },
      "source": [
        "gnb.fit(X_train,y_train)\n",
        "print(y_train)"
      ],
      "execution_count": 80,
      "outputs": [
        {
          "output_type": "stream",
          "name": "stdout",
          "text": [
            "['setosa' 'versicolor' 'versicolor' 'setosa' 'setosa' 'virginica'\n",
            " 'versicolor' 'setosa' 'setosa' 'virginica' 'setosa' 'setosa' 'versicolor'\n",
            " 'versicolor' 'setosa' 'virginica' 'versicolor' 'setosa' 'virginica'\n",
            " 'virginica' 'versicolor' 'setosa' 'versicolor' 'versicolor' 'versicolor'\n",
            " 'virginica' 'setosa' 'virginica' 'setosa' 'setosa' 'versicolor'\n",
            " 'virginica' 'virginica' 'virginica' 'virginica' 'versicolor' 'virginica'\n",
            " 'versicolor' 'versicolor' 'virginica' 'virginica' 'virginica' 'virginica'\n",
            " 'versicolor' 'virginica' 'versicolor' 'setosa' 'virginica' 'versicolor'\n",
            " 'versicolor' 'versicolor' 'versicolor' 'virginica' 'setosa' 'setosa'\n",
            " 'virginica' 'versicolor' 'setosa' 'setosa' 'versicolor' 'setosa'\n",
            " 'virginica' 'versicolor' 'setosa' 'versicolor' 'virginica' 'versicolor'\n",
            " 'setosa' 'virginica' 'virginica' 'virginica' 'virginica' 'setosa'\n",
            " 'setosa' 'virginica' 'virginica' 'setosa' 'virginica' 'setosa'\n",
            " 'virginica' 'virginica' 'setosa' 'setosa' 'virginica' 'setosa' 'setosa'\n",
            " 'setosa' 'versicolor' 'virginica' 'virginica' 'setosa' 'setosa' 'setosa'\n",
            " 'versicolor' 'versicolor' 'setosa' 'setosa' 'versicolor' 'setosa'\n",
            " 'virginica' 'versicolor' 'virginica' 'versicolor' 'setosa' 'virginica'\n",
            " 'setosa' 'virginica' 'setosa' 'setosa' 'virginica' 'setosa' 'virginica'\n",
            " 'versicolor' 'versicolor' 'versicolor' 'virginica' 'virginica'\n",
            " 'versicolor' 'versicolor' 'setosa' 'versicolor' 'virginica' 'virginica'\n",
            " 'setosa' 'versicolor' 'versicolor' 'versicolor' 'versicolor' 'setosa'\n",
            " 'setosa' 'setosa' 'virginica' 'versicolor' 'virginica' 'setosa']\n"
          ]
        }
      ]
    },
    {
      "cell_type": "markdown",
      "metadata": {
        "id": "BVSh48SQQsAy"
      },
      "source": [
        "Ukur akurasi dari model persamaan Naive Bayes Classifier"
      ]
    },
    {
      "cell_type": "code",
      "metadata": {
        "colab": {
          "base_uri": "https://localhost:8080/"
        },
        "id": "wH6jeQxqQjYo",
        "outputId": "45c0ea23-c6fb-44da-8f55-9c206c3cf0d2"
      },
      "source": [
        "y_pred = classifier.predict(X_test)\n",
        "cm = confusion_matrix(y_test, y_pred)\n",
        "print(\"Confusion Matrix\\n\", cm)\n",
        "print(\"Accuracy Score: \", accuracy_score(y_test, y_pred))"
      ],
      "execution_count": 81,
      "outputs": [
        {
          "output_type": "stream",
          "name": "stdout",
          "text": [
            "Confusion Matrix\n",
            " [[3 0 0]\n",
            " [0 8 0]\n",
            " [0 0 4]]\n",
            "Accuracy Score:  1.0\n"
          ]
        }
      ]
    },
    {
      "cell_type": "markdown",
      "metadata": {
        "id": "WIB_g5-BRSsu"
      },
      "source": [
        "# K-Nearest Neighbour (K-NN) Classifier"
      ]
    },
    {
      "cell_type": "markdown",
      "metadata": {
        "id": "WwzQ0Xo5Rexr"
      },
      "source": [
        "Buatlah model KNN berdasarkan data training yang sudah dibuat di tahap preprocess, gunakan metric pengukuran jarak 'euclidean'"
      ]
    },
    {
      "cell_type": "code",
      "metadata": {
        "id": "_ESV58YzRQe4"
      },
      "source": [
        "knn_classifier = KNeighborsClassifier(n_neighbors = 5, metric = \"euclidean\")"
      ],
      "execution_count": 83,
      "outputs": []
    },
    {
      "cell_type": "markdown",
      "metadata": {
        "id": "JvkdoXUpTYmA"
      },
      "source": [
        "Uji model dengan data test"
      ]
    },
    {
      "cell_type": "code",
      "metadata": {
        "colab": {
          "base_uri": "https://localhost:8080/"
        },
        "id": "jcmAu9Y2TcME",
        "outputId": "f1112f2e-9862-477f-dfcc-98d7b3d391e2"
      },
      "source": [
        "knn_classifier.fit(X_train, y_train)\n",
        "print(y_train)"
      ],
      "execution_count": 84,
      "outputs": [
        {
          "output_type": "stream",
          "name": "stdout",
          "text": [
            "['setosa' 'versicolor' 'versicolor' 'setosa' 'setosa' 'virginica'\n",
            " 'versicolor' 'setosa' 'setosa' 'virginica' 'setosa' 'setosa' 'versicolor'\n",
            " 'versicolor' 'setosa' 'virginica' 'versicolor' 'setosa' 'virginica'\n",
            " 'virginica' 'versicolor' 'setosa' 'versicolor' 'versicolor' 'versicolor'\n",
            " 'virginica' 'setosa' 'virginica' 'setosa' 'setosa' 'versicolor'\n",
            " 'virginica' 'virginica' 'virginica' 'virginica' 'versicolor' 'virginica'\n",
            " 'versicolor' 'versicolor' 'virginica' 'virginica' 'virginica' 'virginica'\n",
            " 'versicolor' 'virginica' 'versicolor' 'setosa' 'virginica' 'versicolor'\n",
            " 'versicolor' 'versicolor' 'versicolor' 'virginica' 'setosa' 'setosa'\n",
            " 'virginica' 'versicolor' 'setosa' 'setosa' 'versicolor' 'setosa'\n",
            " 'virginica' 'versicolor' 'setosa' 'versicolor' 'virginica' 'versicolor'\n",
            " 'setosa' 'virginica' 'virginica' 'virginica' 'virginica' 'setosa'\n",
            " 'setosa' 'virginica' 'virginica' 'setosa' 'virginica' 'setosa'\n",
            " 'virginica' 'virginica' 'setosa' 'setosa' 'virginica' 'setosa' 'setosa'\n",
            " 'setosa' 'versicolor' 'virginica' 'virginica' 'setosa' 'setosa' 'setosa'\n",
            " 'versicolor' 'versicolor' 'setosa' 'setosa' 'versicolor' 'setosa'\n",
            " 'virginica' 'versicolor' 'virginica' 'versicolor' 'setosa' 'virginica'\n",
            " 'setosa' 'virginica' 'setosa' 'setosa' 'virginica' 'setosa' 'virginica'\n",
            " 'versicolor' 'versicolor' 'versicolor' 'virginica' 'virginica'\n",
            " 'versicolor' 'versicolor' 'setosa' 'versicolor' 'virginica' 'virginica'\n",
            " 'setosa' 'versicolor' 'versicolor' 'versicolor' 'versicolor' 'setosa'\n",
            " 'setosa' 'setosa' 'virginica' 'versicolor' 'virginica' 'setosa']\n"
          ]
        }
      ]
    },
    {
      "cell_type": "markdown",
      "metadata": {
        "id": "jOGui9qYRxMv"
      },
      "source": [
        "Ukur akurasi dari model K-Nearest Neighbor"
      ]
    },
    {
      "cell_type": "code",
      "metadata": {
        "colab": {
          "base_uri": "https://localhost:8080/"
        },
        "id": "lLMIOnTJS37y",
        "outputId": "dc996295-0a6e-4fe5-c091-da7aa79fdc2c"
      },
      "source": [
        "y_pred = classifier.predict(X_test)\n",
        "cm = confusion_matrix(y_test, y_pred)\n",
        "print(\"Confusion Matrix\\n\", cm)\n",
        "print(\"Accuracy Score: \", accuracy_score(y_test, y_pred))"
      ],
      "execution_count": 85,
      "outputs": [
        {
          "output_type": "stream",
          "name": "stdout",
          "text": [
            "Confusion Matrix\n",
            " [[3 0 0]\n",
            " [0 8 0]\n",
            " [0 0 4]]\n",
            "Accuracy Score:  1.0\n"
          ]
        }
      ]
    },
    {
      "cell_type": "markdown",
      "metadata": {
        "id": "NSHLmIIeT3jP"
      },
      "source": [
        "#Kesimpulan\n",
        "Dari 3 model klasifikasi di atas (Logistic Regression, Naive Bayes, K-Nearest Neighbor) model klasifikasi dengan akurasi tertinggi adalah..."
      ]
    },
    {
      "cell_type": "code",
      "source": [
        "#Kesimpulan yang bisa didapat adalah ketiga model memiliki akurasi yang sama tingginya yaitu 1.0."
      ],
      "metadata": {
        "id": "hvwF_ckCCiLb"
      },
      "execution_count": null,
      "outputs": []
    }
  ]
}