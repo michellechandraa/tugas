{
  "nbformat": 4,
  "nbformat_minor": 0,
  "metadata": {
    "colab": {
      "provenance": []
    },
    "kernelspec": {
      "name": "python3",
      "display_name": "Python 3"
    },
    "language_info": {
      "name": "python"
    }
  },
  "cells": [
    {
      "cell_type": "markdown",
      "source": [
        "Data Mining\n",
        "ALP\n",
        "Michelle Chandra - 0706022010019"
      ],
      "metadata": {
        "id": "enVvP_Ie6TBS"
      }
    },
    {
      "cell_type": "code",
      "execution_count": null,
      "metadata": {
        "id": "x106pY3v6RDn"
      },
      "outputs": [],
      "source": []
    }
  ]
}