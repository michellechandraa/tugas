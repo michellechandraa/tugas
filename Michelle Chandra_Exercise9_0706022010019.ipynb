{
  "nbformat": 4,
  "nbformat_minor": 0,
  "metadata": {
    "colab": {
      "provenance": []
    },
    "kernelspec": {
      "name": "python3",
      "display_name": "Python 3"
    },
    "language_info": {
      "name": "python"
    }
  },
  "cells": [
    {
      "cell_type": "markdown",
      "source": [
        "# EXERCISE 9\n",
        "Nama: Michelle Chandra <br> \n",
        "NIM: 0706022010019 <br>\n",
        "Data Mining Week 9"
      ],
      "metadata": {
        "id": "zBIOPrzp_aXB"
      }
    },
    {
      "cell_type": "code",
      "execution_count": null,
      "metadata": {
        "id": "AXHQ3tJn-AFI"
      },
      "outputs": [],
      "source": []
    }
  ]
}